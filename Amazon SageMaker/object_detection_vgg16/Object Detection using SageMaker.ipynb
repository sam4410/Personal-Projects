{
 "cells": [
  {
   "cell_type": "code",
   "execution_count": 2,
   "metadata": {},
   "outputs": [],
   "source": [
    "import sagemaker\n",
    "from sagemaker import get_execution_role\n",
    "import numpy as np\n",
    "import pandas as pd\n",
    "import boto3\n",
    "import re\n",
    "from sagemaker.amazon.amazon_estimator import get_image_uri\n",
    "import os\n",
    "import urllib.request\n",
    "import json\n",
    "import logging\n",
    "import shutil\n",
    "from imageio import imread\n",
    "import scipy.io as sio\n",
    "import warnings\n",
    "warnings.filterwarnings('ignore')"
   ]
  },
  {
   "cell_type": "code",
   "execution_count": 3,
   "metadata": {},
   "outputs": [],
   "source": [
    "%%bash\n",
    "mkdir car-generated car-train car-train_annotation car-validation car-validation_annotation"
   ]
  },
  {
   "cell_type": "code",
   "execution_count": 4,
   "metadata": {},
   "outputs": [],
   "source": [
    "def download_data(url):\n",
    "    filename = url.split(\"/\")[-1]\n",
    "    if not os.path.exists(filename):\n",
    "        urllib.request.urlretrieve(url, filename)"
   ]
  },
  {
   "cell_type": "code",
   "execution_count": 5,
   "metadata": {},
   "outputs": [],
   "source": [
    "download_data('http://imagenet.stanford.edu/internal/car196/cars_train.tgz')"
   ]
  },
  {
   "cell_type": "code",
   "execution_count": 7,
   "metadata": {},
   "outputs": [],
   "source": [
    "download_data('http://ai.stanford.edu/~jkrause/cars/car_devkit.tgz')"
   ]
  },
  {
   "cell_type": "code",
   "execution_count": 8,
   "metadata": {},
   "outputs": [],
   "source": [
    "%%bash\n",
    "tar -xzf car_devkit.tgz\n",
    "tar -xzf cars_train.tgz"
   ]
  },
  {
   "cell_type": "code",
   "execution_count": 10,
   "metadata": {},
   "outputs": [],
   "source": [
    "bucket = 'awsmlprac'\n",
    "prefix = 'ObjectDetection'\n",
    "\n",
    "role = get_execution_role()\n",
    "sess = sagemaker.Session()"
   ]
  },
  {
   "cell_type": "code",
   "execution_count": 14,
   "metadata": {},
   "outputs": [],
   "source": [
    "training_image = get_image_uri(sess.boto_region_name, 'object-detection', repo_version = 'latest')"
   ]
  },
  {
   "cell_type": "code",
   "execution_count": 21,
   "metadata": {},
   "outputs": [],
   "source": [
    "def getClasses(matFile):\n",
    "    content = sio.loadmat(matFile)\n",
    "    classes = [(_[0]) for _ in content['class_names'][0]]\n",
    "    return classes\n",
    "\n",
    "def getAnnos(matFile):\n",
    "    content = sio.loadmat(matFile)\n",
    "    return content['annotations'][0]\n",
    "\n",
    "def get_mapper_fn(map):\n",
    "    def mapper(in_category):\n",
    "        return map[in_category]\n",
    "    return mapper\n",
    "\n",
    "def get_class_mapper():\n",
    "    original_list = [i for i in range(197)][1:]\n",
    "    iter_counter = 0\n",
    "    CLASS = {}\n",
    "    for orig in original_list:\n",
    "        CLASS[orig] = iter_counter\n",
    "        iter_counter += 1\n",
    "    return CLASS"
   ]
  },
  {
   "cell_type": "code",
   "execution_count": 16,
   "metadata": {},
   "outputs": [],
   "source": [
    "fix_index_mapping = get_mapper_fn(get_class_mapper())"
   ]
  },
  {
   "cell_type": "code",
   "execution_count": 17,
   "metadata": {},
   "outputs": [
    {
     "data": {
      "text/plain": [
       "<function __main__.get_mapper_fn.<locals>.mapper(in_category)>"
      ]
     },
     "execution_count": 17,
     "metadata": {},
     "output_type": "execute_result"
    }
   ],
   "source": [
    "fix_index_mapping"
   ]
  },
  {
   "cell_type": "code",
   "execution_count": 18,
   "metadata": {},
   "outputs": [],
   "source": [
    "images = os.listdir('cars_train')\n",
    "for f in images[:]:\n",
    "    if not(f.endswith(\".jpg\")):\n",
    "        images.remove(f)"
   ]
  },
  {
   "cell_type": "code",
   "execution_count": 19,
   "metadata": {},
   "outputs": [
    {
     "data": {
      "text/plain": [
       "['02963.jpg', '05003.jpg', '04527.jpg', '00463.jpg', '01302.jpg']"
      ]
     },
     "execution_count": 19,
     "metadata": {},
     "output_type": "execute_result"
    }
   ],
   "source": [
    "images[0:5]"
   ]
  },
  {
   "cell_type": "code",
   "execution_count": 22,
   "metadata": {},
   "outputs": [],
   "source": [
    "categories = getClasses('devkit/cars_meta.mat')\n",
    "annotations = getAnnos('devkit/cars_train_annos.mat')"
   ]
  },
  {
   "cell_type": "code",
   "execution_count": 23,
   "metadata": {},
   "outputs": [
    {
     "name": "stdout",
     "output_type": "stream",
     "text": [
      "196\n",
      "8144\n"
     ]
    }
   ],
   "source": [
    "print(len(categories))\n",
    "print(len(annotations))"
   ]
  },
  {
   "cell_type": "code",
   "execution_count": 25,
   "metadata": {},
   "outputs": [],
   "source": [
    "for img in images:\n",
    "    shape = imread('cars_train/{}'.format(img)).shape\n",
    "    jsonFile = img.split('.')[0]+'.json'\n",
    "    \n",
    "    line = {}\n",
    "    line['file'] = img\n",
    "    line['image_size'] = [{'width': int(shape[1]),\n",
    "                          'height': int(shape[0]),\n",
    "                          'depth': 3}]\n",
    "    line['annotations'] = []\n",
    "    line['categories'] = []\n",
    "    #print annotations\n",
    "    for anno in annotations:\n",
    "        if(anno[5][0] == img):\n",
    "            line['annotations'].append({'class_id': int(fix_index_mapping(anno[4][0][0])),\n",
    "                                       'top': int(anno[1][0][0]),\n",
    "                                       'left': int(anno[0][0][0]),\n",
    "                                       'width': abs(int(anno[2][0][0]) - int(anno[0][0][0])),\n",
    "                                       'height': abs(int(anno[3][0][0]) - int(anno[1][0][0]))})\n",
    "            class_name = ''\n",
    "            for ind, cat in enumerate(categories, start = 1):\n",
    "                if int(anno[4][0][0]) == ind:\n",
    "                    class_name = str(cat)\n",
    "            assert class_name is not ''\n",
    "            line['categories'].append({'class_id': int(anno[4][0][0]),\n",
    "                                      'name': class_name})\n",
    "    if line['annotations']:\n",
    "        with open(os.path.join('car-generated', jsonFile), 'w') as p:\n",
    "            json.dump(line, p)"
   ]
  },
  {
   "cell_type": "code",
   "execution_count": 26,
   "metadata": {},
   "outputs": [
    {
     "data": {
      "text/plain": [
       "{'file': '06881.jpg',\n",
       " 'image_size': [{'width': 640, 'height': 360, 'depth': 3}],\n",
       " 'annotations': [{'class_id': 83,\n",
       "   'top': 75,\n",
       "   'left': 28,\n",
       "   'width': 590,\n",
       "   'height': 215}],\n",
       " 'categories': [{'class_id': 84, 'name': 'Dodge Caliber Wagon 2007'}]}"
      ]
     },
     "execution_count": 26,
     "metadata": {},
     "output_type": "execute_result"
    }
   ],
   "source": [
    "#sample json entry\n",
    "line"
   ]
  },
  {
   "cell_type": "code",
   "execution_count": 27,
   "metadata": {},
   "outputs": [
    {
     "name": "stdout",
     "output_type": "stream",
     "text": [
      "8144 images with annotation\n"
     ]
    }
   ],
   "source": [
    "jsons = os.listdir('car-generated')\n",
    "print('{} images with annotation'.format(len(jsons)))"
   ]
  },
  {
   "cell_type": "code",
   "execution_count": 30,
   "metadata": {},
   "outputs": [],
   "source": [
    "train_jsons = jsons[:6516]  #80% data\n",
    "val_jsons = jsons[6516:]  #20% data\n",
    "\n",
    "#sorting data in train and validation folders to have separate data channels\n",
    "for i in train_jsons:\n",
    "    image_file = './cars_train/'+i.split('.')[0]+'.jpg'\n",
    "    if os.path.exists(image_file):\n",
    "        shutil.move(image_file, './car-train/')\n",
    "        shutil.move('./car-generated/'+i,'./car-train_annotation/')\n",
    "\n",
    "for i in val_jsons:\n",
    "    image_file = './cars_train/'+i.split('.')[0]+'.jpg'\n",
    "    if os.path.exists(image_file):\n",
    "        shutil.move(image_file, './car-validation/')\n",
    "        shutil.move('./car-generated/'+i, './car-validation_annotation/')"
   ]
  },
  {
   "cell_type": "code",
   "execution_count": 31,
   "metadata": {},
   "outputs": [],
   "source": [
    "train_channel = prefix+'/car-train'\n",
    "validation_channel = prefix+'/car-validation'\n",
    "train_annotation_channel = prefix+'/train_annotation'\n",
    "validation_annotation_channel = prefix+'/validation_annotation'\n",
    "\n",
    "sess.upload_data(path = 'car-train', bucket=bucket, key_prefix=train_channel)\n",
    "sess.upload_data(path = 'car-validation', bucket=bucket, key_prefix=validation_channel)\n",
    "sess.upload_data(path = 'car-train_annotation', bucket=bucket, key_prefix=train_annotation_channel)\n",
    "sess.upload_data(path = 'car-validation_annotation', bucket = bucket, key_prefix=validation_annotation_channel)\n",
    "\n",
    "s3_train_data = 's3://{}/{}'.format(bucket, train_channel)\n",
    "s3_validation_data = 's3://{}/{}'.format(bucket, validation_channel)\n",
    "s3_train_annotation = 's3://{}/{}'.format(bucket, train_annotation_channel)\n",
    "s3_validation_annotation = 's3://{}/{}'.format(bucket, validation_annotation_channel)"
   ]
  },
  {
   "cell_type": "code",
   "execution_count": 32,
   "metadata": {},
   "outputs": [],
   "source": [
    "#output location to save the model\n",
    "s3_output_location = 's3://{}/{}/output'.format(bucket, prefix)"
   ]
  },
  {
   "cell_type": "code",
   "execution_count": 33,
   "metadata": {},
   "outputs": [],
   "source": [
    "#build the model\n",
    "estimator = sagemaker.estimator.Estimator(training_image,\n",
    "                                         role,\n",
    "                                         train_instance_count = 1,\n",
    "                                         train_instance_type = 'ml.p2.8xlarge',\n",
    "                                         train_volume_size = 50,\n",
    "                                         train_max_run = 360000,\n",
    "                                         input_mode = 'File',\n",
    "                                         output_path = s3_output_location,\n",
    "                                         sagemaker_session = sess)"
   ]
  },
  {
   "cell_type": "code",
   "execution_count": 34,
   "metadata": {},
   "outputs": [],
   "source": [
    "#tuning the hyper parameter\n",
    "estimator.set_hyperparameters(base_network = 'vgg-16',\n",
    "                             use_pretrained_model = 1,\n",
    "                             num_classes = 196,\n",
    "                             mini_batch_size = 16,\n",
    "                             epochs = 10,\n",
    "                             learning_rate = 0.001,\n",
    "                             lr_scheduler_step = '10',\n",
    "                             lr_scheduler_factor = 0.1,\n",
    "                             optimizer = 'sgd',\n",
    "                             momentum = 0.9,\n",
    "                             weight_decay = 0.0005,\n",
    "                             overlap_threshold = 0.5,\n",
    "                             nms_threshold = 0.45,\n",
    "                             image_shape = 512,\n",
    "                             label_width = 600,\n",
    "                             num_training_samples = 6516)"
   ]
  },
  {
   "cell_type": "code",
   "execution_count": 37,
   "metadata": {},
   "outputs": [],
   "source": [
    "train_data = sagemaker.session.s3_input(s3_train_data,\n",
    "                                       distribution = 'FullyReplicated',\n",
    "                                       content_type = 'image/jpeg',\n",
    "                                       s3_data_type = 'S3Prefix')\n",
    "validation_data = sagemaker.session.s3_input(s3_validation_data,\n",
    "                                       distribution = 'FullyReplicated',\n",
    "                                       content_type = 'image/jpeg',\n",
    "                                       s3_data_type = 'S3Prefix')\n",
    "train_annotation = sagemaker.session.s3_input(s3_train_annotation,\n",
    "                                             distribution = 'FullyReplicated',\n",
    "                                             content_type = 'image/jpeg',\n",
    "                                             s3_data_type = 'S3Prefix')\n",
    "validation_annotation = sagemaker.session.s3_input(s3_validation_annotation,\n",
    "                                             distribution = 'FullyReplicated',\n",
    "                                             content_type = 'image/jpeg',\n",
    "                                             s3_data_type = 'S3Prefix')"
   ]
  },
  {
   "cell_type": "code",
   "execution_count": 38,
   "metadata": {},
   "outputs": [
    {
     "data": {
      "text/plain": [
       "{'train': <sagemaker.inputs.s3_input at 0x7f35bb8104e0>,\n",
       " 'validation': <sagemaker.inputs.s3_input at 0x7f35bb8103c8>,\n",
       " 'train_annotation': <sagemaker.inputs.s3_input at 0x7f35ba77b3c8>,\n",
       " 'validation_annotation': <sagemaker.inputs.s3_input at 0x7f35bb810128>}"
      ]
     },
     "execution_count": 38,
     "metadata": {},
     "output_type": "execute_result"
    }
   ],
   "source": [
    "data_channels = {'train': train_data, 'validation':validation_data,\n",
    "                'train_annotation':train_annotation, 'validation_annotation':validation_annotation}\n",
    "data_channels"
   ]
  },
  {
   "cell_type": "code",
   "execution_count": 39,
   "metadata": {},
   "outputs": [],
   "source": [
    "#fitting the model\n",
    "estimator.fit(inputs = data_channels, logs=True)"
   ]
  },
  {
   "cell_type": "code",
   "execution_count": 40,
   "metadata": {},
   "outputs": [],
   "source": [
    "#deploying model\n",
    "object_detector = estimator.deploy(initial_instance_count=1,\n",
    "                                  instance_type = 'ml.m4.xlarge')"
   ]
  },
  {
   "cell_type": "code",
   "execution_count": 41,
   "metadata": {},
   "outputs": [],
   "source": [
    "#file_name = 'photo.jpg'\n",
    "with open(file_name, 'rb') as image:\n",
    "    f = image.read()\n",
    "    b = bytearray(f)"
   ]
  },
  {
   "cell_type": "code",
   "execution_count": 42,
   "metadata": {},
   "outputs": [],
   "source": [
    "import json\n",
    "object_detector.content_type = 'image/jpeg'\n",
    "results = object_detector.predict(b)\n",
    "detections = json.loads(results)"
   ]
  },
  {
   "cell_type": "code",
   "execution_count": 43,
   "metadata": {},
   "outputs": [],
   "source": [
    "len(detections['prediction'])"
   ]
  },
  {
   "cell_type": "code",
   "execution_count": null,
   "metadata": {},
   "outputs": [],
   "source": [
    "#code provided by AWS for comprehending detection from trained oobject detection model\n",
    "def visualize_detection(img_file, dets, classes = [], thresh=0.6):\n",
    "    import random\n",
    "    import matplotlib.pyplot as plt\n",
    "    import matplotlib.image as mpimg\n",
    "    \n",
    "    img = mpimg.imread(img_file)\n",
    "    plt.imshow(img)\n",
    "    height = img.shape[0]\n",
    "    width = img.shape[1]\n",
    "    colors = dict()\n",
    "    for det in dets:\n",
    "        (klass, score, x0, y0, x1, y1) = det\n",
    "        if score < thresh:\n",
    "            continue\n",
    "        cls_id = int(klass)\n",
    "        if cls_id not in colors:\n",
    "            colors[cls_id] = (random.random(),random.random(),random.random())\n",
    "        xmin = int(x0 * width)\n",
    "        ymin = int(y0 * height)\n",
    "        xmax = int(x1 * width)\n",
    "        ymax = int(y1 * height)\n",
    "        rect = plt.Rectangle((xmin, ymin), xmax - xmin,\n",
    "                            ymax - ymin, fill = False,\n",
    "                            edgecolor = colors[cls_id],\n",
    "                            linewidth = 3.5)\n",
    "        plt.gca().add_patch(rect)\n",
    "        class_name = str(cls_id)\n",
    "        if classes and len(classes) > cls_id:\n",
    "            class_name = classes[cls_id]\n",
    "            print(class_name)\n",
    "        plt.gca().text(xmin, ymin-2,\n",
    "                      '{:s} {:.3f}'.format(class_name, score),\n",
    "                      bbox = dict(facecolor = colors[cls_id], alpha=0.5), fontsize = 12, color = 'red')\n",
    "        plt.show()"
   ]
  }
 ],
 "metadata": {
  "kernelspec": {
   "display_name": "conda_python3",
   "language": "python",
   "name": "conda_python3"
  },
  "language_info": {
   "codemirror_mode": {
    "name": "ipython",
    "version": 3
   },
   "file_extension": ".py",
   "mimetype": "text/x-python",
   "name": "python",
   "nbconvert_exporter": "python",
   "pygments_lexer": "ipython3",
   "version": "3.6.5"
  }
 },
 "nbformat": 4,
 "nbformat_minor": 4
}
