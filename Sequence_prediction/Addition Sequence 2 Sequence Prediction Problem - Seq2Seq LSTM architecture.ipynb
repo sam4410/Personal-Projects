{
 "cells": [
  {
   "cell_type": "markdown",
   "metadata": {},
   "source": [
    "Sequence prediction often involves forecasting the next value in a real valued sequence or outputting a class label for an input sequence.\n",
    "\n",
    "This is often framed as a sequence of one input time step to one output time step (e.g. one-to-one) or multiple input time steps to one output time step (many-to-one) type sequence prediction problem.\n",
    "\n",
    "There is a more challenging type of sequence prediction problem that takes a sequence as input and requires a sequence prediction as output. These are called sequence-to-sequence prediction problems, or seq2seq for short.\n",
    "\n",
    "One modeling concern that makes these problems challenging is that the length of the input and output sequences may vary. Given that there are multiple input time steps and multiple output time steps, this form of problem is referred to as many-to-many type sequence prediction problem."
   ]
  },
  {
   "cell_type": "markdown",
   "metadata": {},
   "source": [
    "#### Architecture"
   ]
  },
  {
   "cell_type": "markdown",
   "metadata": {},
   "source": [
    "The approach to seq2seq prediction problems that has proven very effective is called the Encoder Decoder LSTM. This architecture is comprised of two models: one for reading the input sequence and encoding it into a ﬁxed-length vector, and a second for decoding the ﬁxed-length vector and outputting the predicted sequence.\n",
    "\n",
    "The use of the models in concert gives the architecture its name of Encoder-Decoder LSTM designed speciﬁcally for seq2seq problems.\n",
    "\n",
    "The Encoder-Decoder LSTM was developed for natural language processing problems where it demonstrated state-of-the-art performance, speciﬁcally in the area of text translation called statistical machine translation.\n",
    "\n",
    "The innovation of this architecture is the use of a **ﬁxed-sized internal representation** at the core of the model that input sequences are read to and output sequences are read from. For this reason, the method may be referred to as **sequence embedding**."
   ]
  },
  {
   "cell_type": "code",
   "execution_count": 1,
   "metadata": {},
   "outputs": [
    {
     "data": {
      "image/png": "[encoded data removed]",
      "text/plain": [
       "<IPython.core.display.Image object>"
      ]
     },
     "execution_count": 1,
     "metadata": {},
     "output_type": "execute_result"
    }
   ],
   "source": [
    "from IPython.display import Image\n",
    "Image('C:/Users/Manoj/Desktop/Images/enc-dec lstm.png')"
   ]
  },
  {
   "cell_type": "markdown",
   "metadata": {},
   "source": [
    "#### Applications"
   ]
  },
  {
   "cell_type": "markdown",
   "metadata": {},
   "source": [
    "Below are the interesting applications of encoder-decoder LSTM architecture:\n",
    "\n",
    "* **Machine Translation** e.g. English to French translation of phrases\n",
    "* **Learning to Execute** e.g. calculate the outcome of small programs\n",
    "* **Image Captioning** e.g. generating a text description for images\n",
    "* **Conversational Modeling** e.g. generating answers to textual questions\n",
    "* **Movement Classiﬁcation** e.g. generating a sequence of commands from a sequence of gestures"
   ]
  },
  {
   "cell_type": "markdown",
   "metadata": {},
   "source": [
    "#### Implementation"
   ]
  },
  {
   "cell_type": "markdown",
   "metadata": {},
   "source": [
    "We can think of the model as being comprised of two key parts: the encoder and the decoder. First, the input sequence is shown to the network one encoded character at a time.\n",
    "\n",
    "We need an encoding level to learn the relationship between the steps in the input sequence and develop an internal representation of these relationships.\n",
    "\n",
    "One or more LSTM layers can be used to implement the encoder model. The output of this model is a ﬁxed-size vector that represents the internal representation of the input sequence.\n",
    "\n",
    "The number of memory cells in this layer deﬁnes the length of this ﬁxed-sized vector.\n",
    "\n",
    "The decoder must transform the learned internal representation of the input sequence into the correct output sequence. One or more LSTM layers can also be used to implement the decoder model.\n",
    "\n",
    "The same weights can be used to output each time step in the output sequence by wrapping the Dense layer in a **TimeDistributed** wrapper.\n",
    "\n",
    "There’s a problem though. We must connect the encoder to the decoder, and they do not ﬁt. That is, the encoder will produce a 2-dimensional matrix of outputs, where the length is deﬁned by the number of memory cells in the layer.\n",
    "\n",
    "The decoder is an LSTM layer that expects a 3D input of [samples, time steps, features] in order to produce a decoded sequence of some different length deﬁned by the problem.\n",
    "\n",
    "We can solve this using a RepeatVector layer. This layer simply repeats the provided 2D input multiple times to create a 3D output.\n",
    "\n",
    "The RepeatVector layer can be used like an adapter to ﬁt the encoder and decoder parts of the network together. We can conﬁgure the RepeatVector to repeat the ﬁxed length vector one time for each time step in the output sequence."
   ]
  },
  {
   "cell_type": "markdown",
   "metadata": {},
   "source": [
    "#### Addition Prediction Problem"
   ]
  },
  {
   "cell_type": "markdown",
   "metadata": {},
   "source": [
    "The addition problem is a sequence-to-sequence, or seq2seq, prediction problem. It was used by Wojciech Zaremba and Ilya Sutskever in their 2014 paper exploring the capabilities of the Encoder-Decoder LSTM titled “Learning to Execute” where the architecture was demonstrated learning to calculate the output of small programs.\n",
    "\n",
    "The problem is deﬁned as calculating the sum output of two input numbers. This is challenging as each digit and mathematical symbol is provided as a character and the expected output is also expected as characters. For example, the input 10+6 with the output 16 would be represented by the sequences:\n",
    "\n",
    "* Input: [ ‘1’ , ‘0’ , ‘+’ , ‘6’] \n",
    "* Output: [ ‘1’ , ‘6’ ]\n",
    "\n",
    "The model must learn not only the integer nature of the characters, but also the nature of the mathematical operation to perform. \n",
    "\n",
    "Also notice how the number of digits could vary in both the input and output sequences.\n",
    "\n",
    "Technically this makes the addition prediction problem a sequence-to-sequence problem that requires a many-to-many model to address."
   ]
  },
  {
   "cell_type": "code",
   "execution_count": 2,
   "metadata": {},
   "outputs": [
    {
     "data": {
      "image/png": "[encoded data removed]",
      "text/plain": [
       "<IPython.core.display.Image object>"
      ]
     },
     "execution_count": 2,
     "metadata": {},
     "output_type": "execute_result"
    }
   ],
   "source": [
    "Image('C:/Users/Manoj/Desktop/Images/seq2seq.png')"
   ]
  },
  {
   "cell_type": "markdown",
   "metadata": {},
   "source": [
    "Let's keep the problem simple with addition of two numbers, but we can see how this may be scaled to a variable number of terms and mathematical operations that could be given as input for the model to learn and generalize.\n",
    "\n",
    "We will divide this whole task into the following steps:\n",
    "\n",
    "1. Generate sum pairs\n",
    "2. Integers to Padded Strings\n",
    "3. Integer Encoded Sequences\n",
    "4. One Hot Encoded Sequences\n",
    "5. Sequence Generation Pipeline\n",
    "6. Decode Sequences"
   ]
  },
  {
   "cell_type": "markdown",
   "metadata": {},
   "source": [
    "The ﬁrst step is to generate sequences of random integers and their sum"
   ]
  },
  {
   "cell_type": "code",
   "execution_count": 45,
   "metadata": {},
   "outputs": [],
   "source": [
    "from random import seed \n",
    "from random import randint\n",
    "import numpy as np\n",
    "# generate lists of random integers and their sum\n",
    "def random_sum_pairs(n_examples, n_numbers, largest):\n",
    "    X, y = list(), list()\n",
    "    for i in range(n_examples):\n",
    "        in_pattern = [randint(1,largest) for _ in range(n_numbers)]\n",
    "        out_pattern = sum(in_pattern)\n",
    "        X.append(in_pattern)\n",
    "        y.append(out_pattern)\n",
    "    return X, y"
   ]
  },
  {
   "cell_type": "code",
   "execution_count": 25,
   "metadata": {},
   "outputs": [
    {
     "name": "stdout",
     "output_type": "stream",
     "text": [
      "[[3, 10]] [13]\n"
     ]
    }
   ],
   "source": [
    "#test function\n",
    "seed(1) \n",
    "n_samples = 1 \n",
    "n_numbers = 2 \n",
    "largest = 10 \n",
    "# generate pairs \n",
    "X, y = random_sum_pairs(n_samples, n_numbers, largest)\n",
    "print(X, y)"
   ]
  },
  {
   "cell_type": "markdown",
   "metadata": {},
   "source": [
    "The next step is to convert the integers to strings. The input string will have the format ‘10+10’ and the output string will have the format ‘20’. Key to this function is the padding of numbers to ensure that each input and output sequence has the same number of characters.\n",
    "\n",
    "A padding character should be different from the data so the model can learn to ignore them. In this case, we use the space character for padding(‘ ’) and pad the string on the left, keeping the information on the far right.\n",
    "\n",
    "Padding requires us to know how long the longest sequence may be.\n",
    "\n",
    "We can calculate this easily by taking the log10() of the largest integer we can generate and the ceiling of that number to get an idea of how many chars are needed for each number.\n",
    "\n",
    "We add 1 to the largest number to ensure we expect 3 chars instead of 2 chars for the case of a round largest number, like 200 and take the ceiling of the result (e.g. ceil(log10(largest+1))). We then need to add the right number of plus symbols (e.g. n numbers-1).\n",
    "\n",
    "max_length = n_numbers * ceil(log10(largest+1)) + n_numbers – 1\n",
    "\n",
    "Let's make this concrete with a worked example where the total number of terms (n numbers) is 3 and the largest value (largest) is 10.\n",
    "\n",
    "* max_length = 3 * ceil(log10(10+1))+3-1\n",
    "* max_length = 3 * ceil(1.0413926851582251)+3-1\n",
    "* max_length = 8\n",
    "\n",
    "Intuitively, we would expect 2 spaces for each term (e.g. [‘1’,‘0’]) multiplied by 3 terms, or a maximum length of input sequences of 6 spaces with two more spaces for the addition symbols (e.g. [‘1’,‘0’,‘+’,‘1’,‘0’,‘+’,‘1’,‘0’]) making the largest possible sequence 8 characters in length. \n",
    "\n",
    "we can calculate the expected maximum output sequence length for the above example with the total number of terms (n numbers) is 3 and the largest value (largest) is 10.\n",
    "\n",
    "* max_length = ceil(log10(n_numbers * (largest+1)))\n",
    "* max_length = 2\n",
    "\n",
    "Again, intuitively, we would expect the largest possible addition to be 10+10+10 or the value of 30. This would require a maximum length of 2."
   ]
  },
  {
   "cell_type": "code",
   "execution_count": 21,
   "metadata": {},
   "outputs": [],
   "source": [
    "from math import ceil, log10\n",
    "# convert data to strings \n",
    "def to_string(X, y, n_numbers, largest):\n",
    "    max_length = n_numbers * ceil(log10(largest+1)) + n_numbers - 1\n",
    "    Xstr = list()\n",
    "    for pattern in X:\n",
    "        strp = '+'.join([str(n) for n in pattern])\n",
    "        strp = ''.join(['' for _ in range(max_length-len(strp))]) + strp\n",
    "        Xstr.append(strp)\n",
    "    max_length = ceil(log10(n_numbers * (largest+1)))\n",
    "    ystr = list()\n",
    "    for pattern in y:\n",
    "        strp = str(pattern)\n",
    "        strp = ''.join(['' for _ in range(max_length-len(strp))]) + strp\n",
    "        ystr.append(strp)\n",
    "    return Xstr, ystr"
   ]
  },
  {
   "cell_type": "code",
   "execution_count": 24,
   "metadata": {},
   "outputs": [
    {
     "name": "stdout",
     "output_type": "stream",
     "text": [
      "[[3, 10]] [13]\n",
      "['3+10'] ['13']\n"
     ]
    }
   ],
   "source": [
    "#test function\n",
    "seed(1) \n",
    "n_samples = 1 \n",
    "n_numbers = 2 \n",
    "largest = 10\n",
    "\n",
    "# generate pairs \n",
    "X, y = random_sum_pairs(n_samples, n_numbers, largest) \n",
    "print(X, y)\n",
    "\n",
    "# convert to strings \n",
    "X, y = to_string(X, y, n_numbers, largest) \n",
    "print(X, y)"
   ]
  },
  {
   "cell_type": "markdown",
   "metadata": {},
   "source": [
    "Next, we need to encode each character in the string as an integer value. We have to work with numbers in neural networks after all, not characters. Integer encoding transforms the problem into a classiﬁcation problem where the output sequence may be considered class outputs with 11 possible values each.\n",
    "\n",
    "This just so happens to be integers with some ordinal relationship (the ﬁrst 10 class values). To perform this encoding, we must deﬁne the full alphabet of symbols that may appear in the string encoding, as follows:\n",
    "\n",
    "alphabet = [ ‘0’ ,’1’ ,’2’ ,’3’ ,’4’ ,’5’ ,’6’ ,’7’ ,’8’ ,’9’ ,’+’ ,’ ’ ]\n",
    "\n",
    "Integer encoding then becomes a simple process of building a lookup table of character-to integer offset and converting each char of each string, one by one. "
   ]
  },
  {
   "cell_type": "code",
   "execution_count": 26,
   "metadata": {},
   "outputs": [],
   "source": [
    "# integer encode strings \n",
    "def integer_encode(X, y, alphabet):\n",
    "    char_to_int = dict((c, i) for i, c in enumerate(alphabet))\n",
    "    Xenc = list()\n",
    "    for pattern in X:\n",
    "        integer_encoded = [char_to_int[char] for char in pattern]\n",
    "        Xenc.append(integer_encoded)\n",
    "    yenc = list()\n",
    "    for pattern in y:\n",
    "        integer_encoded = [char_to_int[char] for char in pattern]\n",
    "        yenc.append(integer_encoded)\n",
    "    return Xenc, yenc"
   ]
  },
  {
   "cell_type": "code",
   "execution_count": 29,
   "metadata": {},
   "outputs": [
    {
     "name": "stdout",
     "output_type": "stream",
     "text": [
      "[[3, 10]] [13]\n",
      "['3+10'] ['13']\n",
      "[[3, 10, 1, 0]] [[1, 3]]\n"
     ]
    }
   ],
   "source": [
    "seed(1) \n",
    "n_samples = 1 \n",
    "n_numbers = 2 \n",
    "largest = 10 \n",
    "# generate pairs \n",
    "X, y = random_sum_pairs(n_samples, n_numbers, largest) \n",
    "print(X, y) \n",
    "# convert to strings \n",
    "X, y = to_string(X, y, n_numbers, largest) \n",
    "print(X, y) \n",
    "# integer encode \n",
    "alphabet = ['0','1','2','3','4','5','6','7','8','9','+',''] \n",
    "X, y = integer_encode(X, y, alphabet) \n",
    "print(X, y)"
   ]
  },
  {
   "cell_type": "markdown",
   "metadata": {},
   "source": [
    "Next step is to binary encode the integer encoding sequences. This involves converting each integer to a binary vector with the same length as the alphabet and marking the speciﬁc integer with a 1."
   ]
  },
  {
   "cell_type": "code",
   "execution_count": 33,
   "metadata": {},
   "outputs": [],
   "source": [
    "# one hot encode \n",
    "def one_hot_encode(X, y, max_int):\n",
    "    Xenc = list()\n",
    "    for seq in X:\n",
    "        pattern = list()\n",
    "        for index in seq:\n",
    "            vector = [0 for _ in range(max_int)]\n",
    "            vector[index] = 1\n",
    "            pattern.append(vector)\n",
    "        Xenc.append(pattern)\n",
    "    yenc = list()\n",
    "    for seq in y:\n",
    "        pattern = list()\n",
    "        for index in seq:\n",
    "            vector = [0 for _ in range(max_int)]\n",
    "            vector[index] = 1\n",
    "            pattern.append(vector)\n",
    "        yenc.append(pattern)\n",
    "    return Xenc, yenc"
   ]
  },
  {
   "cell_type": "code",
   "execution_count": 34,
   "metadata": {},
   "outputs": [
    {
     "name": "stdout",
     "output_type": "stream",
     "text": [
      "[[3, 10]] [13]\n",
      "['3+10'] ['13']\n",
      "[[3, 10, 1, 0]] [[1, 3]]\n",
      "[[[0, 0, 0, 1, 0, 0, 0, 0, 0, 0, 0, 0], [0, 0, 0, 0, 0, 0, 0, 0, 0, 0, 1, 0], [0, 1, 0, 0, 0, 0, 0, 0, 0, 0, 0, 0], [1, 0, 0, 0, 0, 0, 0, 0, 0, 0, 0, 0]]] [[[0, 1, 0, 0, 0, 0, 0, 0, 0, 0, 0, 0], [0, 0, 0, 1, 0, 0, 0, 0, 0, 0, 0, 0]]]\n"
     ]
    }
   ],
   "source": [
    "seed(1) \n",
    "n_samples = 1 \n",
    "n_numbers = 2 \n",
    "largest = 10 \n",
    "# generate pairs \n",
    "X, y = random_sum_pairs(n_samples, n_numbers, largest) \n",
    "print(X, y) \n",
    "# convert to strings \n",
    "X, y = to_string(X, y, n_numbers, largest) \n",
    "print(X, y) \n",
    "# integer encode \n",
    "alphabet = ['0','1','2','3','4','5','6','7','8','9','+',''] \n",
    "X, y = integer_encode(X, y, alphabet) \n",
    "print(X, y)\n",
    "# one hot encode \n",
    "X, y = one_hot_encode(X, y, len(alphabet)) \n",
    "print(X, y)"
   ]
  },
  {
   "cell_type": "markdown",
   "metadata": {},
   "source": [
    "##### Sequence Generation Pipeline"
   ]
  },
  {
   "cell_type": "code",
   "execution_count": 43,
   "metadata": {},
   "outputs": [],
   "source": [
    "# generate an encoded dataset \n",
    "def generate_data(n_samples, n_numbers, largest, alphabet): \n",
    "    # generate pairs \n",
    "    X, y = random_sum_pairs(n_samples, n_numbers, largest) \n",
    "    # convert to strings \n",
    "    X, y = to_string(X, y, n_numbers, largest) \n",
    "    # integer encode \n",
    "    X, y = integer_encode(X, y, alphabet) \n",
    "    # one hot encode \n",
    "    X, y = one_hot_encode(X, y, len(alphabet)) \n",
    "    # return as NumPy arrays \n",
    "    X, y = np.array(X), np.array(y) \n",
    "    return X, y"
   ]
  },
  {
   "cell_type": "markdown",
   "metadata": {},
   "source": [
    "Finally, we need to invert the encoding to convert the output vectors back into numbers so we can compare expected output integers to predicted integers."
   ]
  },
  {
   "cell_type": "code",
   "execution_count": 36,
   "metadata": {},
   "outputs": [],
   "source": [
    "# invert encoding \n",
    "def invert(seq, alphabet):\n",
    "    int_to_char = dict((i, c) for i, c in enumerate(alphabet))\n",
    "    strings = list()\n",
    "    for pattern in seq:\n",
    "        string = int_to_char[argmax(pattern)]\n",
    "        strings.append(string)\n",
    "    return ''.join(strings)"
   ]
  },
  {
   "cell_type": "markdown",
   "metadata": {},
   "source": [
    "#### Define and Compile the Model"
   ]
  },
  {
   "cell_type": "markdown",
   "metadata": {},
   "source": [
    "The ﬁrst step is to deﬁne the speciﬁcations of the sequence prediction problem. We need to specify 3 parameters as input to the generate_data() function (above) for generating samples of input-output sequences:\n",
    "\n",
    "* n_terms: The number of terms in the equation, (e.g. 2 for10+10)\n",
    "* largest: The largest numerical value for each term (e.g. 10 for values between 1-10)\n",
    "* alphabet: The symbols used to encode the input and output sequences (e.g. 0-9, + and '')\n",
    "\n",
    "Let's configure the problem where each instance will be comprised of 3 terms with the maximum value of 10 per term. The alphabet remains ﬁxed regardless of conﬁguration with the values 0-9, ‘+’, and ‘ ’."
   ]
  },
  {
   "cell_type": "code",
   "execution_count": 37,
   "metadata": {},
   "outputs": [],
   "source": [
    "# number of math terms \n",
    "n_terms = 3 \n",
    "# largest value for any single input digit \n",
    "largest = 10 \n",
    "# scope of possible symbols for each input or output time step \n",
    "alphabet = [str(x) for x in range(10)] + ['+','']"
   ]
  },
  {
   "cell_type": "markdown",
   "metadata": {},
   "source": [
    "Additionally, the network needs 3 more conﬁguration values deﬁned by the speciﬁcation of the addition problem:\n",
    "\n",
    "* n_chars: The size of the alphabet for a single time step (e.g. 12 for 0-9, ‘+’ and '')\n",
    "* n_in_seq_length: The number of time steps of encoded input sequences (e.g. 8 for ‘10+10+10’)\n",
    "* n_out_seq_length: The number of time steps of an encoded output sequence (e.g. 2 for ‘30’)"
   ]
  },
  {
   "cell_type": "code",
   "execution_count": 39,
   "metadata": {},
   "outputs": [],
   "source": [
    "# size of alphabet: (12 for 0-9, + and ) \n",
    "n_chars = len(alphabet)\n",
    "# length of encoded input sequence (8 for 10+10+10) \n",
    "n_in_seq_length = n_terms * ceil(log10(largest+1)) + n_terms - 1\n",
    "# length of encoded output sequence (2 for 30 )\n",
    "n_out_seq_length = ceil(log10(n_terms * (largest+1)))"
   ]
  },
  {
   "cell_type": "markdown",
   "metadata": {},
   "source": [
    "We can now define Encoder-Decoder LSTM. We will use a single LSTM layer for the encoder and another single layer for the decoder.\n",
    "\n",
    "The encoder is deﬁned with 75 memory cells and the decoder with 50 memory cells. The asymmetry in layer sizes in the encoder and decoder seems like a natural organization given that input sequences are relatively longer than output sequences.\n",
    "\n",
    "The output layer uses the categorical log loss for the 12 possible classes that may be predicted. The efficient Adam implementation of gradient descent is used and accuracy will be calculated during training and model evaluation."
   ]
  },
  {
   "cell_type": "code",
   "execution_count": 49,
   "metadata": {},
   "outputs": [
    {
     "name": "stdout",
     "output_type": "stream",
     "text": [
      "Model: \"sequential_2\"\n",
      "_________________________________________________________________\n",
      "Layer (type)                 Output Shape              Param #   \n",
      "=================================================================\n",
      "lstm_3 (LSTM)                (None, 75)                26400     \n",
      "_________________________________________________________________\n",
      "repeat_vector_2 (RepeatVecto (None, 2, 75)             0         \n",
      "_________________________________________________________________\n",
      "lstm_4 (LSTM)                (None, 2, 50)             25200     \n",
      "_________________________________________________________________\n",
      "time_distributed_2 (TimeDist (None, 2, 12)             612       \n",
      "=================================================================\n",
      "Total params: 52,212\n",
      "Trainable params: 52,212\n",
      "Non-trainable params: 0\n",
      "_________________________________________________________________\n",
      "None\n"
     ]
    }
   ],
   "source": [
    "from keras.models import Sequential\n",
    "from keras.layers import LSTM, Dense, TimeDistributed, RepeatVector\n",
    "# define encoder-decoder LSTM \n",
    "model = Sequential() \n",
    "model.add(LSTM(75, input_shape=(n_in_seq_length, n_chars)))\n",
    "model.add(RepeatVector(n_out_seq_length))\n",
    "model.add(LSTM(50, return_sequences=True)) \n",
    "model.add(TimeDistributed(Dense(n_chars, activation= 'softmax'))) \n",
    "model.compile(loss= 'categorical_crossentropy', optimizer= 'adam', metrics=['acc']) \n",
    "print(model.summary())"
   ]
  },
  {
   "cell_type": "markdown",
   "metadata": {},
   "source": [
    "#### Fit the Model"
   ]
  },
  {
   "cell_type": "markdown",
   "metadata": {},
   "source": [
    "model is fitted on a single epoch of 75,000 randomly generated instances of input-output pairs. The number of sequences is a proxy for the number of training epochs."
   ]
  },
  {
   "cell_type": "code",
   "execution_count": 50,
   "metadata": {},
   "outputs": [
    {
     "ename": "ValueError",
     "evalue": "Error when checking input: expected lstm_3_input to have 3 dimensions, but got array with shape (75000, 1)",
     "output_type": "error",
     "traceback": [
      "\u001b[1;31m---------------------------------------------------------------------------\u001b[0m",
      "\u001b[1;31mValueError\u001b[0m                                Traceback (most recent call last)",
      "\u001b[1;32m<ipython-input-50-565d4463ddcc>\u001b[0m in \u001b[0;36m<module>\u001b[1;34m()\u001b[0m\n\u001b[0;32m      1\u001b[0m \u001b[1;31m# fit model\u001b[0m\u001b[1;33m\u001b[0m\u001b[1;33m\u001b[0m\u001b[0m\n\u001b[0;32m      2\u001b[0m \u001b[0mX\u001b[0m\u001b[1;33m,\u001b[0m \u001b[0my\u001b[0m \u001b[1;33m=\u001b[0m \u001b[0mgenerate_data\u001b[0m\u001b[1;33m(\u001b[0m\u001b[1;36m75000\u001b[0m\u001b[1;33m,\u001b[0m \u001b[0mn_terms\u001b[0m\u001b[1;33m,\u001b[0m \u001b[0mlargest\u001b[0m\u001b[1;33m,\u001b[0m \u001b[0malphabet\u001b[0m\u001b[1;33m)\u001b[0m\u001b[1;33m\u001b[0m\u001b[0m\n\u001b[1;32m----> 3\u001b[1;33m \u001b[0mmodel\u001b[0m\u001b[1;33m.\u001b[0m\u001b[0mfit\u001b[0m\u001b[1;33m(\u001b[0m\u001b[0mX\u001b[0m\u001b[1;33m,\u001b[0m \u001b[0my\u001b[0m\u001b[1;33m,\u001b[0m \u001b[0mepochs\u001b[0m\u001b[1;33m=\u001b[0m\u001b[1;36m1\u001b[0m\u001b[1;33m,\u001b[0m \u001b[0mbatch_size\u001b[0m\u001b[1;33m=\u001b[0m\u001b[1;36m32\u001b[0m\u001b[1;33m)\u001b[0m\u001b[1;33m\u001b[0m\u001b[0m\n\u001b[0m",
      "\u001b[1;32m~\\Anaconda3\\lib\\site-packages\\keras\\engine\\training.py\u001b[0m in \u001b[0;36mfit\u001b[1;34m(self, x, y, batch_size, epochs, verbose, callbacks, validation_split, validation_data, shuffle, class_weight, sample_weight, initial_epoch, steps_per_epoch, validation_steps, validation_freq, max_queue_size, workers, use_multiprocessing, **kwargs)\u001b[0m\n\u001b[0;32m   1152\u001b[0m             \u001b[0msample_weight\u001b[0m\u001b[1;33m=\u001b[0m\u001b[0msample_weight\u001b[0m\u001b[1;33m,\u001b[0m\u001b[1;33m\u001b[0m\u001b[0m\n\u001b[0;32m   1153\u001b[0m             \u001b[0mclass_weight\u001b[0m\u001b[1;33m=\u001b[0m\u001b[0mclass_weight\u001b[0m\u001b[1;33m,\u001b[0m\u001b[1;33m\u001b[0m\u001b[0m\n\u001b[1;32m-> 1154\u001b[1;33m             batch_size=batch_size)\n\u001b[0m\u001b[0;32m   1155\u001b[0m \u001b[1;33m\u001b[0m\u001b[0m\n\u001b[0;32m   1156\u001b[0m         \u001b[1;31m# Prepare validation data.\u001b[0m\u001b[1;33m\u001b[0m\u001b[1;33m\u001b[0m\u001b[0m\n",
      "\u001b[1;32m~\\Anaconda3\\lib\\site-packages\\keras\\engine\\training.py\u001b[0m in \u001b[0;36m_standardize_user_data\u001b[1;34m(self, x, y, sample_weight, class_weight, check_array_lengths, batch_size)\u001b[0m\n\u001b[0;32m    577\u001b[0m             \u001b[0mfeed_input_shapes\u001b[0m\u001b[1;33m,\u001b[0m\u001b[1;33m\u001b[0m\u001b[0m\n\u001b[0;32m    578\u001b[0m             \u001b[0mcheck_batch_axis\u001b[0m\u001b[1;33m=\u001b[0m\u001b[1;32mFalse\u001b[0m\u001b[1;33m,\u001b[0m  \u001b[1;31m# Don't enforce the batch size.\u001b[0m\u001b[1;33m\u001b[0m\u001b[0m\n\u001b[1;32m--> 579\u001b[1;33m             exception_prefix='input')\n\u001b[0m\u001b[0;32m    580\u001b[0m \u001b[1;33m\u001b[0m\u001b[0m\n\u001b[0;32m    581\u001b[0m         \u001b[1;32mif\u001b[0m \u001b[0my\u001b[0m \u001b[1;32mis\u001b[0m \u001b[1;32mnot\u001b[0m \u001b[1;32mNone\u001b[0m\u001b[1;33m:\u001b[0m\u001b[1;33m\u001b[0m\u001b[0m\n",
      "\u001b[1;32m~\\Anaconda3\\lib\\site-packages\\keras\\engine\\training_utils.py\u001b[0m in \u001b[0;36mstandardize_input_data\u001b[1;34m(data, names, shapes, check_batch_axis, exception_prefix)\u001b[0m\n\u001b[0;32m    133\u001b[0m                         \u001b[1;34m': expected '\u001b[0m \u001b[1;33m+\u001b[0m \u001b[0mnames\u001b[0m\u001b[1;33m[\u001b[0m\u001b[0mi\u001b[0m\u001b[1;33m]\u001b[0m \u001b[1;33m+\u001b[0m \u001b[1;34m' to have '\u001b[0m \u001b[1;33m+\u001b[0m\u001b[1;33m\u001b[0m\u001b[0m\n\u001b[0;32m    134\u001b[0m                         \u001b[0mstr\u001b[0m\u001b[1;33m(\u001b[0m\u001b[0mlen\u001b[0m\u001b[1;33m(\u001b[0m\u001b[0mshape\u001b[0m\u001b[1;33m)\u001b[0m\u001b[1;33m)\u001b[0m \u001b[1;33m+\u001b[0m \u001b[1;34m' dimensions, but got array '\u001b[0m\u001b[1;33m\u001b[0m\u001b[0m\n\u001b[1;32m--> 135\u001b[1;33m                         'with shape ' + str(data_shape))\n\u001b[0m\u001b[0;32m    136\u001b[0m                 \u001b[1;32mif\u001b[0m \u001b[1;32mnot\u001b[0m \u001b[0mcheck_batch_axis\u001b[0m\u001b[1;33m:\u001b[0m\u001b[1;33m\u001b[0m\u001b[0m\n\u001b[0;32m    137\u001b[0m                     \u001b[0mdata_shape\u001b[0m \u001b[1;33m=\u001b[0m \u001b[0mdata_shape\u001b[0m\u001b[1;33m[\u001b[0m\u001b[1;36m1\u001b[0m\u001b[1;33m:\u001b[0m\u001b[1;33m]\u001b[0m\u001b[1;33m\u001b[0m\u001b[0m\n",
      "\u001b[1;31mValueError\u001b[0m: Error when checking input: expected lstm_3_input to have 3 dimensions, but got array with shape (75000, 1)"
     ]
    }
   ],
   "source": [
    "# fit model \n",
    "X, y = generate_data(75000, n_terms, largest, alphabet) \n",
    "model.fit(X, y, epochs=1, batch_size=32)"
   ]
  },
  {
   "cell_type": "code",
   "execution_count": 51,
   "metadata": {},
   "outputs": [
    {
     "data": {
      "text/plain": [
       "(75000,)"
      ]
     },
     "execution_count": 51,
     "metadata": {},
     "output_type": "execute_result"
    }
   ],
   "source": [
    "X.shape"
   ]
  },
  {
   "cell_type": "code",
   "execution_count": null,
   "metadata": {},
   "outputs": [],
   "source": []
  }
 ],
 "metadata": {
  "kernelspec": {
   "display_name": "Python 3",
   "language": "python",
   "name": "python3"
  },
  "language_info": {
   "codemirror_mode": {
    "name": "ipython",
    "version": 3
   },
   "file_extension": ".py",
   "mimetype": "text/x-python",
   "name": "python",
   "nbconvert_exporter": "python",
   "pygments_lexer": "ipython3",
   "version": "3.6.4"
  }
 },
 "nbformat": 4,
 "nbformat_minor": 2
}
