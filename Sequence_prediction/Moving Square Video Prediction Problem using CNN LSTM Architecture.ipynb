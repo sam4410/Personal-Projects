{
 "cells": [
  {
   "cell_type": "markdown",
   "metadata": {},
   "source": [
    "The CNN LSTM architecture involves using Convolutional Neural Network (CNN) layers for feature extraction on input data combined with LSTMs to support sequence prediction.\n",
    "\n",
    "CNN LSTMs were developed for visual time series prediction problems and the application of generating textual descriptions from sequences of images (e.g. videos). Speciﬁcally, the problems of:\n",
    "\n",
    "* Activity Recognition: generating a textual description of an activity demonstrated in a sequence of images\n",
    "* Image Description: generating a textual description of a single image\n",
    "* Video Description: generating a textual description of a sequence of images\n",
    "\n",
    "This architecture is used for the task of generating textual descriptions of images. Key is the use of a CNN that is pre-trained on a challenging image classiﬁcation task that is re-purposed as a feature extractor for the caption generating problem.\n",
    "\n",
    "This architecture has also been used on speech recognition and natural language processing problems where CNNs are used as feature extractors for the LSTMs on audio and textual input data. This architecture is suitable for problems that:\n",
    "\n",
    "* Have spatial structure in their input such as the 2D structure or pixels in an image or the 1D structure of words in a sentence, paragraph, or document.\n",
    "* Have a temporal structure in their input such as the order of images in a video or words in text, or require the generation of output with temporal structure such as words in a textual description."
   ]
  },
  {
   "cell_type": "code",
   "execution_count": 1,
   "metadata": {},
   "outputs": [
    {
     "data": {
      "image/png": "[encoded data removed]",
      "text/plain": [
       "<IPython.core.display.Image object>"
      ]
     },
     "execution_count": 1,
     "metadata": {},
     "output_type": "execute_result"
    }
   ],
   "source": [
    "from IPython.display import Image\n",
    "Image('C:/Users/Manoj/Desktop/Images/cnn lstm.png')"
   ]
  },
  {
   "cell_type": "markdown",
   "metadata": {},
   "source": [
    "We can deﬁne a CNN LSTM model to be trained jointly in Keras. A CNN LSTM can be deﬁned by adding CNN layers on the front end followed by LSTM layers with a Dense layer on the output.\n",
    "\n",
    "It is helpful to think of this architecture as deﬁning two sub-models: the CNN Model for feature extraction and the LSTM Model for interpreting the features across time steps.\n",
    "\n",
    "Let’s take a look at both of these sub models in the context of a sequence of 2D inputs which are images."
   ]
  },
  {
   "cell_type": "markdown",
   "metadata": {},
   "source": [
    "#CNN Model\n",
    "\n",
    "We can deﬁne a 2D convolutional network as comprised of Conv2D and MaxPooling2D layers ordered into a stack of the required depth.\n",
    "\n",
    "#LSTM\n",
    "\n",
    "The CNN model above is only capable of handling a single image, transforming it from input pixels into an internal matrix or vector representation. \n",
    "\n",
    "We need to repeat this operation across multiple images and allow the LSTM to build up internal state and update weights using BPTT across a sequence of the internal vector representations of input images.\n",
    "\n",
    "The CNN could be ﬁxed in the case of using an existing pre-trained model like VGG for feature extraction from images. The CNN may not be trained, and we may wish to train it by backpropagating error from the LSTM across multiple input images to the CNN model.\n",
    "\n",
    "In both of these cases, conceptually there is a single CNN model and a sequence of LSTM models, one for each time step. We want to apply the CNN model to each input image and pass on the output of each input image to the LSTM as a single time step.\n",
    "\n",
    "It can be achieved by wrapping the entire CNN input model (one layer or more) in a **TimeDistributed** layer. This layer achieves the desired outcome of applying the same layer or layers multiple times. In this case, applying it multiple times to multiple input time steps and in turn providing a sequence of image interpretations or image features to the LSTM model to work on."
   ]
  },
  {
   "cell_type": "markdown",
   "metadata": {},
   "source": [
    "#### Moving Square Video Prediction Problem"
   ]
  },
  {
   "cell_type": "markdown",
   "metadata": {},
   "source": [
    "The moving square video prediction problem is used here to demonstrate CNN LSTM architecture. The problem involves the generation of a sequence of frames. In each image a line is drawn from left to right or right to left. Each frame shows the extension of the line by one pixel.\n",
    "\n",
    "The task is for the model to classify whether the line moved left or right in the sequence of frames. Technically, the problem is a sequence classiﬁcation problem framed with a many-to-one prediction model."
   ]
  },
  {
   "cell_type": "code",
   "execution_count": 2,
   "metadata": {},
   "outputs": [
    {
     "data": {
      "image/png": "[encoded data removed]",
      "text/plain": [
       "<IPython.core.display.Image object>"
      ]
     },
     "execution_count": 2,
     "metadata": {},
     "output_type": "execute_result"
    }
   ],
   "source": [
    "Image('C:/Users/Manoj/Desktop/Images/cnn lstm1.png')"
   ]
  },
  {
   "cell_type": "markdown",
   "metadata": {},
   "source": [
    "The entire problem can be broken down into 3 steps:\n",
    "\n",
    "1. Image Initialization\n",
    "2. Adding steps\n",
    "3. Instance generator"
   ]
  },
  {
   "cell_type": "markdown",
   "metadata": {},
   "source": [
    "##### Image Initialization"
   ]
  },
  {
   "cell_type": "markdown",
   "metadata": {},
   "source": [
    "We can start by deﬁning a 2D NumPy array ﬁlled with zero values. We will make the images symmetrical, and in this case, 10 pixels by 10 pixels."
   ]
  },
  {
   "cell_type": "code",
   "execution_count": 3,
   "metadata": {},
   "outputs": [
    {
     "data": {
      "text/plain": [
       "array([[0., 0., 0., 0., 0., 0., 0., 0., 0., 0.],\n",
       "       [0., 0., 0., 0., 0., 0., 0., 0., 0., 0.],\n",
       "       [0., 0., 0., 0., 0., 0., 0., 0., 0., 0.],\n",
       "       [0., 0., 0., 0., 0., 0., 0., 0., 0., 0.],\n",
       "       [0., 0., 0., 0., 0., 0., 0., 0., 0., 0.],\n",
       "       [0., 0., 0., 0., 0., 0., 0., 0., 0., 0.],\n",
       "       [0., 0., 0., 0., 0., 0., 0., 0., 0., 0.],\n",
       "       [0., 0., 0., 0., 0., 0., 0., 0., 0., 0.],\n",
       "       [0., 0., 0., 0., 0., 0., 0., 0., 0., 0.],\n",
       "       [0., 0., 0., 0., 0., 0., 0., 0., 0., 0.]])"
      ]
     },
     "execution_count": 3,
     "metadata": {},
     "output_type": "execute_result"
    }
   ],
   "source": [
    "import numpy as np\n",
    "frame = np.zeros((10,10))\n",
    "frame"
   ]
  },
  {
   "cell_type": "markdown",
   "metadata": {},
   "source": [
    "Next, we can select the row for the ﬁrst step of the line. We will use the randint() function to select a uniformly random integer between 0 and 9."
   ]
  },
  {
   "cell_type": "code",
   "execution_count": 4,
   "metadata": {},
   "outputs": [
    {
     "data": {
      "text/plain": [
       "3"
      ]
     },
     "execution_count": 4,
     "metadata": {},
     "output_type": "execute_result"
    }
   ],
   "source": [
    "from random import randint\n",
    "step = randint(0, 10-1)\n",
    "step"
   ]
  },
  {
   "cell_type": "markdown",
   "metadata": {},
   "source": [
    "We can now select whether we are drawing the line left or right across the image. We will use the random() function to decide. If right, we will start at the left, or column 0, and if left we will start on the right, or column 9."
   ]
  },
  {
   "cell_type": "code",
   "execution_count": 5,
   "metadata": {},
   "outputs": [],
   "source": [
    "from random import random\n",
    "right = 1 if random() < 0.5 else 0\n",
    "col = 0 if right else size-1"
   ]
  },
  {
   "cell_type": "markdown",
   "metadata": {},
   "source": [
    "We can now mark the start of the line"
   ]
  },
  {
   "cell_type": "code",
   "execution_count": 6,
   "metadata": {},
   "outputs": [
    {
     "data": {
      "text/plain": [
       "array([[0., 0., 0., 0., 0., 0., 0., 0., 0., 0.],\n",
       "       [0., 0., 0., 0., 0., 0., 0., 0., 0., 0.],\n",
       "       [0., 0., 0., 0., 0., 0., 0., 0., 0., 0.],\n",
       "       [1., 0., 0., 0., 0., 0., 0., 0., 0., 0.],\n",
       "       [0., 0., 0., 0., 0., 0., 0., 0., 0., 0.],\n",
       "       [0., 0., 0., 0., 0., 0., 0., 0., 0., 0.],\n",
       "       [0., 0., 0., 0., 0., 0., 0., 0., 0., 0.],\n",
       "       [0., 0., 0., 0., 0., 0., 0., 0., 0., 0.],\n",
       "       [0., 0., 0., 0., 0., 0., 0., 0., 0., 0.],\n",
       "       [0., 0., 0., 0., 0., 0., 0., 0., 0., 0.]])"
      ]
     },
     "execution_count": 6,
     "metadata": {},
     "output_type": "execute_result"
    }
   ],
   "source": [
    "frame[step, col] = 1\n",
    "frame"
   ]
  },
  {
   "cell_type": "markdown",
   "metadata": {},
   "source": [
    "#### Adding steps"
   ]
  },
  {
   "cell_type": "markdown",
   "metadata": {},
   "source": [
    "Now we need a process to add steps to the line. The next step must be a function of the previous step. We will constrain it to be in the next column along (left or right) and be in the same row, the row above or the row below.\n",
    "\n",
    "We will further constrain the movement by the bounds of the image, e.g. no movements below row zero or above row 9.\n",
    "\n",
    "We can use the same randint() function above to pick the next step and impose our movement constraints on the upper and lower values. The step value chosen last time is stored in the last_step variable."
   ]
  },
  {
   "cell_type": "code",
   "execution_count": 22,
   "metadata": {},
   "outputs": [],
   "source": [
    "#lower = max(0, last_step-1) \n",
    "#upper = min(10-1, last_step+1) \n",
    "#step = randint(lower, upper)"
   ]
  },
  {
   "cell_type": "markdown",
   "metadata": {},
   "source": [
    "Next, we can make a copy of the last image and mark the new position for the next column along."
   ]
  },
  {
   "cell_type": "code",
   "execution_count": 23,
   "metadata": {},
   "outputs": [],
   "source": [
    "#column = i if right else size-1-i \n",
    "#frame = last_frame.copy() \n",
    "#frame[step, column] = 1"
   ]
  },
  {
   "cell_type": "markdown",
   "metadata": {},
   "source": [
    "This process can be repeated until the ﬁrst or last column is reached, depending on the chosen direction"
   ]
  },
  {
   "cell_type": "markdown",
   "metadata": {},
   "source": [
    "##### Instance Generator"
   ]
  },
  {
   "cell_type": "markdown",
   "metadata": {},
   "source": [
    "We can capture all of the above behavior in two small functions. The build_frames() function takes an argument to deﬁne the size of the images and returns a sequence of images and whether the line moves right (1) or left (0).\n",
    "\n",
    "This function calls another function next_frame() to create each subsequent frame after the ﬁrst frame as the line moves across the image."
   ]
  },
  {
   "cell_type": "code",
   "execution_count": 14,
   "metadata": {},
   "outputs": [],
   "source": [
    "from random import random, randint\n",
    "from numpy import array, zeros\n",
    "from keras.models import Sequential\n",
    "from keras.layers import Conv2D, MaxPooling2D, LSTM, Dense, Flatten, TimeDistributed\n",
    "import matplotlib.pyplot as plt\n",
    "import warnings\n",
    "warnings.filterwarnings('ignore')\n",
    "\n",
    "# generate the next frame in the sequence\n",
    "def next_frame(last_step, last_frame, column):\n",
    "    # define the scope of the next step\n",
    "    lower = max(0, last_step-1)\n",
    "    upper = min(last_frame.shape[0]-1, last_step+1)\n",
    "    # choose the row index for the next step\n",
    "    step = randint(lower, upper)\n",
    "    # copy the prior frame\n",
    "    frame = last_frame.copy()\n",
    "    # add the new step\n",
    "    frame[step, column] = 1\n",
    "    return frame, step"
   ]
  },
  {
   "cell_type": "code",
   "execution_count": 10,
   "metadata": {},
   "outputs": [],
   "source": [
    "# generate a sequence of frames of a dot moving across an image\n",
    "def build_frames(size):\n",
    "    frames = list()\n",
    "    # create the first frame\n",
    "    frame = zeros((size,size))\n",
    "    step = randint(0, size-1)\n",
    "    # decide if we are heading left or right\n",
    "    right = 1 if random() < 0.5 else 0\n",
    "    col = 0 if right else size-1\n",
    "    frame[step, col] = 1\n",
    "    frames.append(frame)\n",
    "    # create all remaining frames\n",
    "    for i in range(1, size):\n",
    "        col = i if right else size-1-i\n",
    "        frame, step = next_frame(step, frame, col)\n",
    "        frames.append(frame)\n",
    "    return frames, right"
   ]
  },
  {
   "cell_type": "markdown",
   "metadata": {},
   "source": [
    "We will generate a small sequence with each image 5x5 pixels and with 5 frames and plot the frames side by side"
   ]
  },
  {
   "cell_type": "code",
   "execution_count": 21,
   "metadata": {},
   "outputs": [
    {
     "data": {
      "image/png": "[encoded data removed]",
      "text/plain": [
       "<matplotlib.figure.Figure at 0x21a8e327518>"
      ]
     },
     "metadata": {
      "needs_background": "light"
     },
     "output_type": "display_data"
    }
   ],
   "source": [
    "# generate sequence of frames\n",
    "size = 5 \n",
    "frames, right = build_frames(size)\n",
    "# plot all frames \n",
    "plt.figure() \n",
    "for i in range(size):\n",
    "    # create a grayscale subplot for each frame \n",
    "    plt.subplot(1, size, i+1)\n",
    "    plt.imshow(frames[i], cmap= 'Greys')\n",
    "    # turn of the scale to make it cleaer \n",
    "    ax = plt.gca()\n",
    "    ax.get_xaxis().set_visible(False) \n",
    "    ax.get_yaxis().set_visible(False) \n",
    "plt.show()"
   ]
  },
  {
   "cell_type": "markdown",
   "metadata": {},
   "source": [
    "#### Prepare Input For Model"
   ]
  },
  {
   "cell_type": "markdown",
   "metadata": {},
   "source": [
    "We will prepare a function to generate multiple sequences with the correct shape ready for ﬁtting and evaluating an LSTM model. A function named generate_examples() is deﬁned below that takes the size of the images to generate and the number of sequences to generate as arguments.\n",
    "\n",
    "Each sequence is generated and stored. The input sequences for the model must be resized to be suitable for a 2D CNN. Normally this would be:\n",
    "\n",
    "[width, height, channel]\n",
    "\n",
    "In our case, it would be [size, size, 1] for the symmetrical black and white images. This is not sufficient as we also have multiple images, then multiple sequences of images. Therefore, the input to the model must be reshaped as:\n",
    "\n",
    "[samples, timesteps, width, height, channels]\n",
    "\n",
    "Or\n",
    "\n",
    "[n_patterns, size, size, size, 1]"
   ]
  },
  {
   "cell_type": "code",
   "execution_count": 11,
   "metadata": {},
   "outputs": [],
   "source": [
    "# generate multiple sequences of frames and reshape for network input\n",
    "def generate_examples(size, n_patterns): \n",
    "    X, y = list(), list()\n",
    "    for _ in range(n_patterns):\n",
    "        frames, right = build_frames(size)\n",
    "        X.append(frames)\n",
    "        y.append(right)\n",
    "    # resize as [samples, timesteps, width, height, channels]\n",
    "    X = array(X).reshape(n_patterns, size, size, size, 1)\n",
    "    y = array(y).reshape(n_patterns, 1)\n",
    "    return X, y"
   ]
  },
  {
   "cell_type": "markdown",
   "metadata": {},
   "source": [
    "#### Define and Compile Model"
   ]
  },
  {
   "cell_type": "markdown",
   "metadata": {},
   "source": [
    "Next, We deﬁne a CNN LSTM to ﬁt the model. The size of the generated images controls how challenging the problem will be. We will make the problems modestly challenging by conﬁguring the images to be 50x50 pixels, or a total of 2,500 binary values.\n",
    "\n",
    "We will deﬁne the model wrapping each layer in the CNN model with a separate TimeDistributed layer. This is to ensure that the model summary provides a clear idea of how the network hangs together.\n",
    "\n",
    "We will deﬁne a Conv2D as an input layer with 2 ﬁlters and a 2x2 kernel to pass across the input images. The Conv2D will output 2 49x49 pixel impressions of the input.\n",
    "\n",
    "Here we use a MaxPooling2D pooling layer with a pool size of 2x2, which will in effect halve the size of each ﬁlter output from the previous layer, in turn outputting 2 24x24 maps.\n",
    "\n",
    "The pooling layer is followed by a Flatten layer to transform the [24,24,2] 3D output from the MaxPooling2D layer into a one-dimensional 1,152 element vector.\n",
    "\n",
    "The CNN model is a feature extraction model. The hope is that the vector output of the Flatten layer is a compressed and/or more salient representation of the image than the raw pixel values.\n",
    "\n",
    "Next, we can deﬁne the LSTM elements of the model. We will use a single LSTM layer with 50 memory cells.\n",
    "\n",
    "The use of a TimeDistribted wrapper around the whole CNN model means that the LSTM will see 50 time steps, with each time step presenting a 1,152 element vector as input.\n",
    "\n",
    "This is a binary classiﬁcation problem, so we will use a Dense output with a single neuron and the sigmoid activation function. The model is compiled to minimize log loss (binary_crossentropy) with the Adam implementation of gradient descent and the binary classiﬁcation accuracy will be reported."
   ]
  },
  {
   "cell_type": "code",
   "execution_count": 26,
   "metadata": {},
   "outputs": [
    {
     "name": "stdout",
     "output_type": "stream",
     "text": [
      "Model: \"sequential_3\"\n",
      "_________________________________________________________________\n",
      "Layer (type)                 Output Shape              Param #   \n",
      "=================================================================\n",
      "time_distributed_4 (TimeDist (None, None, 49, 49, 2)   10        \n",
      "_________________________________________________________________\n",
      "time_distributed_5 (TimeDist (None, None, 24, 24, 2)   0         \n",
      "_________________________________________________________________\n",
      "time_distributed_6 (TimeDist (None, None, 1152)        0         \n",
      "_________________________________________________________________\n",
      "lstm_2 (LSTM)                (None, 50)                240600    \n",
      "_________________________________________________________________\n",
      "dense_2 (Dense)              (None, 1)                 51        \n",
      "=================================================================\n",
      "Total params: 240,661\n",
      "Trainable params: 240,661\n",
      "Non-trainable params: 0\n",
      "_________________________________________________________________\n",
      "None\n"
     ]
    }
   ],
   "source": [
    "size = 50\n",
    "\n",
    "# define the model \n",
    "model = Sequential()\n",
    "model.add(TimeDistributed(Conv2D(2, (2,2), activation= 'relu'), input_shape=(None,size,size,1)))\n",
    "model.add(TimeDistributed(MaxPooling2D(pool_size=(2, 2)))) \n",
    "model.add(TimeDistributed(Flatten())) \n",
    "model.add(LSTM(50)) \n",
    "model.add(Dense(1, activation= 'sigmoid')) \n",
    "model.compile(loss= 'binary_crossentropy', optimizer= 'adam', metrics=['acc']) \n",
    "print(model.summary())"
   ]
  },
  {
   "cell_type": "markdown",
   "metadata": {},
   "source": [
    "#### Fit the Model"
   ]
  },
  {
   "cell_type": "markdown",
   "metadata": {},
   "source": [
    "Now we ﬁt the model on randomly generated examples of the problem. The generate_examples() function deﬁned above will prepare a speciﬁed number of random sequences that we can keep in memory and use to ﬁt the model efficiently.\n",
    "\n",
    "The number of randomly generated examples is a proxy for the number of training epochs as we would prefer the model to be trained on unique problem instances rather than the same set of random instances again and again.\n",
    "\n",
    "Here we will train the model on a single epoch of 5,000 randomly generated sequences. Ideally, the internal state of the LSTM would be reset at the end of each sequence. We could achieve this by setting the batch size to 1. We will trade off the quality of the model for computational efficiency and set the batch size to 32."
   ]
  },
  {
   "cell_type": "code",
   "execution_count": 27,
   "metadata": {},
   "outputs": [
    {
     "name": "stdout",
     "output_type": "stream",
     "text": [
      "Epoch 1/1\n",
      "5000/5000 [==============================] - 710s 142ms/step - loss: 0.1545 - acc: 0.9258\n"
     ]
    },
    {
     "data": {
      "text/plain": [
       "<keras.callbacks.callbacks.History at 0x21a8e316e48>"
      ]
     },
     "execution_count": 27,
     "metadata": {},
     "output_type": "execute_result"
    }
   ],
   "source": [
    "#fit the model\n",
    "X,y = generate_examples(size, 5000)\n",
    "model.fit(X, y, batch_size=32, epochs = 1)"
   ]
  },
  {
   "cell_type": "markdown",
   "metadata": {},
   "source": [
    "#### Evaluate the Model"
   ]
  },
  {
   "cell_type": "markdown",
   "metadata": {},
   "source": [
    "Next, we can estimate the skill of the model on new random sequences. Here, we can generate 100 new random sequences and evaluate the accuracy of the model."
   ]
  },
  {
   "cell_type": "code",
   "execution_count": 28,
   "metadata": {},
   "outputs": [
    {
     "name": "stdout",
     "output_type": "stream",
     "text": [
      "loss: 0.006691, acc: 100.000000\n"
     ]
    }
   ],
   "source": [
    "# evaluate model \n",
    "X, y = generate_examples(size, 100) \n",
    "loss, acc = model.evaluate(X, y, verbose=0) \n",
    "print('loss: %f, acc: %f' % (loss, acc*100))"
   ]
  },
  {
   "cell_type": "markdown",
   "metadata": {},
   "source": [
    "#### Make Prediction"
   ]
  },
  {
   "cell_type": "code",
   "execution_count": 29,
   "metadata": {},
   "outputs": [
    {
     "name": "stdout",
     "output_type": "stream",
     "text": [
      "Expected: Left, Predicted: Left\n"
     ]
    }
   ],
   "source": [
    "# prediction on new data \n",
    "X, y = generate_examples(size, 1) \n",
    "yhat = model.predict_classes(X, verbose=0) \n",
    "expected = 'Right' if y[0]==1 else 'Left' \n",
    "predicted = 'Right' if yhat[0]==1 else 'Left'\n",
    "print('Expected: %s, Predicted: %s' % (expected, predicted))"
   ]
  },
  {
   "cell_type": "code",
   "execution_count": null,
   "metadata": {},
   "outputs": [],
   "source": []
  }
 ],
 "metadata": {
  "kernelspec": {
   "display_name": "Python 3",
   "language": "python",
   "name": "python3"
  },
  "language_info": {
   "codemirror_mode": {
    "name": "ipython",
    "version": 3
   },
   "file_extension": ".py",
   "mimetype": "text/x-python",
   "name": "python",
   "nbconvert_exporter": "python",
   "pygments_lexer": "ipython3",
   "version": "3.6.4"
  }
 },
 "nbformat": 4,
 "nbformat_minor": 2
}
