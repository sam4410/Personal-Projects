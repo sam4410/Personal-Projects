{
 "cells": [
  {
   "cell_type": "code",
   "execution_count": 1,
   "metadata": {},
   "outputs": [],
   "source": [
    "import os\n",
    "path = 'F:\\Python Directory\\Diageo Case Data'\n",
    "os.chdir(path)"
   ]
  },
  {
   "cell_type": "code",
   "execution_count": 2,
   "metadata": {},
   "outputs": [
    {
     "name": "stdout",
     "output_type": "stream",
     "text": [
      "(420554, 9)\n",
      "(40414, 9)\n"
     ]
    }
   ],
   "source": [
    "import pandas as pd\n",
    "import numpy as np\n",
    "import datetime\n",
    "import matplotlib.pyplot as plt\n",
    "%matplotlib inline\n",
    "plt.rcParams['figure.figsize'] = (20, 10)\n",
    "import seaborn as sns\n",
    "sns.set(style=\"whitegrid\")\n",
    "from functools import reduce\n",
    "import warnings\n",
    "warnings.filterwarnings('ignore')\n",
    "\n",
    "\n",
    "inv_data = pd.read_csv('InvoiceData.csv')\n",
    "disp_data = pd.read_csv('Disputes.csv')\n",
    "\n",
    "dispute_docs = ['YVCR', 'YVDR','YCR','YDR'] \n",
    "disp_data = disp_data[disp_data['PO_Type'].isin(dispute_docs)]\n",
    "print(inv_data.shape)\n",
    "print(disp_data.shape)"
   ]
  },
  {
   "cell_type": "code",
   "execution_count": 3,
   "metadata": {},
   "outputs": [],
   "source": [
    "#number of PO under dispute by customer ID\n",
    "df_dispute = disp_data.groupby('Customer_ID')['Country_ID'].count().to_frame().reset_index()\n",
    "df_dispute = df_dispute.rename(columns = {'Country_ID':'cnt_dispute_PO'})\n",
    "#amount of PO under dispute by customer ID\n",
    "df_dispute_amt = disp_data.groupby('Customer_ID')['PO_Amount'].mean().reset_index()\n",
    "df_dispute_amt = df_dispute_amt.rename(columns = {'PO_Amount':'dispute_PO_amt'})"
   ]
  },
  {
   "cell_type": "markdown",
   "metadata": {},
   "source": [
    "### Background"
   ]
  },
  {
   "cell_type": "markdown",
   "metadata": {},
   "source": [
    "Data belongs to invoices created over a certain time period by Random Ltd, a CPG company for the goods sold to retailers/distributors. These retailers/distributors are supposed to pay against these invoices as per defined payment terms of the company. Recently Random Ltd. has realised that some of these reatilers/distributors are not honoring the payment terms and are delaying or not paying their payments leading to problems in their cashflow.\n",
    "\n",
    "In this analysis, I have been provided with 2 datasets: 1st dataset consists of more than 400K+ invoices and payment history belongs to 1037 customers. Another file is shared with purchase order details and PO's under dispute.\n",
    "\n",
    "Here our aim is to understand customer behavior regarding invoice payments, and propose an analytical approach to learning and predicting payment behavior. The logic can then be embedded into a decision support system where decision makers can make predictions regarding future payments, and take actions as necessary toward the collection of potentially unpaid debt, or adjust their financial plans based on the expected invoice-to-cash amount."
   ]
  },
  {
   "cell_type": "markdown",
   "metadata": {},
   "source": [
    "##### Data Pre-processing"
   ]
  },
  {
   "cell_type": "code",
   "execution_count": 4,
   "metadata": {},
   "outputs": [],
   "source": [
    "#converting string date formats to datetime\n",
    "date_cols = ['Invoice_Creation_Date','Invoice_Due_Date','Invoice_Clearing_date']\n",
    "date_cols1 = ['PO_Created_Date','PO_Modified_Date','PO_Delivery_Date']\n",
    "\n",
    "for i in date_cols:\n",
    "    inv_data[i] = inv_data[i].apply(lambda x: datetime.datetime.strptime(x, '%m/%d/%Y'))\n",
    "\n",
    "for i in date_cols1:\n",
    "    disp_data[i] = disp_data[i].apply(lambda x: datetime.datetime.strptime(x, '%m/%d/%Y'))"
   ]
  },
  {
   "cell_type": "code",
   "execution_count": 5,
   "metadata": {},
   "outputs": [],
   "source": [
    "#calculate difference in days between due date and claering date\n",
    "inv_data['invoice_due_in_days'] = (inv_data['Invoice_Due_Date'] - inv_data['Invoice_Creation_Date']).dt.days\n",
    "#how many days invoice paid in\n",
    "inv_data['invoice_paid_in_days'] = np.where(inv_data['Invoice_Clearing_date'] != '1900-01-01',\n",
    "                                            (inv_data['Invoice_Clearing_date'] - inv_data['Invoice_Creation_Date']).dt.days,\n",
    "                                           inv_data['invoice_due_in_days'])\n",
    "#how many days later invoice got paid if paid after due date\n",
    "inv_data['delay_in_days'] = np.where((inv_data['invoice_paid_in_days']-inv_data['invoice_due_in_days'])>0,\n",
    "                                    (inv_data['invoice_paid_in_days']-inv_data['invoice_due_in_days']),0)\n",
    "#merging information from PO dispute like number of PO under dispute and amount of dispute by customer ID\n",
    "inv_data = pd.merge(inv_data, df_dispute,how = 'left', on = ['Customer_ID'])\n",
    "inv_data = pd.merge(inv_data, df_dispute_amt,how = 'left', on = ['Customer_ID'])"
   ]
  },
  {
   "cell_type": "code",
   "execution_count": 6,
   "metadata": {},
   "outputs": [],
   "source": [
    "#assigning paid status against each invoice\n",
    "inv_data['paid_status'] = np.where(inv_data['invoice_due_in_days'] >= inv_data['invoice_paid_in_days'],'invoice_paid_in_time',\n",
    "                                  np.where((inv_data['invoice_due_in_days'] < inv_data['invoice_paid_in_days']) &\n",
    "                                          (inv_data['Invoice_Due_Date'].dt.month == inv_data['Invoice_Clearing_date'].dt.month),\n",
    "                                          'invoice_paid_in_same_month','invoice_paid_over_month_or_not_paid'))\n",
    "\n",
    "#putting unpaid invoices under 'invoice_paid_over_month_or_not_paid'\n",
    "inv_data.loc[inv_data['Invoice_Clearing_date'] == '1900-01-01','paid_status'] = 'invoice_paid_over_month_or_not_paid'"
   ]
  },
  {
   "cell_type": "code",
   "execution_count": 7,
   "metadata": {},
   "outputs": [
    {
     "data": {
      "text/html": [
       "<div>\n",
       "<style scoped>\n",
       "    .dataframe tbody tr th:only-of-type {\n",
       "        vertical-align: middle;\n",
       "    }\n",
       "\n",
       "    .dataframe tbody tr th {\n",
       "        vertical-align: top;\n",
       "    }\n",
       "\n",
       "    .dataframe thead th {\n",
       "        text-align: right;\n",
       "    }\n",
       "</style>\n",
       "<table border=\"1\" class=\"dataframe\">\n",
       "  <thead>\n",
       "    <tr style=\"text-align: right;\">\n",
       "      <th></th>\n",
       "      <th>Invoice_Serial</th>\n",
       "      <th>Invoice_Billing_ID</th>\n",
       "      <th>Customer_ID</th>\n",
       "      <th>Fiscal_Period</th>\n",
       "      <th>Country_ID</th>\n",
       "      <th>Invoice_Creation_Date</th>\n",
       "      <th>Invoice_Due_Date</th>\n",
       "      <th>Invoice_Clearing_date</th>\n",
       "      <th>Invoice_amount</th>\n",
       "      <th>invoice_due_in_days</th>\n",
       "      <th>invoice_paid_in_days</th>\n",
       "      <th>delay_in_days</th>\n",
       "      <th>cnt_dispute_PO</th>\n",
       "      <th>dispute_PO_amt</th>\n",
       "      <th>paid_status</th>\n",
       "    </tr>\n",
       "  </thead>\n",
       "  <tbody>\n",
       "    <tr>\n",
       "      <th>0</th>\n",
       "      <td>02016100044017629671201602</td>\n",
       "      <td>9012194789</td>\n",
       "      <td>10112</td>\n",
       "      <td>201602</td>\n",
       "      <td>77</td>\n",
       "      <td>2015-07-08</td>\n",
       "      <td>2015-08-21</td>\n",
       "      <td>2015-08-18</td>\n",
       "      <td>3644.57</td>\n",
       "      <td>44</td>\n",
       "      <td>41</td>\n",
       "      <td>0</td>\n",
       "      <td>3.0</td>\n",
       "      <td>1353.333333</td>\n",
       "      <td>invoice_paid_in_time</td>\n",
       "    </tr>\n",
       "    <tr>\n",
       "      <th>1</th>\n",
       "      <td>02015100044017516841201601</td>\n",
       "      <td>9012188108</td>\n",
       "      <td>10114</td>\n",
       "      <td>201601</td>\n",
       "      <td>77</td>\n",
       "      <td>2015-06-02</td>\n",
       "      <td>2015-07-21</td>\n",
       "      <td>2015-07-21</td>\n",
       "      <td>4927.61</td>\n",
       "      <td>49</td>\n",
       "      <td>49</td>\n",
       "      <td>0</td>\n",
       "      <td>27.0</td>\n",
       "      <td>977.556296</td>\n",
       "      <td>invoice_paid_in_time</td>\n",
       "    </tr>\n",
       "    <tr>\n",
       "      <th>2</th>\n",
       "      <td>02015100044017524651201601</td>\n",
       "      <td>9012188544</td>\n",
       "      <td>10114</td>\n",
       "      <td>201601</td>\n",
       "      <td>77</td>\n",
       "      <td>2015-06-04</td>\n",
       "      <td>2015-07-21</td>\n",
       "      <td>2015-07-21</td>\n",
       "      <td>10337.89</td>\n",
       "      <td>47</td>\n",
       "      <td>47</td>\n",
       "      <td>0</td>\n",
       "      <td>27.0</td>\n",
       "      <td>977.556296</td>\n",
       "      <td>invoice_paid_in_time</td>\n",
       "    </tr>\n",
       "    <tr>\n",
       "      <th>3</th>\n",
       "      <td>02015100044017522681201601</td>\n",
       "      <td>9012188470</td>\n",
       "      <td>10114</td>\n",
       "      <td>201601</td>\n",
       "      <td>77</td>\n",
       "      <td>2015-06-04</td>\n",
       "      <td>2015-07-21</td>\n",
       "      <td>2015-07-21</td>\n",
       "      <td>4223.66</td>\n",
       "      <td>47</td>\n",
       "      <td>47</td>\n",
       "      <td>0</td>\n",
       "      <td>27.0</td>\n",
       "      <td>977.556296</td>\n",
       "      <td>invoice_paid_in_time</td>\n",
       "    </tr>\n",
       "    <tr>\n",
       "      <th>4</th>\n",
       "      <td>02015100044017531121201601</td>\n",
       "      <td>9012188900</td>\n",
       "      <td>10114</td>\n",
       "      <td>201601</td>\n",
       "      <td>77</td>\n",
       "      <td>2015-06-08</td>\n",
       "      <td>2015-07-21</td>\n",
       "      <td>2015-07-21</td>\n",
       "      <td>1407.89</td>\n",
       "      <td>43</td>\n",
       "      <td>43</td>\n",
       "      <td>0</td>\n",
       "      <td>27.0</td>\n",
       "      <td>977.556296</td>\n",
       "      <td>invoice_paid_in_time</td>\n",
       "    </tr>\n",
       "  </tbody>\n",
       "</table>\n",
       "</div>"
      ],
      "text/plain": [
       "               Invoice_Serial Invoice_Billing_ID  Customer_ID  Fiscal_Period  \\\n",
       "0  02016100044017629671201602         9012194789        10112         201602   \n",
       "1  02015100044017516841201601         9012188108        10114         201601   \n",
       "2  02015100044017524651201601         9012188544        10114         201601   \n",
       "3  02015100044017522681201601         9012188470        10114         201601   \n",
       "4  02015100044017531121201601         9012188900        10114         201601   \n",
       "\n",
       "   Country_ID Invoice_Creation_Date Invoice_Due_Date Invoice_Clearing_date  \\\n",
       "0          77            2015-07-08       2015-08-21            2015-08-18   \n",
       "1          77            2015-06-02       2015-07-21            2015-07-21   \n",
       "2          77            2015-06-04       2015-07-21            2015-07-21   \n",
       "3          77            2015-06-04       2015-07-21            2015-07-21   \n",
       "4          77            2015-06-08       2015-07-21            2015-07-21   \n",
       "\n",
       "   Invoice_amount  invoice_due_in_days  invoice_paid_in_days  delay_in_days  \\\n",
       "0         3644.57                   44                    41              0   \n",
       "1         4927.61                   49                    49              0   \n",
       "2        10337.89                   47                    47              0   \n",
       "3         4223.66                   47                    47              0   \n",
       "4         1407.89                   43                    43              0   \n",
       "\n",
       "   cnt_dispute_PO  dispute_PO_amt           paid_status  \n",
       "0             3.0     1353.333333  invoice_paid_in_time  \n",
       "1            27.0      977.556296  invoice_paid_in_time  \n",
       "2            27.0      977.556296  invoice_paid_in_time  \n",
       "3            27.0      977.556296  invoice_paid_in_time  \n",
       "4            27.0      977.556296  invoice_paid_in_time  "
      ]
     },
     "execution_count": 7,
     "metadata": {},
     "output_type": "execute_result"
    }
   ],
   "source": [
    "inv_data.head()"
   ]
  },
  {
   "cell_type": "markdown",
   "metadata": {},
   "source": [
    "### Exploratory Data Analysis"
   ]
  },
  {
   "cell_type": "markdown",
   "metadata": {},
   "source": [
    "Barplot showing percentage of invoices under each of the 3 payment status:\n",
    "\n",
    "1. invoice_paid_in_time - 39.56% of the total invoices are paid within due date\n",
    "2. invoice_paid_in same month - 45.37% of the invoices are paid in time above due date but within same month of due date\n",
    "3. invoice_paid_later_not_paid - 15.07% of the invoices are not either not paid or paid in time above due date and in next month of due date month."
   ]
  },
  {
   "cell_type": "code",
   "execution_count": 8,
   "metadata": {},
   "outputs": [],
   "source": [
    "df_CF1 = inv_data[(inv_data['paid_status']== 'invoice_paid_in_time') & (inv_data['Fiscal_Period'] <= 201901)].groupby('Fiscal_Period')['Invoice_amount'].sum().reset_index()\n",
    "df_CF1 = df_CF1.rename(columns = {'Invoice_amount':'invoice_paid_in_time'})\n",
    "df_CF2 = inv_data[(inv_data['paid_status']== 'invoice_paid_in_same_month') & (inv_data['Fiscal_Period'] <= 201901)].groupby('Fiscal_Period')['Invoice_amount'].sum().reset_index()\n",
    "df_CF2 = df_CF2.rename(columns = {'Invoice_amount':'invoice_paid_in_same_month'})\n",
    "df_CF3 = inv_data[(inv_data['paid_status']== 'invoice_paid_over_month_or_not_paid') & (inv_data['Fiscal_Period'] <= 201901)].groupby('Fiscal_Period')['Invoice_amount'].sum().reset_index()\n",
    "df_CF3 = df_CF3.rename(columns = {'Invoice_amount':'invoice_paid_over_month_or_not_paid'})\n",
    "df_CF = pd.concat([df_CF1,df_CF2,df_CF3],1)\n",
    "df_CF = df_CF[['Fiscal_Period','invoice_paid_in_time','invoice_paid_in_same_month',\n",
    "                                            'invoice_paid_over_month_or_not_paid']]\n",
    "df_CF = df_CF.iloc[:,2:]\n",
    "df_CF['invoice_delayed_as_pct_in_time'] = df_CF['invoice_paid_over_month_or_not_paid']/df_CF['invoice_paid_in_time']\n",
    "df_CF['invoice_delayed_as_pct_in_same_month'] = df_CF['invoice_paid_over_month_or_not_paid']/df_CF['invoice_paid_in_same_month']\n",
    "df_CF['invoice_delayed_as_pct_portfolio'] = df_CF['invoice_paid_over_month_or_not_paid']/(df_CF['invoice_paid_in_time'] + df_CF['invoice_paid_in_same_month'] + df_CF['invoice_paid_over_month_or_not_paid'])\n",
    "df_CF['invoice_paid_in _same_month_as_pct_portfolio'] = df_CF['invoice_paid_in_same_month']/(df_CF['invoice_paid_in_time'] + df_CF['invoice_paid_in_same_month'] + df_CF['invoice_paid_over_month_or_not_paid'])"
   ]
  },
  {
   "cell_type": "code",
   "execution_count": 9,
   "metadata": {},
   "outputs": [
    {
     "data": {
      "text/plain": [
       "<matplotlib.legend.Legend at 0x2182a42c4a8>"
      ]
     },
     "execution_count": 9,
     "metadata": {},
     "output_type": "execute_result"
    },
    {
     "data": {
      "image/png": "[encoded data removed]",
      "text/plain": [
       "<matplotlib.figure.Figure at 0x2182a9ebcf8>"
      ]
     },
     "metadata": {},
     "output_type": "display_data"
    }
   ],
   "source": [
    "#visualizing invoice amount under \n",
    "df_CF[['invoice_delayed_as_pct_portfolio',\n",
    "       'invoice_paid_in _same_month_as_pct_portfolio']].plot(kind = 'line',figsize = (15,6),\n",
    "                                                    label = 'trendlines of invoice amount by fiscal period by payment status')\n",
    "plt.ylabel('Total Invoice Amount')\n",
    "plt.xlabel('Fiscal Period')\n",
    "plt.legend(loc = 'upper left')"
   ]
  },
  {
   "cell_type": "code",
   "execution_count": 10,
   "metadata": {},
   "outputs": [
    {
     "name": "stdout",
     "output_type": "stream",
     "text": [
      "0.21394273430093463\n",
      "0.21586247331890457\n",
      "0.043097139432988554\n",
      "0.060811963624370954\n"
     ]
    }
   ],
   "source": [
    "print(df_CF['invoice_delayed_as_pct_in_time'].mean())\n",
    "print(df_CF['invoice_delayed_as_pct_in_same_month'].mean())\n",
    "print(df_CF['invoice_delayed_as_pct_portfolio'].std())\n",
    "print(df_CF['invoice_paid_in _same_month_as_pct_portfolio'].std())"
   ]
  },
  {
   "cell_type": "code",
   "execution_count": 11,
   "metadata": {},
   "outputs": [
    {
     "data": {
      "text/plain": [
       "invoice_paid_in_same_month             190803\n",
       "invoice_paid_in_time                   166351\n",
       "invoice_paid_over_month_or_not_paid     63400\n",
       "Name: paid_status, dtype: int64"
      ]
     },
     "execution_count": 11,
     "metadata": {},
     "output_type": "execute_result"
    }
   ],
   "source": [
    "inv_data['paid_status'].value_counts()"
   ]
  },
  {
   "cell_type": "code",
   "execution_count": 12,
   "metadata": {},
   "outputs": [
    {
     "data": {
      "image/png": "[encoded data removed]",
      "text/plain": [
       "<matplotlib.figure.Figure at 0x21822607ef0>"
      ]
     },
     "metadata": {},
     "output_type": "display_data"
    }
   ],
   "source": [
    "#percentage of invoices under each payment status\n",
    "inv_data['paid_status'].value_counts(normalize = True).plot(kind='bar', figsize=(10,6), \n",
    "                                                            label = 'Percent of invoices by payment status')\n",
    "plt.xticks(rotation = 10)\n",
    "plt.legend(loc=\"upper right\", fontsize = 'large')\n",
    "plt.xlabel('Payment Status', fontsize = 'large')\n",
    "plt.ylabel('Percentage of Invoices', fontsize = 'large')\n",
    "plt.xticks(fontsize = 'large')\n",
    "plt.yticks(fontsize = 'large')\n",
    "plt.show()"
   ]
  },
  {
   "cell_type": "markdown",
   "metadata": {},
   "source": [
    "Below plot is showing breakup of invoice payment status by country\n",
    "\n",
    "* Country with ID 83 is having 47% of total invoices which either got delayed over month or not paid having a pronounced negative effect on cashflow\n",
    "* Country with ID 77 is having 51% of total invoices which are paid within due date and having a positive effect on cashflow\n",
    "\n",
    "This clearly shows that countries do have effect on payment behaviour of retailer/distributors and could be used as a good feature in modelling "
   ]
  },
  {
   "cell_type": "code",
   "execution_count": 13,
   "metadata": {},
   "outputs": [
    {
     "data": {
      "text/plain": [
       "(array([0. , 0.1, 0.2, 0.3, 0.4, 0.5, 0.6]),\n",
       " <a list of 7 Text yticklabel objects>)"
      ]
     },
     "execution_count": 13,
     "metadata": {},
     "output_type": "execute_result"
    },
    {
     "data": {
      "image/png": "[encoded data removed]",
      "text/plain": [
       "<matplotlib.figure.Figure at 0x218279be518>"
      ]
     },
     "metadata": {},
     "output_type": "display_data"
    }
   ],
   "source": [
    "#invoice payment status vs country\n",
    "plt.rcParams['figure.figsize'] = (20, 10)\n",
    "plt.rcParams[\"axes.labelsize\"] = 12\n",
    "x, y, hue = \"Country_ID\", \"proportion\", \"paid_status\"\n",
    "\n",
    "df = inv_data[x].groupby(inv_data[hue]).value_counts(normalize=True).rename(y).reset_index()\n",
    "g=sns.barplot(x=x, y=y, hue = hue, data=df)\n",
    "ax = g\n",
    "for p in ax.patches:\n",
    "             ax.annotate(\"%.2f\" % p.get_height(), (p.get_x() + p.get_width() / 2., p.get_height()),\n",
    "                 ha='center', va='center', fontsize=15, color='black', xytext=(0, 20),\n",
    "                 textcoords='offset points')\n",
    "plt.title('Invoice Payment Status by Country', fontsize = 'xx-large')\n",
    "plt.xlabel('Country', fontsize = 'xx-large')\n",
    "plt.ylabel('Percentages of Invoices', fontsize = 'xx-large')\n",
    "plt.legend(fontsize = 'x-large')\n",
    "plt.xticks(fontsize = 'x-large')\n",
    "plt.yticks(fontsize = 'x-large')"
   ]
  },
  {
   "cell_type": "code",
   "execution_count": 14,
   "metadata": {},
   "outputs": [
    {
     "data": {
      "text/plain": [
       "Country_ID\n",
       "66    0.225503\n",
       "77    0.450292\n",
       "83    0.324206\n",
       "Name: Country_ID, dtype: float64"
      ]
     },
     "execution_count": 14,
     "metadata": {},
     "output_type": "execute_result"
    }
   ],
   "source": [
    "#breakup of invoices by countries \n",
    "inv_data.groupby('Country_ID')['Country_ID'].count()/inv_data['Country_ID'].count()"
   ]
  },
  {
   "cell_type": "markdown",
   "metadata": {},
   "source": [
    "##### EDA based on invoice due days (number of days a customer is given to clear invoice)"
   ]
  },
  {
   "cell_type": "markdown",
   "metadata": {},
   "source": [
    "Here the hypothesis was that invoices with larger difference between due date and invoice creation date (number of days) tend to be paid within time or in same month and invoices with smaller difference tend to be delayed over month."
   ]
  },
  {
   "cell_type": "markdown",
   "metadata": {},
   "source": [
    "Below barchart shows average difference between invoice generation date and invoice due date (number of days allowed for customer to pay their invoice amount).\n",
    "\n",
    "This chart clearly shows that customers who paid their invoices within due date or within same month are having much higher average number of days (42 days) than customer who paid invoice over month or not paid at all (31 days).\n",
    "\n",
    "This clearly shows that customers provided with larger due time to clear their invoices are more likely to clear it within due time.\n",
    "\n",
    "Based on this observation, we can use 'invoice_due_in_days' as a feature in model development"
   ]
  },
  {
   "cell_type": "code",
   "execution_count": 15,
   "metadata": {},
   "outputs": [
    {
     "data": {
      "text/plain": [
       "paid_status\n",
       "invoice_paid_in_same_month             42.721320\n",
       "invoice_paid_in_time                   41.983156\n",
       "invoice_paid_over_month_or_not_paid    33.334921\n",
       "Name: invoice_due_in_days, dtype: float64"
      ]
     },
     "execution_count": 15,
     "metadata": {},
     "output_type": "execute_result"
    }
   ],
   "source": [
    "#average number of due days available to customer for paying their invoices by payment status corrected for unpaid invoices\n",
    "inv_data.groupby(inv_data['paid_status'])['invoice_due_in_days'].mean()"
   ]
  },
  {
   "cell_type": "code",
   "execution_count": 16,
   "metadata": {},
   "outputs": [
    {
     "data": {
      "image/png": "[encoded data removed]",
      "text/plain": [
       "<matplotlib.figure.Figure at 0x21822607ac8>"
      ]
     },
     "metadata": {},
     "output_type": "display_data"
    }
   ],
   "source": [
    "inv_data.groupby(inv_data['paid_status'])['invoice_due_in_days'].mean().plot(kind='bar', figsize=(10,6), \n",
    "                                                            label = 'Avg due days by payment status')\n",
    "plt.xticks(rotation = 10)\n",
    "plt.legend(loc=\"upper right\", fontsize = 'medium')\n",
    "plt.xlabel('Payment Status', fontsize = 'large')\n",
    "plt.ylabel('Average Due Days', fontsize = 'large')\n",
    "plt.xticks(fontsize = 'large')\n",
    "plt.yticks(fontsize = 'large')\n",
    "plt.show()"
   ]
  },
  {
   "cell_type": "markdown",
   "metadata": {},
   "source": [
    "Below barchart is further to investigate invoice due in days by payment status and country to see if the above observation hold true for all 3 countries or not.\n",
    "\n",
    "For country with ID 83, we see that average invoice due days for invoice paid in time is similar to invoice paid over month. In other 2 countries, the above observation holds true (average invoice due days is higher for invoices paid in time and paid in same month than for invoices paid over month or not paid)"
   ]
  },
  {
   "cell_type": "code",
   "execution_count": 17,
   "metadata": {},
   "outputs": [
    {
     "data": {
      "text/html": [
       "<div>\n",
       "<style scoped>\n",
       "    .dataframe tbody tr th:only-of-type {\n",
       "        vertical-align: middle;\n",
       "    }\n",
       "\n",
       "    .dataframe tbody tr th {\n",
       "        vertical-align: top;\n",
       "    }\n",
       "\n",
       "    .dataframe thead th {\n",
       "        text-align: right;\n",
       "    }\n",
       "</style>\n",
       "<table border=\"1\" class=\"dataframe\">\n",
       "  <thead>\n",
       "    <tr style=\"text-align: right;\">\n",
       "      <th></th>\n",
       "      <th>Country_ID</th>\n",
       "      <th>paid_status</th>\n",
       "      <th>invoice_due_in_days</th>\n",
       "    </tr>\n",
       "  </thead>\n",
       "  <tbody>\n",
       "    <tr>\n",
       "      <th>0</th>\n",
       "      <td>66</td>\n",
       "      <td>invoice_paid_in_same_month</td>\n",
       "      <td>55.069418</td>\n",
       "    </tr>\n",
       "    <tr>\n",
       "      <th>1</th>\n",
       "      <td>66</td>\n",
       "      <td>invoice_paid_in_time</td>\n",
       "      <td>53.910950</td>\n",
       "    </tr>\n",
       "    <tr>\n",
       "      <th>2</th>\n",
       "      <td>66</td>\n",
       "      <td>invoice_paid_over_month_or_not_paid</td>\n",
       "      <td>40.316769</td>\n",
       "    </tr>\n",
       "    <tr>\n",
       "      <th>3</th>\n",
       "      <td>77</td>\n",
       "      <td>invoice_paid_in_same_month</td>\n",
       "      <td>38.164432</td>\n",
       "    </tr>\n",
       "    <tr>\n",
       "      <th>4</th>\n",
       "      <td>77</td>\n",
       "      <td>invoice_paid_in_time</td>\n",
       "      <td>42.284617</td>\n",
       "    </tr>\n",
       "    <tr>\n",
       "      <th>5</th>\n",
       "      <td>77</td>\n",
       "      <td>invoice_paid_over_month_or_not_paid</td>\n",
       "      <td>34.765429</td>\n",
       "    </tr>\n",
       "    <tr>\n",
       "      <th>6</th>\n",
       "      <td>83</td>\n",
       "      <td>invoice_paid_in_same_month</td>\n",
       "      <td>39.915088</td>\n",
       "    </tr>\n",
       "    <tr>\n",
       "      <th>7</th>\n",
       "      <td>83</td>\n",
       "      <td>invoice_paid_in_time</td>\n",
       "      <td>28.079997</td>\n",
       "    </tr>\n",
       "    <tr>\n",
       "      <th>8</th>\n",
       "      <td>83</td>\n",
       "      <td>invoice_paid_over_month_or_not_paid</td>\n",
       "      <td>30.297885</td>\n",
       "    </tr>\n",
       "  </tbody>\n",
       "</table>\n",
       "</div>"
      ],
      "text/plain": [
       "   Country_ID                          paid_status  invoice_due_in_days\n",
       "0          66           invoice_paid_in_same_month            55.069418\n",
       "1          66                 invoice_paid_in_time            53.910950\n",
       "2          66  invoice_paid_over_month_or_not_paid            40.316769\n",
       "3          77           invoice_paid_in_same_month            38.164432\n",
       "4          77                 invoice_paid_in_time            42.284617\n",
       "5          77  invoice_paid_over_month_or_not_paid            34.765429\n",
       "6          83           invoice_paid_in_same_month            39.915088\n",
       "7          83                 invoice_paid_in_time            28.079997\n",
       "8          83  invoice_paid_over_month_or_not_paid            30.297885"
      ]
     },
     "execution_count": 17,
     "metadata": {},
     "output_type": "execute_result"
    }
   ],
   "source": [
    "#breakup of average due days available to customers for paying invoices by payment status across countries\n",
    "pd.DataFrame(inv_data.groupby(['Country_ID','paid_status'])['invoice_due_in_days'].mean().reset_index())"
   ]
  },
  {
   "cell_type": "code",
   "execution_count": 18,
   "metadata": {},
   "outputs": [
    {
     "data": {
      "text/plain": [
       "<seaborn.axisgrid.FacetGrid at 0x2182272e550>"
      ]
     },
     "execution_count": 18,
     "metadata": {},
     "output_type": "execute_result"
    },
    {
     "data": {
      "image/png": "[encoded data removed]",
      "text/plain": [
       "<matplotlib.figure.Figure at 0x21827727898>"
      ]
     },
     "metadata": {},
     "output_type": "display_data"
    }
   ],
   "source": [
    "plt.rcParams['figure.figsize'] = (20, 10)\n",
    "plt.rcParams[\"axes.labelsize\"] = 12\n",
    "\n",
    "chart = sns.catplot('paid_status', 'invoice_due_in_days', col=\"Country_ID\", col_wrap=3,ci = None,\n",
    "                data=inv_data,\n",
    "                kind='bar')\n",
    "chart.set_xticklabels(rotation=15)"
   ]
  },
  {
   "cell_type": "markdown",
   "metadata": {},
   "source": [
    "The initial hypothesis holds true!"
   ]
  },
  {
   "cell_type": "markdown",
   "metadata": {},
   "source": [
    "##### EDA based on Invoice amount"
   ]
  },
  {
   "cell_type": "markdown",
   "metadata": {},
   "source": [
    "Here the assumption is that invoices with larger amount tend to be paid within due days as compared to invoices with smaller amount. This is because large amount invoices is created for large size retailers/distributors having a good financial health and are less likely to delay invoice clearance."
   ]
  },
  {
   "cell_type": "code",
   "execution_count": 19,
   "metadata": {},
   "outputs": [
    {
     "name": "stdout",
     "output_type": "stream",
     "text": [
      "0.00011970299999999999\n",
      "6806901.92\n",
      "29039.918176764582\n",
      "7935.959041\n"
     ]
    }
   ],
   "source": [
    "print(inv_data['Invoice_amount'].min())\n",
    "print(inv_data['Invoice_amount'].max())\n",
    "print(inv_data['Invoice_amount'].mean())\n",
    "print(inv_data['Invoice_amount'].median())"
   ]
  },
  {
   "cell_type": "code",
   "execution_count": 20,
   "metadata": {},
   "outputs": [
    {
     "data": {
      "text/plain": [
       "count    4.205540e+05\n",
       "mean     2.903992e+04\n",
       "std      6.408366e+04\n",
       "min      1.197030e-04\n",
       "25%      1.199991e+03\n",
       "50%      7.935959e+03\n",
       "75%      3.063533e+04\n",
       "max      6.806902e+06\n",
       "Name: Invoice_amount, dtype: float64"
      ]
     },
     "execution_count": 20,
     "metadata": {},
     "output_type": "execute_result"
    }
   ],
   "source": [
    "inv_data['Invoice_amount'].describe()"
   ]
  },
  {
   "cell_type": "markdown",
   "metadata": {},
   "source": [
    "Box plot is created using log of invoice amount against payment status and country. It is shwoing distribution of invoices on log scale and here we can see are lot of outliers in invoice amount (very large or very small amounts). This is clear from the above summary that invoice amount distribution is having a large range (min: 0.00012 to max: 6806901)"
   ]
  },
  {
   "cell_type": "code",
   "execution_count": 21,
   "metadata": {},
   "outputs": [
    {
     "data": {
      "image/png": "[encoded data removed]",
      "text/plain": [
       "<matplotlib.figure.Figure at 0x21822790198>"
      ]
     },
     "metadata": {},
     "output_type": "display_data"
    }
   ],
   "source": [
    "#distibution of invoice amount by paid status\n",
    "plt.rcParams['figure.figsize'] = (20, 10)\n",
    "ax = sns.boxplot(x=inv_data['paid_status'], y=np.log(inv_data['Invoice_amount']), hue=inv_data['Country_ID'], \n",
    "                 palette=\"Set3\")"
   ]
  },
  {
   "cell_type": "markdown",
   "metadata": {},
   "source": [
    "Below barchart shows that invoices with low amount are more likely to get delayed while invoices with large amount are more likely to get paid within due date. "
   ]
  },
  {
   "cell_type": "code",
   "execution_count": 22,
   "metadata": {},
   "outputs": [
    {
     "name": "stdout",
     "output_type": "stream",
     "text": [
      "Average invoice amount by payment status: paid_status\n",
      "invoice_paid_in_same_month             26933.0\n",
      "invoice_paid_in_time                   34732.0\n",
      "invoice_paid_over_month_or_not_paid    20447.0\n",
      "Name: Invoice_amount, dtype: float64\n"
     ]
    }
   ],
   "source": [
    "#average invoice amount by payment status\n",
    "print('Average invoice amount by payment status: {}'\n",
    "      .format(round(inv_data.groupby(inv_data['paid_status'])['Invoice_amount'].mean())))"
   ]
  },
  {
   "cell_type": "code",
   "execution_count": 23,
   "metadata": {},
   "outputs": [
    {
     "data": {
      "image/png": "[encoded data removed]",
      "text/plain": [
       "<matplotlib.figure.Figure at 0x21822701128>"
      ]
     },
     "metadata": {},
     "output_type": "display_data"
    }
   ],
   "source": [
    "#Average invoice amount by paid status\n",
    "inv_data.groupby(inv_data['paid_status'])['Invoice_amount'].mean().plot(kind='bar', figsize=(10,6), \n",
    "                                                            label = 'Avg invoice amount by payment status')\n",
    "\n",
    "plt.xticks(rotation = 10)\n",
    "plt.legend(loc=\"upper right\", fontsize = 'small')\n",
    "plt.xlabel('Payment Status', fontsize = 'large')\n",
    "plt.ylabel('Average invoice amount', fontsize = 'large')\n",
    "plt.xticks(fontsize = 'large')\n",
    "plt.yticks(fontsize = 'large')\n",
    "plt.show()"
   ]
  },
  {
   "cell_type": "markdown",
   "metadata": {},
   "source": [
    "The boxplot above is not giving a clear relatioship between invoice amount with payment status and country. To further investigate, below barchart is created to see average invoice amount by payment status and country. Country with ID 77 is having much larger average invoice amount for invoices either paid later than due date or not paid at all (33231). So this country seems to have a more pronounced effect of delay in invoice payments on cashflow then other two countries."
   ]
  },
  {
   "cell_type": "code",
   "execution_count": 24,
   "metadata": {},
   "outputs": [
    {
     "data": {
      "text/html": [
       "<div>\n",
       "<style scoped>\n",
       "    .dataframe tbody tr th:only-of-type {\n",
       "        vertical-align: middle;\n",
       "    }\n",
       "\n",
       "    .dataframe tbody tr th {\n",
       "        vertical-align: top;\n",
       "    }\n",
       "\n",
       "    .dataframe thead th {\n",
       "        text-align: right;\n",
       "    }\n",
       "</style>\n",
       "<table border=\"1\" class=\"dataframe\">\n",
       "  <thead>\n",
       "    <tr style=\"text-align: right;\">\n",
       "      <th></th>\n",
       "      <th>Country_ID</th>\n",
       "      <th>paid_status</th>\n",
       "      <th>Invoice_amount</th>\n",
       "    </tr>\n",
       "  </thead>\n",
       "  <tbody>\n",
       "    <tr>\n",
       "      <th>0</th>\n",
       "      <td>66</td>\n",
       "      <td>invoice_paid_in_same_month</td>\n",
       "      <td>20530.441868</td>\n",
       "    </tr>\n",
       "    <tr>\n",
       "      <th>1</th>\n",
       "      <td>66</td>\n",
       "      <td>invoice_paid_in_time</td>\n",
       "      <td>15763.221617</td>\n",
       "    </tr>\n",
       "    <tr>\n",
       "      <th>2</th>\n",
       "      <td>66</td>\n",
       "      <td>invoice_paid_over_month_or_not_paid</td>\n",
       "      <td>15142.120788</td>\n",
       "    </tr>\n",
       "    <tr>\n",
       "      <th>3</th>\n",
       "      <td>77</td>\n",
       "      <td>invoice_paid_in_same_month</td>\n",
       "      <td>48875.002442</td>\n",
       "    </tr>\n",
       "    <tr>\n",
       "      <th>4</th>\n",
       "      <td>77</td>\n",
       "      <td>invoice_paid_in_time</td>\n",
       "      <td>51938.695193</td>\n",
       "    </tr>\n",
       "    <tr>\n",
       "      <th>5</th>\n",
       "      <td>77</td>\n",
       "      <td>invoice_paid_over_month_or_not_paid</td>\n",
       "      <td>33231.325950</td>\n",
       "    </tr>\n",
       "    <tr>\n",
       "      <th>6</th>\n",
       "      <td>83</td>\n",
       "      <td>invoice_paid_in_same_month</td>\n",
       "      <td>5767.933468</td>\n",
       "    </tr>\n",
       "    <tr>\n",
       "      <th>7</th>\n",
       "      <td>83</td>\n",
       "      <td>invoice_paid_in_time</td>\n",
       "      <td>17612.563689</td>\n",
       "    </tr>\n",
       "    <tr>\n",
       "      <th>8</th>\n",
       "      <td>83</td>\n",
       "      <td>invoice_paid_over_month_or_not_paid</td>\n",
       "      <td>10892.392201</td>\n",
       "    </tr>\n",
       "  </tbody>\n",
       "</table>\n",
       "</div>"
      ],
      "text/plain": [
       "   Country_ID                          paid_status  Invoice_amount\n",
       "0          66           invoice_paid_in_same_month    20530.441868\n",
       "1          66                 invoice_paid_in_time    15763.221617\n",
       "2          66  invoice_paid_over_month_or_not_paid    15142.120788\n",
       "3          77           invoice_paid_in_same_month    48875.002442\n",
       "4          77                 invoice_paid_in_time    51938.695193\n",
       "5          77  invoice_paid_over_month_or_not_paid    33231.325950\n",
       "6          83           invoice_paid_in_same_month     5767.933468\n",
       "7          83                 invoice_paid_in_time    17612.563689\n",
       "8          83  invoice_paid_over_month_or_not_paid    10892.392201"
      ]
     },
     "execution_count": 24,
     "metadata": {},
     "output_type": "execute_result"
    }
   ],
   "source": [
    "#average invoice amount by payment status across countries\n",
    "pd.DataFrame(inv_data.groupby(['Country_ID','paid_status'])['Invoice_amount'].mean().reset_index())"
   ]
  },
  {
   "cell_type": "code",
   "execution_count": 25,
   "metadata": {},
   "outputs": [
    {
     "data": {
      "text/plain": [
       "<seaborn.axisgrid.FacetGrid at 0x218232bce80>"
      ]
     },
     "execution_count": 25,
     "metadata": {},
     "output_type": "execute_result"
    },
    {
     "data": {
      "image/png": "[encoded data removed]",
      "text/plain": [
       "<matplotlib.figure.Figure at 0x218232bcf98>"
      ]
     },
     "metadata": {},
     "output_type": "display_data"
    }
   ],
   "source": [
    "plt.rcParams['figure.figsize'] = (20, 10)\n",
    "plt.rcParams[\"axes.labelsize\"] = 12\n",
    "chart = sns.catplot(\"paid_status\",'Invoice_amount', col=\"Country_ID\", col_wrap=3,ci = None,\n",
    "                data=inv_data,\n",
    "                kind=\"bar\")\n",
    "chart.set_xticklabels(rotation=15)"
   ]
  },
  {
   "cell_type": "markdown",
   "metadata": {},
   "source": [
    "##### EDA based on delay (delay in number of days made by customer in clearing invoice)"
   ]
  },
  {
   "cell_type": "markdown",
   "metadata": {},
   "source": [
    "Below chart shows an average delay (number of days after due date) in paying invoices by country.\n",
    "\n",
    "* Invoices paid within same month of due date tend be delayed on an average of 5 days across all 3 countries\n",
    "* Invoices paid later than due date or within same month tend to be delayed between 35 to 43 days on an average. Country with ID 83 is having the largest average delay."
   ]
  },
  {
   "cell_type": "code",
   "execution_count": 26,
   "metadata": {},
   "outputs": [
    {
     "data": {
      "text/html": [
       "<div>\n",
       "<style scoped>\n",
       "    .dataframe tbody tr th:only-of-type {\n",
       "        vertical-align: middle;\n",
       "    }\n",
       "\n",
       "    .dataframe tbody tr th {\n",
       "        vertical-align: top;\n",
       "    }\n",
       "\n",
       "    .dataframe thead th {\n",
       "        text-align: right;\n",
       "    }\n",
       "</style>\n",
       "<table border=\"1\" class=\"dataframe\">\n",
       "  <thead>\n",
       "    <tr style=\"text-align: right;\">\n",
       "      <th></th>\n",
       "      <th>Country_ID</th>\n",
       "      <th>paid_status</th>\n",
       "      <th>delay_in_days</th>\n",
       "    </tr>\n",
       "  </thead>\n",
       "  <tbody>\n",
       "    <tr>\n",
       "      <th>0</th>\n",
       "      <td>66</td>\n",
       "      <td>invoice_paid_in_same_month</td>\n",
       "      <td>4.838799</td>\n",
       "    </tr>\n",
       "    <tr>\n",
       "      <th>1</th>\n",
       "      <td>66</td>\n",
       "      <td>invoice_paid_over_month_or_not_paid</td>\n",
       "      <td>39.711129</td>\n",
       "    </tr>\n",
       "    <tr>\n",
       "      <th>2</th>\n",
       "      <td>77</td>\n",
       "      <td>invoice_paid_in_same_month</td>\n",
       "      <td>5.005976</td>\n",
       "    </tr>\n",
       "    <tr>\n",
       "      <th>3</th>\n",
       "      <td>77</td>\n",
       "      <td>invoice_paid_over_month_or_not_paid</td>\n",
       "      <td>35.265982</td>\n",
       "    </tr>\n",
       "    <tr>\n",
       "      <th>4</th>\n",
       "      <td>83</td>\n",
       "      <td>invoice_paid_in_same_month</td>\n",
       "      <td>5.603041</td>\n",
       "    </tr>\n",
       "    <tr>\n",
       "      <th>5</th>\n",
       "      <td>83</td>\n",
       "      <td>invoice_paid_over_month_or_not_paid</td>\n",
       "      <td>42.674984</td>\n",
       "    </tr>\n",
       "  </tbody>\n",
       "</table>\n",
       "</div>"
      ],
      "text/plain": [
       "   Country_ID                          paid_status  delay_in_days\n",
       "0          66           invoice_paid_in_same_month       4.838799\n",
       "1          66  invoice_paid_over_month_or_not_paid      39.711129\n",
       "2          77           invoice_paid_in_same_month       5.005976\n",
       "3          77  invoice_paid_over_month_or_not_paid      35.265982\n",
       "4          83           invoice_paid_in_same_month       5.603041\n",
       "5          83  invoice_paid_over_month_or_not_paid      42.674984"
      ]
     },
     "execution_count": 26,
     "metadata": {},
     "output_type": "execute_result"
    }
   ],
   "source": [
    "#average delay in payment in days by payment status across countries\n",
    "pd.DataFrame(inv_data[inv_data['delay_in_days']>0].groupby(['Country_ID','paid_status'])['delay_in_days'].mean().reset_index())"
   ]
  },
  {
   "cell_type": "code",
   "execution_count": 27,
   "metadata": {},
   "outputs": [
    {
     "data": {
      "text/plain": [
       "<seaborn.axisgrid.FacetGrid at 0x21822779748>"
      ]
     },
     "execution_count": 27,
     "metadata": {},
     "output_type": "execute_result"
    },
    {
     "data": {
      "image/png": "[encoded data removed]",
      "text/plain": [
       "<matplotlib.figure.Figure at 0x21823283320>"
      ]
     },
     "metadata": {},
     "output_type": "display_data"
    }
   ],
   "source": [
    "#Average delay in invoice delay in payment in days across country\n",
    "inv_data1 = inv_data[inv_data['delay_in_days']>0]\n",
    "plt.rcParams['figure.figsize'] = (20, 10)\n",
    "plt.rcParams[\"axes.labelsize\"] = 12\n",
    "\n",
    "chart = sns.catplot('paid_status', 'delay_in_days', col=\"Country_ID\", col_wrap=3,\n",
    "                data=inv_data1, ci = None,kind='bar')\n",
    "\n",
    "chart.set_xticklabels(rotation=15)"
   ]
  },
  {
   "cell_type": "markdown",
   "metadata": {},
   "source": [
    "##### EDA based on number of invoices per customer"
   ]
  },
  {
   "cell_type": "markdown",
   "metadata": {},
   "source": [
    "Here assumption is that customer with fewer invoices are less likely to make late payment.\n",
    "\n",
    "A purity index is calculated between 0 and 1 indicating proportion of invoices for which customer has delayed in payment over total number of invoices for the customer.\n",
    "\n",
    "Total number of invoices against each customers are binned into several buckets: less than 10, between 10 to 25 and so on"
   ]
  },
  {
   "cell_type": "code",
   "execution_count": 28,
   "metadata": {},
   "outputs": [],
   "source": [
    "df1 = pd.DataFrame(inv_data.loc[inv_data['paid_status'] == 'invoice_paid_in_time']\n",
    "                   .groupby(inv_data['Customer_ID'])['paid_status'].count().reset_index())\n",
    "df1 = df1.rename(columns = {'paid_status': 'cnt_invoice_paid_in_time'})\n",
    "df2 = pd.DataFrame(inv_data.loc[inv_data['paid_status'] == 'invoice_paid_in_same_month']\n",
    "                   .groupby(inv_data['Customer_ID'])['paid_status'].count().reset_index())\n",
    "df2 = df2.rename(columns = {'paid_status': 'cnt_invoice_paid_in_same_month'})\n",
    "df3 = pd.DataFrame(inv_data.loc[inv_data['paid_status'] == 'invoice_paid_over_month_or_not_paid']\n",
    "                   .groupby(inv_data['Customer_ID'])['paid_status'].count().reset_index())\n",
    "df3 = df3.rename(columns = {'paid_status': 'cnt_invoice_paid_over_month_or_not_paid'})"
   ]
  },
  {
   "cell_type": "code",
   "execution_count": 29,
   "metadata": {},
   "outputs": [],
   "source": [
    "df_list = [df1,df2,df3]\n",
    "\n",
    "final_df = reduce(lambda left,right: pd.merge(left,right,how = 'outer',on='Customer_ID'), df_list)\n",
    "final_df.fillna(0, inplace=True)\n",
    "final_df['num_invoice'] = final_df['cnt_invoice_paid_in_time']+final_df['cnt_invoice_paid_in_same_month']+final_df['cnt_invoice_paid_over_month_or_not_paid']"
   ]
  },
  {
   "cell_type": "code",
   "execution_count": 30,
   "metadata": {},
   "outputs": [],
   "source": [
    "final_df['cnt_invoice'] = np.where(final_df['num_invoice'] < 10,'less than 10',\n",
    "                                  np.where((final_df['num_invoice']>=10)&(final_df['num_invoice']<25),'between 10 and 25',\n",
    "                                          np.where((final_df['num_invoice']>=25)&(final_df['num_invoice']<50),'between 25 and 50',\n",
    "                                                  np.where((final_df['num_invoice']>=50)&(final_df['num_invoice']<100),'between 50 and 100',\n",
    "                                                          np.where((final_df['num_invoice']>=100)&(final_df['num_invoice']<200),'between 100 and 200',\n",
    "                                                                  'more than 200')))))\n",
    "final_df['impurity_index1'] = (final_df['cnt_invoice_paid_over_month_or_not_paid']+final_df['cnt_invoice_paid_in_same_month'])/final_df['num_invoice']\n",
    "final_df['impurity_index2'] = (final_df['cnt_invoice_paid_over_month_or_not_paid'])/final_df['num_invoice']"
   ]
  },
  {
   "cell_type": "code",
   "execution_count": 31,
   "metadata": {},
   "outputs": [
    {
     "data": {
      "text/plain": [
       "cnt_invoice\n",
       "less than 10           0.305118\n",
       "between 10 and 25      0.474184\n",
       "between 100 and 200    0.536017\n",
       "between 25 and 50      0.537213\n",
       "more than 200          0.557146\n",
       "between 50 and 100     0.587732\n",
       "Name: impurity_index1, dtype: float64"
      ]
     },
     "execution_count": 31,
     "metadata": {},
     "output_type": "execute_result"
    }
   ],
   "source": [
    "final_df.groupby('cnt_invoice')['impurity_index1'].mean().sort_values()"
   ]
  },
  {
   "cell_type": "code",
   "execution_count": 32,
   "metadata": {},
   "outputs": [
    {
     "data": {
      "text/plain": [
       "cnt_invoice\n",
       "between 100 and 200    0.111172\n",
       "between 25 and 50      0.113748\n",
       "between 10 and 25      0.134593\n",
       "between 50 and 100     0.137861\n",
       "more than 200          0.138874\n",
       "less than 10           0.141824\n",
       "Name: impurity_index2, dtype: float64"
      ]
     },
     "execution_count": 32,
     "metadata": {},
     "output_type": "execute_result"
    }
   ],
   "source": [
    "final_df.groupby('cnt_invoice')['impurity_index2'].mean().sort_values()"
   ]
  },
  {
   "cell_type": "markdown",
   "metadata": {},
   "source": [
    "Below chart is clearly showing that customers with less number of invoices are less likely to delay payment and as the number of invoices increases, delay in making payments also increases.\n",
    "\n",
    "The result below holds the assumption!"
   ]
  },
  {
   "cell_type": "code",
   "execution_count": 33,
   "metadata": {},
   "outputs": [
    {
     "data": {
      "image/png": "[encoded data removed]",
      "text/plain": [
       "<matplotlib.figure.Figure at 0x21823439e80>"
      ]
     },
     "metadata": {},
     "output_type": "display_data"
    }
   ],
   "source": [
    "final_df.groupby('cnt_invoice')['impurity_index1'].mean().sort_values().plot(kind = 'bar',figsize=(10,6), \n",
    "                                                            label = 'Impurity index by number of invoice per customer')\n",
    "plt.xticks(rotation = 10)\n",
    "plt.legend(loc=\"upper left\", fontsize = 'medium')\n",
    "plt.xlabel('Number of invoices per customer', fontsize = 'large')\n",
    "plt.ylabel('Purity index', fontsize = 'large')\n",
    "plt.xticks(fontsize = 'large')\n",
    "plt.yticks(fontsize = 'large')\n",
    "plt.show()"
   ]
  },
  {
   "cell_type": "code",
   "execution_count": 34,
   "metadata": {},
   "outputs": [
    {
     "data": {
      "image/png": "[encoded data removed]",
      "text/plain": [
       "<matplotlib.figure.Figure at 0x21823439dd8>"
      ]
     },
     "metadata": {},
     "output_type": "display_data"
    }
   ],
   "source": [
    "final_df.groupby('cnt_invoice')['impurity_index2'].mean().sort_values().plot(kind = 'bar',figsize=(10,6), \n",
    "                                                            label = 'Impurity index by number of invoice per customer')\n",
    "plt.xticks(rotation = 10)\n",
    "plt.legend(loc=\"upper left\", fontsize = 'medium')\n",
    "plt.xlabel('Number of invoices per customer', fontsize = 'large')\n",
    "plt.ylabel('Purity index', fontsize = 'large')\n",
    "plt.xticks(fontsize = 'large')\n",
    "plt.yticks(fontsize = 'large')\n",
    "plt.show()"
   ]
  },
  {
   "cell_type": "markdown",
   "metadata": {},
   "source": [
    "Below stacked bar chart is created to see variation in payment status over fiscal periods. A lot of variation can be observed among the 3 payment status over entire period."
   ]
  },
  {
   "cell_type": "code",
   "execution_count": 35,
   "metadata": {},
   "outputs": [
    {
     "data": {
      "text/plain": [
       "Text(0,0.5,'Number of Invoice')"
      ]
     },
     "execution_count": 35,
     "metadata": {},
     "output_type": "execute_result"
    },
    {
     "data": {
      "image/png": "[encoded data removed]",
      "text/plain": [
       "<matplotlib.figure.Figure at 0x21823c8c278>"
      ]
     },
     "metadata": {},
     "output_type": "display_data"
    }
   ],
   "source": [
    "#exploring relationship between Logged in status against signup source\n",
    "table=pd.crosstab(inv_data['Fiscal_Period'],inv_data['paid_status'])\n",
    "table.div(table.sum(1).astype(float), axis=0).plot(kind='bar', figsize=(15,10), stacked=True)\n",
    "plt.title('Stacked Bar Chart of invoice payment status in each of the fiscal period')\n",
    "plt.xlabel('Fiscal Period')\n",
    "plt.ylabel('Number of Invoice')"
   ]
  },
  {
   "cell_type": "markdown",
   "metadata": {},
   "source": [
    "### Modelling"
   ]
  },
  {
   "cell_type": "markdown",
   "metadata": {},
   "source": [
    "##### Approach"
   ]
  },
  {
   "cell_type": "markdown",
   "metadata": {},
   "source": [
    "I will be exploring supervised technique to help predict whether a customer will pay the invoice or outstanding balance by the next due date based on the actions generated by the company and the customer's response history. We will be consider behavioural scoring based on 3 labels: \n",
    "\n",
    "1. In time payment behavior \n",
    "2. In month payment behavior\n",
    "3. Delayed over month behavior\n",
    "\n",
    "I will starting to explore simpler algorithms like decision tree and logistic regression to see if we can get a good results using those and then gradually increase complexity with more sophisticated modeling algorithms like random forest, xgboost or neural netwrok.\n",
    "\n",
    "Features has been created based on available data as this data cannot be directly utilized for providing input features to model.\n",
    "\n",
    "Feature Engineering steps include but not limited to\n",
    "\n",
    "* handling missing value\n",
    "* binning of a numeric feature\n",
    "* deriving features from existing raw features\n",
    "* Data aggregation and combining"
   ]
  },
  {
   "cell_type": "code",
   "execution_count": 36,
   "metadata": {},
   "outputs": [
    {
     "data": {
      "text/plain": [
       "array([2015, 2016, 2017, 2018, 2019, 2014, 2013, 2012], dtype=int64)"
      ]
     },
     "execution_count": 36,
     "metadata": {},
     "output_type": "execute_result"
    }
   ],
   "source": [
    "inv_data['Invoice_Due_Date'].dt.year.unique()"
   ]
  },
  {
   "cell_type": "markdown",
   "metadata": {},
   "source": [
    "##### Preparation of Training & Test Data"
   ]
  },
  {
   "cell_type": "code",
   "execution_count": 37,
   "metadata": {},
   "outputs": [
    {
     "name": "stdout",
     "output_type": "stream",
     "text": [
      "(404394, 12)\n",
      "(353410, 12)\n",
      "(50984, 12)\n"
     ]
    }
   ],
   "source": [
    "model_data = inv_data[['Customer_ID','Fiscal_Period','Country_ID','Invoice_Creation_Date','Invoice_Due_Date','Invoice_amount',\n",
    "                       'invoice_due_in_days','invoice_paid_in_days','delay_in_days','cnt_dispute_PO','dispute_PO_amt',\n",
    "                       'paid_status']]\n",
    "model_data = model_data[model_data['Invoice_Due_Date'] <= '2019-01-31']\n",
    "train_data = model_data[model_data['Invoice_Due_Date'] <= '2018-08-31']\n",
    "test_data = model_data[~(model_data['Invoice_Due_Date'].isin(train_data['Invoice_Due_Date']))]\n",
    "print(model_data.shape)\n",
    "print(train_data.shape)\n",
    "print(test_data.shape)"
   ]
  },
  {
   "cell_type": "code",
   "execution_count": 38,
   "metadata": {},
   "outputs": [
    {
     "name": "stdout",
     "output_type": "stream",
     "text": [
      "(4700, 12)\n"
     ]
    }
   ],
   "source": [
    "#extracting up to last 5 invoices  for each customer to create features related to recent payment behavior\n",
    "other_df = train_data.sort_values(by = ['Customer_ID', 'Invoice_Due_Date'], ascending = False).groupby('Customer_ID').head(5)\n",
    "print(other_df.shape)"
   ]
  },
  {
   "cell_type": "markdown",
   "metadata": {},
   "source": [
    "Below created dataframe is meant to capture recent behavior of customer by capturing data up to last 5 invoices"
   ]
  },
  {
   "cell_type": "code",
   "execution_count": 39,
   "metadata": {},
   "outputs": [
    {
     "data": {
      "text/html": [
       "<div>\n",
       "<style scoped>\n",
       "    .dataframe tbody tr th:only-of-type {\n",
       "        vertical-align: middle;\n",
       "    }\n",
       "\n",
       "    .dataframe tbody tr th {\n",
       "        vertical-align: top;\n",
       "    }\n",
       "\n",
       "    .dataframe thead th {\n",
       "        text-align: right;\n",
       "    }\n",
       "</style>\n",
       "<table border=\"1\" class=\"dataframe\">\n",
       "  <thead>\n",
       "    <tr style=\"text-align: right;\">\n",
       "      <th></th>\n",
       "      <th>Customer_ID</th>\n",
       "      <th>rec_pct_of_paid_invoices_in_time</th>\n",
       "      <th>rec_average_invoice_amount</th>\n",
       "      <th>rec_average_invoice_paid_in_days</th>\n",
       "      <th>rec_average_delay_in_days</th>\n",
       "    </tr>\n",
       "  </thead>\n",
       "  <tbody>\n",
       "    <tr>\n",
       "      <th>0</th>\n",
       "      <td>10112</td>\n",
       "      <td>1.0</td>\n",
       "      <td>3644.570</td>\n",
       "      <td>41.0</td>\n",
       "      <td>0.0</td>\n",
       "    </tr>\n",
       "    <tr>\n",
       "      <th>1</th>\n",
       "      <td>10114</td>\n",
       "      <td>1.0</td>\n",
       "      <td>4603.194</td>\n",
       "      <td>42.0</td>\n",
       "      <td>0.0</td>\n",
       "    </tr>\n",
       "    <tr>\n",
       "      <th>2</th>\n",
       "      <td>10117</td>\n",
       "      <td>0.8</td>\n",
       "      <td>39084.744</td>\n",
       "      <td>42.6</td>\n",
       "      <td>1.0</td>\n",
       "    </tr>\n",
       "    <tr>\n",
       "      <th>3</th>\n",
       "      <td>10118</td>\n",
       "      <td>1.0</td>\n",
       "      <td>31362.786</td>\n",
       "      <td>42.4</td>\n",
       "      <td>0.0</td>\n",
       "    </tr>\n",
       "    <tr>\n",
       "      <th>4</th>\n",
       "      <td>10121</td>\n",
       "      <td>1.0</td>\n",
       "      <td>19464.304</td>\n",
       "      <td>49.8</td>\n",
       "      <td>0.0</td>\n",
       "    </tr>\n",
       "  </tbody>\n",
       "</table>\n",
       "</div>"
      ],
      "text/plain": [
       "   Customer_ID  rec_pct_of_paid_invoices_in_time  rec_average_invoice_amount  \\\n",
       "0        10112                               1.0                    3644.570   \n",
       "1        10114                               1.0                    4603.194   \n",
       "2        10117                               0.8                   39084.744   \n",
       "3        10118                               1.0                   31362.786   \n",
       "4        10121                               1.0                   19464.304   \n",
       "\n",
       "   rec_average_invoice_paid_in_days  rec_average_delay_in_days  \n",
       "0                              41.0                        0.0  \n",
       "1                              42.0                        0.0  \n",
       "2                              42.6                        1.0  \n",
       "3                              42.4                        0.0  \n",
       "4                              49.8                        0.0  "
      ]
     },
     "execution_count": 39,
     "metadata": {},
     "output_type": "execute_result"
    }
   ],
   "source": [
    "other_df2 = other_df[other_df['paid_status'] == 'invoice_paid_in_time'].groupby('Customer_ID')['paid_status'].count()/other_df.groupby('Customer_ID')['paid_status'].count()\n",
    "other_df2 = other_df2.reset_index()\n",
    "other_df2 = other_df2.rename(columns = {'paid_status': 'rec_pct_of_paid_invoices_in_time'})\n",
    "other_df2['rec_pct_of_paid_invoices_in_time'].fillna(0,inplace = True)\n",
    "other_df3 = other_df.groupby('Customer_ID')['Invoice_amount'].mean().reset_index()\n",
    "other_df3 = other_df3.rename(columns = {'Invoice_amount': 'rec_average_invoice_amount'})\n",
    "other_df4 = other_df.groupby('Customer_ID')['invoice_paid_in_days'].mean().reset_index()\n",
    "other_df4 = other_df4.rename(columns = {'invoice_paid_in_days': 'rec_average_invoice_paid_in_days'})\n",
    "other_df5 = other_df[other_df['paid_status'] != 'invoice_paid_in_time'].groupby('Customer_ID')['delay_in_days'].mean().reset_index()\n",
    "other_df5 = other_df5.rename(columns = {'delay_in_days': 'rec_average_delay_in_days'})\n",
    "\n",
    "#merging all\n",
    "df_list1 = [other_df2,other_df3,other_df4,other_df5]\n",
    "final_df_rec = reduce(lambda left,right: pd.merge(left,right,how = 'outer',on='Customer_ID'), df_list1)\n",
    "final_df_rec.fillna(0, inplace=True)\n",
    "final_df_rec.head()"
   ]
  },
  {
   "cell_type": "code",
   "execution_count": 40,
   "metadata": {},
   "outputs": [
    {
     "data": {
      "text/html": [
       "<div>\n",
       "<style scoped>\n",
       "    .dataframe tbody tr th:only-of-type {\n",
       "        vertical-align: middle;\n",
       "    }\n",
       "\n",
       "    .dataframe tbody tr th {\n",
       "        vertical-align: top;\n",
       "    }\n",
       "\n",
       "    .dataframe thead th {\n",
       "        text-align: right;\n",
       "    }\n",
       "</style>\n",
       "<table border=\"1\" class=\"dataframe\">\n",
       "  <thead>\n",
       "    <tr style=\"text-align: right;\">\n",
       "      <th></th>\n",
       "      <th>Customer_ID</th>\n",
       "      <th>Country_ID</th>\n",
       "      <th>Invoice_amount</th>\n",
       "      <th>invoice_due_in_days</th>\n",
       "      <th>invoice_paid_in_days</th>\n",
       "      <th>delay_in_days</th>\n",
       "      <th>cnt_dispute_PO</th>\n",
       "      <th>dispute_PO_amt</th>\n",
       "    </tr>\n",
       "  </thead>\n",
       "  <tbody>\n",
       "    <tr>\n",
       "      <th>0</th>\n",
       "      <td>10112</td>\n",
       "      <td>77</td>\n",
       "      <td>3644.570000</td>\n",
       "      <td>44.000000</td>\n",
       "      <td>41.000000</td>\n",
       "      <td>0.000000</td>\n",
       "      <td>3.0</td>\n",
       "      <td>1353.333333</td>\n",
       "    </tr>\n",
       "    <tr>\n",
       "      <th>1</th>\n",
       "      <td>10114</td>\n",
       "      <td>77</td>\n",
       "      <td>4485.283105</td>\n",
       "      <td>36.279113</td>\n",
       "      <td>36.532348</td>\n",
       "      <td>1.147874</td>\n",
       "      <td>27.0</td>\n",
       "      <td>977.556296</td>\n",
       "    </tr>\n",
       "    <tr>\n",
       "      <th>2</th>\n",
       "      <td>10117</td>\n",
       "      <td>77</td>\n",
       "      <td>29290.798353</td>\n",
       "      <td>42.806015</td>\n",
       "      <td>48.097744</td>\n",
       "      <td>9.309023</td>\n",
       "      <td>88.0</td>\n",
       "      <td>414.632841</td>\n",
       "    </tr>\n",
       "    <tr>\n",
       "      <th>3</th>\n",
       "      <td>10118</td>\n",
       "      <td>77</td>\n",
       "      <td>49786.655693</td>\n",
       "      <td>36.006397</td>\n",
       "      <td>43.036247</td>\n",
       "      <td>7.059701</td>\n",
       "      <td>7.0</td>\n",
       "      <td>8996.235714</td>\n",
       "    </tr>\n",
       "    <tr>\n",
       "      <th>4</th>\n",
       "      <td>10121</td>\n",
       "      <td>77</td>\n",
       "      <td>37537.897875</td>\n",
       "      <td>41.272356</td>\n",
       "      <td>40.970645</td>\n",
       "      <td>2.134137</td>\n",
       "      <td>158.0</td>\n",
       "      <td>5537.083671</td>\n",
       "    </tr>\n",
       "  </tbody>\n",
       "</table>\n",
       "</div>"
      ],
      "text/plain": [
       "   Customer_ID  Country_ID  Invoice_amount  invoice_due_in_days  \\\n",
       "0        10112          77     3644.570000            44.000000   \n",
       "1        10114          77     4485.283105            36.279113   \n",
       "2        10117          77    29290.798353            42.806015   \n",
       "3        10118          77    49786.655693            36.006397   \n",
       "4        10121          77    37537.897875            41.272356   \n",
       "\n",
       "   invoice_paid_in_days  delay_in_days  cnt_dispute_PO  dispute_PO_amt  \n",
       "0             41.000000       0.000000             3.0     1353.333333  \n",
       "1             36.532348       1.147874            27.0      977.556296  \n",
       "2             48.097744       9.309023            88.0      414.632841  \n",
       "3             43.036247       7.059701             7.0     8996.235714  \n",
       "4             40.970645       2.134137           158.0     5537.083671  "
      ]
     },
     "execution_count": 40,
     "metadata": {},
     "output_type": "execute_result"
    }
   ],
   "source": [
    "#calculate historical variables - training data\n",
    "final_df_hist = train_data.groupby(['Customer_ID','Country_ID'])[['Invoice_amount','invoice_due_in_days',\n",
    "                                                                  'invoice_paid_in_days','delay_in_days',\n",
    "                                                                  'cnt_dispute_PO','dispute_PO_amt']].mean().reset_index()\n",
    "final_df_hist.head()"
   ]
  },
  {
   "cell_type": "code",
   "execution_count": 41,
   "metadata": {},
   "outputs": [
    {
     "data": {
      "text/html": [
       "<div>\n",
       "<style scoped>\n",
       "    .dataframe tbody tr th:only-of-type {\n",
       "        vertical-align: middle;\n",
       "    }\n",
       "\n",
       "    .dataframe tbody tr th {\n",
       "        vertical-align: top;\n",
       "    }\n",
       "\n",
       "    .dataframe thead th {\n",
       "        text-align: right;\n",
       "    }\n",
       "</style>\n",
       "<table border=\"1\" class=\"dataframe\">\n",
       "  <thead>\n",
       "    <tr style=\"text-align: right;\">\n",
       "      <th></th>\n",
       "      <th>Customer_ID</th>\n",
       "      <th>cnt_invoice_paid_in_time</th>\n",
       "      <th>cnt_invoice_paid_in_same_month</th>\n",
       "      <th>cnt_invoice_paid_over_month_or_not_paid</th>\n",
       "      <th>num_invoice</th>\n",
       "      <th>cnt_invoice</th>\n",
       "      <th>impurity_index1</th>\n",
       "      <th>impurity_index2</th>\n",
       "    </tr>\n",
       "  </thead>\n",
       "  <tbody>\n",
       "    <tr>\n",
       "      <th>0</th>\n",
       "      <td>10112</td>\n",
       "      <td>1.0</td>\n",
       "      <td>0.0</td>\n",
       "      <td>0.0</td>\n",
       "      <td>1.0</td>\n",
       "      <td>less than 10</td>\n",
       "      <td>0.000000</td>\n",
       "      <td>0.000000</td>\n",
       "    </tr>\n",
       "    <tr>\n",
       "      <th>1</th>\n",
       "      <td>10114</td>\n",
       "      <td>514.0</td>\n",
       "      <td>102.0</td>\n",
       "      <td>26.0</td>\n",
       "      <td>642.0</td>\n",
       "      <td>more than 200</td>\n",
       "      <td>0.199377</td>\n",
       "      <td>0.040498</td>\n",
       "    </tr>\n",
       "    <tr>\n",
       "      <th>2</th>\n",
       "      <td>10117</td>\n",
       "      <td>663.0</td>\n",
       "      <td>627.0</td>\n",
       "      <td>154.0</td>\n",
       "      <td>1444.0</td>\n",
       "      <td>more than 200</td>\n",
       "      <td>0.540859</td>\n",
       "      <td>0.106648</td>\n",
       "    </tr>\n",
       "    <tr>\n",
       "      <th>3</th>\n",
       "      <td>10118</td>\n",
       "      <td>154.0</td>\n",
       "      <td>290.0</td>\n",
       "      <td>106.0</td>\n",
       "      <td>550.0</td>\n",
       "      <td>more than 200</td>\n",
       "      <td>0.720000</td>\n",
       "      <td>0.192727</td>\n",
       "    </tr>\n",
       "    <tr>\n",
       "      <th>4</th>\n",
       "      <td>10121</td>\n",
       "      <td>5481.0</td>\n",
       "      <td>235.0</td>\n",
       "      <td>318.0</td>\n",
       "      <td>6034.0</td>\n",
       "      <td>more than 200</td>\n",
       "      <td>0.091647</td>\n",
       "      <td>0.052701</td>\n",
       "    </tr>\n",
       "  </tbody>\n",
       "</table>\n",
       "</div>"
      ],
      "text/plain": [
       "   Customer_ID  cnt_invoice_paid_in_time  cnt_invoice_paid_in_same_month  \\\n",
       "0        10112                       1.0                             0.0   \n",
       "1        10114                     514.0                           102.0   \n",
       "2        10117                     663.0                           627.0   \n",
       "3        10118                     154.0                           290.0   \n",
       "4        10121                    5481.0                           235.0   \n",
       "\n",
       "   cnt_invoice_paid_over_month_or_not_paid  num_invoice    cnt_invoice  \\\n",
       "0                                      0.0          1.0   less than 10   \n",
       "1                                     26.0        642.0  more than 200   \n",
       "2                                    154.0       1444.0  more than 200   \n",
       "3                                    106.0        550.0  more than 200   \n",
       "4                                    318.0       6034.0  more than 200   \n",
       "\n",
       "   impurity_index1  impurity_index2  \n",
       "0         0.000000         0.000000  \n",
       "1         0.199377         0.040498  \n",
       "2         0.540859         0.106648  \n",
       "3         0.720000         0.192727  \n",
       "4         0.091647         0.052701  "
      ]
     },
     "execution_count": 41,
     "metadata": {},
     "output_type": "execute_result"
    }
   ],
   "source": [
    "final_df.head()"
   ]
  },
  {
   "cell_type": "code",
   "execution_count": 42,
   "metadata": {},
   "outputs": [],
   "source": [
    "df_list2 = [final_df_hist, final_df_rec,final_df]\n",
    "train_feats = reduce(lambda left,right: pd.merge(left, right, how = 'inner',on='Customer_ID'), df_list2)"
   ]
  },
  {
   "cell_type": "code",
   "execution_count": 43,
   "metadata": {},
   "outputs": [
    {
     "name": "stdout",
     "output_type": "stream",
     "text": [
      "(353410, 29)\n"
     ]
    }
   ],
   "source": [
    "train_data = pd.merge(train_data, train_feats, how = 'outer',on = ['Customer_ID','Country_ID'])\n",
    "print(train_data.shape)"
   ]
  },
  {
   "cell_type": "code",
   "execution_count": 44,
   "metadata": {},
   "outputs": [],
   "source": [
    "#remove vars calculated over entire dataset\n",
    "train_data.drop(['Invoice_amount_x','invoice_due_in_days_x','invoice_paid_in_days_x','delay_in_days_x',\n",
    "                 'cnt_dispute_PO_x','dispute_PO_amt_x'],1,inplace = True)"
   ]
  },
  {
   "cell_type": "code",
   "execution_count": 45,
   "metadata": {},
   "outputs": [],
   "source": [
    "train_data = train_data.rename(columns = {'Invoice_amount_y':'avg_invoice_amount','invoice_due_in_days_y':'avg_due_in_days',\n",
    "                  'invoice_paid_in_days_y':'avg_invoice_paid_in_days','delay_in_days_y':'avg_delay_in_days',\n",
    "                                          'cnt_dispute_PO_y':'cnt_dispute_PO','dispute_PO_amt_y':'dispute_PO_amt'})"
   ]
  },
  {
   "cell_type": "code",
   "execution_count": 46,
   "metadata": {},
   "outputs": [],
   "source": [
    "#converting target variable to numeric code\n",
    "train_data['target'] = np.where(train_data['paid_status'] == 'invoice_paid_in_time',0,\n",
    "                               np.where(train_data['paid_status'] == 'invoice_paid_in_same_month',1,2))"
   ]
  },
  {
   "cell_type": "code",
   "execution_count": 47,
   "metadata": {},
   "outputs": [],
   "source": [
    "#Handling Categorical Feature - convert catgoeical features to dummy vars using 1 hot encoding\n",
    "cat_vars = ['Country_ID','cnt_invoice']\n",
    "\n",
    "for var in cat_vars:\n",
    "    cat_list='var'+'_'+var\n",
    "    cat_list = pd.get_dummies(train_data[var], prefix=var)\n",
    "    df1=train_data.join(cat_list)\n",
    "    train_data=df1\n",
    "    \n",
    "data_vars=df1.columns.values.tolist()\n",
    "to_keep=[i for i in data_vars if i not in cat_vars]"
   ]
  },
  {
   "cell_type": "code",
   "execution_count": 48,
   "metadata": {},
   "outputs": [],
   "source": [
    "train_data['cnt_dispute_PO'].fillna(0, inplace = True)\n",
    "train_data['dispute_PO_amt'].fillna(0, inplace = True)"
   ]
  },
  {
   "cell_type": "code",
   "execution_count": 49,
   "metadata": {},
   "outputs": [
    {
     "name": "stdout",
     "output_type": "stream",
     "text": [
      "(353410, 33)\n"
     ]
    }
   ],
   "source": [
    "print(train_data.shape)"
   ]
  },
  {
   "cell_type": "markdown",
   "metadata": {},
   "source": [
    "###### Processing test data"
   ]
  },
  {
   "cell_type": "code",
   "execution_count": 50,
   "metadata": {},
   "outputs": [
    {
     "name": "stdout",
     "output_type": "stream",
     "text": [
      "(3642, 12)\n"
     ]
    },
    {
     "data": {
      "text/html": [
       "<div>\n",
       "<style scoped>\n",
       "    .dataframe tbody tr th:only-of-type {\n",
       "        vertical-align: middle;\n",
       "    }\n",
       "\n",
       "    .dataframe tbody tr th {\n",
       "        vertical-align: top;\n",
       "    }\n",
       "\n",
       "    .dataframe thead th {\n",
       "        text-align: right;\n",
       "    }\n",
       "</style>\n",
       "<table border=\"1\" class=\"dataframe\">\n",
       "  <thead>\n",
       "    <tr style=\"text-align: right;\">\n",
       "      <th></th>\n",
       "      <th>Customer_ID</th>\n",
       "      <th>rec_pct_of_paid_invoices_in_time</th>\n",
       "      <th>rec_average_invoice_amount</th>\n",
       "      <th>rec_average_invoice_paid_in_days</th>\n",
       "      <th>rec_average_delay_in_days</th>\n",
       "    </tr>\n",
       "  </thead>\n",
       "  <tbody>\n",
       "    <tr>\n",
       "      <th>0</th>\n",
       "      <td>10114</td>\n",
       "      <td>1.000000</td>\n",
       "      <td>3787.050</td>\n",
       "      <td>42.4</td>\n",
       "      <td>0.0</td>\n",
       "    </tr>\n",
       "    <tr>\n",
       "      <th>1</th>\n",
       "      <td>10117</td>\n",
       "      <td>0.692481</td>\n",
       "      <td>41973.252</td>\n",
       "      <td>55.6</td>\n",
       "      <td>12.6</td>\n",
       "    </tr>\n",
       "    <tr>\n",
       "      <th>2</th>\n",
       "      <td>10118</td>\n",
       "      <td>0.692481</td>\n",
       "      <td>55202.750</td>\n",
       "      <td>49.2</td>\n",
       "      <td>3.0</td>\n",
       "    </tr>\n",
       "    <tr>\n",
       "      <th>3</th>\n",
       "      <td>10121</td>\n",
       "      <td>0.800000</td>\n",
       "      <td>73679.718</td>\n",
       "      <td>55.8</td>\n",
       "      <td>5.0</td>\n",
       "    </tr>\n",
       "    <tr>\n",
       "      <th>4</th>\n",
       "      <td>10128</td>\n",
       "      <td>1.000000</td>\n",
       "      <td>17187.956</td>\n",
       "      <td>31.6</td>\n",
       "      <td>0.0</td>\n",
       "    </tr>\n",
       "  </tbody>\n",
       "</table>\n",
       "</div>"
      ],
      "text/plain": [
       "   Customer_ID  rec_pct_of_paid_invoices_in_time  rec_average_invoice_amount  \\\n",
       "0        10114                          1.000000                    3787.050   \n",
       "1        10117                          0.692481                   41973.252   \n",
       "2        10118                          0.692481                   55202.750   \n",
       "3        10121                          0.800000                   73679.718   \n",
       "4        10128                          1.000000                   17187.956   \n",
       "\n",
       "   rec_average_invoice_paid_in_days  rec_average_delay_in_days  \n",
       "0                              42.4                        0.0  \n",
       "1                              55.6                       12.6  \n",
       "2                              49.2                        3.0  \n",
       "3                              55.8                        5.0  \n",
       "4                              31.6                        0.0  "
      ]
     },
     "execution_count": 50,
     "metadata": {},
     "output_type": "execute_result"
    }
   ],
   "source": [
    "#extracting up to last 5 invoices  for each customer to create features related to recent payment behavior for test data\n",
    "other_df = test_data.sort_values(by = ['Customer_ID', 'Fiscal_Period'], ascending = False).groupby('Customer_ID').head(5)\n",
    "print(other_df.shape)\n",
    "other_df2 = other_df[other_df['paid_status'] == 'invoice_paid_in_time'].groupby('Customer_ID')['paid_status'].count()/other_df.groupby('Customer_ID')['paid_status'].count()\n",
    "other_df2 = other_df2.reset_index()\n",
    "other_df2 = other_df2.rename(columns = {'paid_status': 'rec_pct_of_paid_invoices_in_time'})\n",
    "other_df2['rec_pct_of_paid_invoices_in_time'].fillna(np.mean(other_df2['rec_pct_of_paid_invoices_in_time']),inplace = True)\n",
    "other_df3 = other_df.groupby('Customer_ID')['Invoice_amount'].mean().reset_index()\n",
    "other_df3 = other_df3.rename(columns = {'Invoice_amount': 'rec_average_invoice_amount'})\n",
    "other_df4 = other_df.groupby('Customer_ID')['invoice_paid_in_days'].mean().reset_index()\n",
    "other_df4 = other_df4.rename(columns = {'invoice_paid_in_days': 'rec_average_invoice_paid_in_days'})\n",
    "other_df5 = other_df[other_df['paid_status'] != 'invoice_paid_in_time'].groupby('Customer_ID')['delay_in_days'].mean().reset_index()\n",
    "other_df5 = other_df5.rename(columns = {'delay_in_days': 'rec_average_delay_in_days'})\n",
    "\n",
    "#merging all\n",
    "df_list1 = [other_df2,other_df3,other_df4,other_df5]\n",
    "final_df_rec_test = reduce(lambda left,right: pd.merge(left,right,how = 'outer',on='Customer_ID'), df_list1)\n",
    "final_df_rec_test.fillna(0, inplace=True)\n",
    "final_df_rec_test.head()"
   ]
  },
  {
   "cell_type": "code",
   "execution_count": 51,
   "metadata": {},
   "outputs": [
    {
     "data": {
      "text/html": [
       "<div>\n",
       "<style scoped>\n",
       "    .dataframe tbody tr th:only-of-type {\n",
       "        vertical-align: middle;\n",
       "    }\n",
       "\n",
       "    .dataframe tbody tr th {\n",
       "        vertical-align: top;\n",
       "    }\n",
       "\n",
       "    .dataframe thead th {\n",
       "        text-align: right;\n",
       "    }\n",
       "</style>\n",
       "<table border=\"1\" class=\"dataframe\">\n",
       "  <thead>\n",
       "    <tr style=\"text-align: right;\">\n",
       "      <th></th>\n",
       "      <th>Customer_ID</th>\n",
       "      <th>Country_ID</th>\n",
       "      <th>Invoice_amount</th>\n",
       "      <th>invoice_due_in_days</th>\n",
       "      <th>invoice_paid_in_days</th>\n",
       "      <th>delay_in_days</th>\n",
       "      <th>cnt_dispute_PO</th>\n",
       "      <th>dispute_PO_amt</th>\n",
       "    </tr>\n",
       "  </thead>\n",
       "  <tbody>\n",
       "    <tr>\n",
       "      <th>0</th>\n",
       "      <td>10114</td>\n",
       "      <td>77</td>\n",
       "      <td>3142.642090</td>\n",
       "      <td>36.880597</td>\n",
       "      <td>35.298507</td>\n",
       "      <td>0.000000</td>\n",
       "      <td>27.0</td>\n",
       "      <td>977.556296</td>\n",
       "    </tr>\n",
       "    <tr>\n",
       "      <th>1</th>\n",
       "      <td>10117</td>\n",
       "      <td>77</td>\n",
       "      <td>45289.204851</td>\n",
       "      <td>43.000000</td>\n",
       "      <td>46.455446</td>\n",
       "      <td>6.128713</td>\n",
       "      <td>88.0</td>\n",
       "      <td>414.632841</td>\n",
       "    </tr>\n",
       "    <tr>\n",
       "      <th>2</th>\n",
       "      <td>10118</td>\n",
       "      <td>77</td>\n",
       "      <td>49604.773793</td>\n",
       "      <td>36.603448</td>\n",
       "      <td>40.517241</td>\n",
       "      <td>3.913793</td>\n",
       "      <td>7.0</td>\n",
       "      <td>8996.235714</td>\n",
       "    </tr>\n",
       "    <tr>\n",
       "      <th>3</th>\n",
       "      <td>10121</td>\n",
       "      <td>77</td>\n",
       "      <td>45166.970152</td>\n",
       "      <td>42.847793</td>\n",
       "      <td>42.476408</td>\n",
       "      <td>0.173516</td>\n",
       "      <td>158.0</td>\n",
       "      <td>5537.083671</td>\n",
       "    </tr>\n",
       "    <tr>\n",
       "      <th>4</th>\n",
       "      <td>10128</td>\n",
       "      <td>77</td>\n",
       "      <td>19048.935455</td>\n",
       "      <td>36.000000</td>\n",
       "      <td>31.818182</td>\n",
       "      <td>0.000000</td>\n",
       "      <td>3.0</td>\n",
       "      <td>228.580000</td>\n",
       "    </tr>\n",
       "  </tbody>\n",
       "</table>\n",
       "</div>"
      ],
      "text/plain": [
       "   Customer_ID  Country_ID  Invoice_amount  invoice_due_in_days  \\\n",
       "0        10114          77     3142.642090            36.880597   \n",
       "1        10117          77    45289.204851            43.000000   \n",
       "2        10118          77    49604.773793            36.603448   \n",
       "3        10121          77    45166.970152            42.847793   \n",
       "4        10128          77    19048.935455            36.000000   \n",
       "\n",
       "   invoice_paid_in_days  delay_in_days  cnt_dispute_PO  dispute_PO_amt  \n",
       "0             35.298507       0.000000            27.0      977.556296  \n",
       "1             46.455446       6.128713            88.0      414.632841  \n",
       "2             40.517241       3.913793             7.0     8996.235714  \n",
       "3             42.476408       0.173516           158.0     5537.083671  \n",
       "4             31.818182       0.000000             3.0      228.580000  "
      ]
     },
     "execution_count": 51,
     "metadata": {},
     "output_type": "execute_result"
    }
   ],
   "source": [
    "#calculate historical variables - training data\n",
    "final_df_hist_test = test_data.groupby(['Customer_ID','Country_ID'])[['Invoice_amount','invoice_due_in_days',\n",
    "                                                                  'invoice_paid_in_days','delay_in_days',\n",
    "                                                                     'cnt_dispute_PO','dispute_PO_amt']].mean().reset_index()\n",
    "final_df_hist_test.head()"
   ]
  },
  {
   "cell_type": "code",
   "execution_count": 52,
   "metadata": {},
   "outputs": [],
   "source": [
    "df_list3 = [final_df_hist_test, final_df_rec_test,final_df]\n",
    "test_feats = reduce(lambda left,right: pd.merge(left, right, how = 'inner',on='Customer_ID'), df_list3)"
   ]
  },
  {
   "cell_type": "code",
   "execution_count": 53,
   "metadata": {},
   "outputs": [
    {
     "name": "stdout",
     "output_type": "stream",
     "text": [
      "(50984, 29)\n"
     ]
    }
   ],
   "source": [
    "test_data = pd.merge(test_data, test_feats, how = 'outer',on = ['Customer_ID','Country_ID'])\n",
    "print(test_data.shape)"
   ]
  },
  {
   "cell_type": "code",
   "execution_count": 54,
   "metadata": {},
   "outputs": [
    {
     "name": "stdout",
     "output_type": "stream",
     "text": [
      "(50984, 23)\n"
     ]
    }
   ],
   "source": [
    "#remove vars calculated over entire dataset\n",
    "test_data.drop(['Invoice_amount_x','invoice_due_in_days_x','invoice_paid_in_days_x','delay_in_days_x',\n",
    "               'cnt_dispute_PO_x','dispute_PO_amt_x'],1,inplace = True)\n",
    "test_data = test_data.rename(columns = {'Invoice_amount_y':'avg_invoice_amount','invoice_due_in_days_y':'avg_due_in_days',\n",
    "                  'invoice_paid_in_days_y':'avg_invoice_paid_in_days','delay_in_days_y':'avg_delay_in_days',\n",
    "                                       'cnt_dispute_PO_y':'cnt_dispute_PO','dispute_PO_amt_y':'dispute_PO_amt'})\n",
    "print(test_data.shape)"
   ]
  },
  {
   "cell_type": "code",
   "execution_count": 55,
   "metadata": {},
   "outputs": [],
   "source": [
    "#converting target variable to numeric code\n",
    "test_data['target'] = np.where(test_data['paid_status'] == 'invoice_paid_in_time',0,\n",
    "                               np.where(test_data['paid_status'] == 'invoice_paid_in_same_month',1,2))"
   ]
  },
  {
   "cell_type": "code",
   "execution_count": 56,
   "metadata": {},
   "outputs": [],
   "source": [
    "#Handling Categorical Feature - convert catgoeical features to dummy vars using 1 hot encoding\n",
    "cat_vars = ['Country_ID','cnt_invoice']\n",
    "\n",
    "for var in cat_vars:\n",
    "    cat_list='var'+'_'+var\n",
    "    cat_list = pd.get_dummies(test_data[var], prefix=var)\n",
    "    df1=test_data.join(cat_list)\n",
    "    test_data=df1\n",
    "    \n",
    "data_vars=df1.columns.values.tolist()\n",
    "to_keep=[i for i in data_vars if i not in cat_vars]"
   ]
  },
  {
   "cell_type": "code",
   "execution_count": 57,
   "metadata": {},
   "outputs": [],
   "source": [
    "test_data['cnt_dispute_PO'].fillna(0, inplace = True)\n",
    "test_data['dispute_PO_amt'].fillna(0, inplace = True)"
   ]
  },
  {
   "cell_type": "code",
   "execution_count": 58,
   "metadata": {},
   "outputs": [
    {
     "name": "stdout",
     "output_type": "stream",
     "text": [
      "(50984, 33)\n"
     ]
    }
   ],
   "source": [
    "print(test_data.shape)"
   ]
  },
  {
   "cell_type": "markdown",
   "metadata": {},
   "source": [
    "##### Fitting Model"
   ]
  },
  {
   "cell_type": "code",
   "execution_count": 59,
   "metadata": {},
   "outputs": [
    {
     "name": "stderr",
     "output_type": "stream",
     "text": [
      "Using TensorFlow backend.\n"
     ]
    }
   ],
   "source": [
    "from sklearn.base import clone\n",
    "from sklearn.multioutput import MultiOutputClassifier\n",
    "from sklearn.ensemble import GradientBoostingClassifier\n",
    "from sklearn.ensemble import RandomForestClassifier\n",
    "from imblearn.ensemble import BalancedRandomForestClassifier\n",
    "from sklearn.neighbors import KNeighborsClassifier\n",
    "import xgboost as xgb\n",
    "from sklearn.model_selection import train_test_split, KFold, cross_val_score, GridSearchCV\n",
    "from sklearn.metrics import classification_report,confusion_matrix\n",
    "from sklearn.utils.class_weight import compute_class_weight\n",
    "from tensorflow.python.keras.models import Sequential\n",
    "from tensorflow.python.keras.layers import Dense, Dropout, Activation\n",
    "from tensorflow.python.keras.wrappers.scikit_learn import KerasClassifier\n",
    "from keras.utils import np_utils\n",
    "from sklearn.preprocessing import LabelEncoder\n",
    "from sklearn.model_selection import StratifiedKFold\n",
    "from sklearn.preprocessing import MinMaxScaler\n",
    "from sklearn.pipeline import Pipeline"
   ]
  },
  {
   "cell_type": "code",
   "execution_count": 60,
   "metadata": {},
   "outputs": [],
   "source": [
    "selvars = ['avg_invoice_amount','avg_due_in_days','avg_invoice_paid_in_days','avg_delay_in_days','cnt_dispute_PO',\n",
    "           'dispute_PO_amt','rec_pct_of_paid_invoices_in_time','rec_average_invoice_amount','rec_average_invoice_paid_in_days',\n",
    "           'rec_average_delay_in_days','cnt_invoice_paid_in_time','cnt_invoice_paid_in_same_month',\n",
    "           'cnt_invoice_paid_over_month_or_not_paid','num_invoice','impurity_index1','impurity_index2',\n",
    "           'Country_ID_66','Country_ID_77','Country_ID_83','cnt_invoice_between 10 and 25','cnt_invoice_between 100 and 200',\n",
    "           'cnt_invoice_between 25 and 50','cnt_invoice_between 50 and 100','cnt_invoice_less than 10',\n",
    "           'cnt_invoice_more than 200']"
   ]
  },
  {
   "cell_type": "code",
   "execution_count": 67,
   "metadata": {},
   "outputs": [
    {
     "data": {
      "image/png": "[encoded data removed]",
      "text/plain": [
       "<matplotlib.figure.Figure at 0x26c3bf15f60>"
      ]
     },
     "metadata": {},
     "output_type": "display_data"
    }
   ],
   "source": [
    "sns.set(rc = {'figure.figsize':(15, 10)})\n",
    "from sklearn.base import clone\n",
    "\n",
    "# function for creating a feature importance dataframe\n",
    "def imp_df(column_names, importances):\n",
    "    df = pd.DataFrame({'feature': column_names,\n",
    "                       'feature_importance': importances}).sort_values('feature_importance', \n",
    "                                                                       ascending = False).reset_index(drop = True)\n",
    "    return df\n",
    "\n",
    "# plotting a feature importance dataframe (horizontal barchart)\n",
    "def var_imp_plot(imp_df, title):\n",
    "    imp_df.columns = ['feature', 'feature_importance']\n",
    "    sns.barplot(x = 'feature_importance', y = 'feature', data = imp_df, orient = 'h', \n",
    "                color = 'royalblue').set_title(title, fontsize = 20)\n",
    "    \n",
    "rf_model = RandomForestClassifier().fit(train_data[selvars], train_data['target'])\n",
    "\n",
    "var_imp = imp_df(train_data[selvars].columns, rf_model.feature_importances_)\n",
    "var_imp_plot(var_imp, 'feature importance')"
   ]
  },
  {
   "cell_type": "code",
   "execution_count": 61,
   "metadata": {},
   "outputs": [],
   "source": [
    "selvars1 = ['impurity_index1','avg_delay_in_days','cnt_invoice_paid_in_same_month','impurity_index2',\n",
    "            'cnt_invoice_paid_in_time','avg_invoice_paid_in_days','cnt_invoice_paid_over_month_or_not_paid',\n",
    "            'rec_pct_of_paid_invoices_in_time','avg_due_in_days','cnt_dispute_PO','rec_average_invoice_amount',\n",
    "            'dispute_PO_amt']"
   ]
  },
  {
   "cell_type": "code",
   "execution_count": 71,
   "metadata": {},
   "outputs": [
    {
     "name": "stdout",
     "output_type": "stream",
     "text": [
      "RF [0.71384511 0.67049602 0.70841233 0.64266716 0.65180668]\n",
      "XGB [0.7168869  0.6716703  0.70892165 0.64562406 0.65551343]\n",
      "BRF [0.70152231 0.65619252 0.67588636 0.42423814 0.62701961]\n",
      "KNN [0.45697632 0.49810418 0.50949322 0.37583826 0.39947936]\n"
     ]
    }
   ],
   "source": [
    "#create an array of models\n",
    "models = []\n",
    "models.append((\"RF\",RandomForestClassifier()))\n",
    "models.append((\"XGB\",xgb.XGBClassifier()))\n",
    "models.append((\"BRF\",BalancedRandomForestClassifier()))\n",
    "models.append((\"KNN\",KNeighborsClassifier()))\n",
    "\n",
    "#measure the accuracy \n",
    "for name,model in models:\n",
    "    kfold = KFold(n_splits=5, random_state=22)\n",
    "    cv_result = cross_val_score(model, train_data[selvars1], train_data['target'], cv = kfold,scoring = \"accuracy\")\n",
    "    print(name, cv_result)"
   ]
  },
  {
   "cell_type": "markdown",
   "metadata": {},
   "source": [
    "##### Random Forest"
   ]
  },
  {
   "cell_type": "code",
   "execution_count": 59,
   "metadata": {},
   "outputs": [
    {
     "name": "stdout",
     "output_type": "stream",
     "text": [
      "Fitting 5 folds for each of 125 candidates, totalling 625 fits\n"
     ]
    },
    {
     "name": "stderr",
     "output_type": "stream",
     "text": [
      "[Parallel(n_jobs=-1)]: Using backend LokyBackend with 4 concurrent workers.\n",
      "[Parallel(n_jobs=-1)]: Done   5 tasks      | elapsed:   22.7s\n",
      "[Parallel(n_jobs=-1)]: Done  10 tasks      | elapsed:   56.9s\n",
      "[Parallel(n_jobs=-1)]: Done  17 tasks      | elapsed:  2.5min\n",
      "[Parallel(n_jobs=-1)]: Done  24 tasks      | elapsed:  4.4min\n",
      "[Parallel(n_jobs=-1)]: Done  33 tasks      | elapsed:  5.2min\n",
      "[Parallel(n_jobs=-1)]: Done  42 tasks      | elapsed:  7.2min\n",
      "[Parallel(n_jobs=-1)]: Done  53 tasks      | elapsed:  9.3min\n",
      "[Parallel(n_jobs=-1)]: Done  64 tasks      | elapsed: 10.8min\n",
      "[Parallel(n_jobs=-1)]: Done  77 tasks      | elapsed: 13.8min\n",
      "[Parallel(n_jobs=-1)]: Done  90 tasks      | elapsed: 15.8min\n",
      "[Parallel(n_jobs=-1)]: Done 105 tasks      | elapsed: 18.7min\n",
      "[Parallel(n_jobs=-1)]: Done 120 tasks      | elapsed: 21.5min\n",
      "[Parallel(n_jobs=-1)]: Done 137 tasks      | elapsed: 24.5min\n",
      "[Parallel(n_jobs=-1)]: Done 154 tasks      | elapsed: 28.6min\n",
      "[Parallel(n_jobs=-1)]: Done 173 tasks      | elapsed: 33.6min\n",
      "[Parallel(n_jobs=-1)]: Done 192 tasks      | elapsed: 37.1min\n",
      "[Parallel(n_jobs=-1)]: Done 213 tasks      | elapsed: 41.5min\n",
      "[Parallel(n_jobs=-1)]: Done 234 tasks      | elapsed: 46.1min\n",
      "[Parallel(n_jobs=-1)]: Done 257 tasks      | elapsed: 51.4min\n",
      "[Parallel(n_jobs=-1)]: Done 280 tasks      | elapsed: 57.6min\n",
      "[Parallel(n_jobs=-1)]: Done 305 tasks      | elapsed: 64.0min\n",
      "[Parallel(n_jobs=-1)]: Done 330 tasks      | elapsed: 70.3min\n",
      "[Parallel(n_jobs=-1)]: Done 357 tasks      | elapsed: 76.7min\n",
      "[Parallel(n_jobs=-1)]: Done 384 tasks      | elapsed: 83.7min\n",
      "[Parallel(n_jobs=-1)]: Done 413 tasks      | elapsed: 92.2min\n",
      "[Parallel(n_jobs=-1)]: Done 442 tasks      | elapsed: 101.0min\n",
      "[Parallel(n_jobs=-1)]: Done 473 tasks      | elapsed: 110.9min\n",
      "[Parallel(n_jobs=-1)]: Done 504 tasks      | elapsed: 119.1min\n",
      "[Parallel(n_jobs=-1)]: Done 537 tasks      | elapsed: 128.9min\n",
      "[Parallel(n_jobs=-1)]: Done 570 tasks      | elapsed: 140.0min\n",
      "[Parallel(n_jobs=-1)]: Done 605 tasks      | elapsed: 151.2min\n",
      "[Parallel(n_jobs=-1)]: Done 625 out of 625 | elapsed: 158.8min finished\n"
     ]
    },
    {
     "name": "stdout",
     "output_type": "stream",
     "text": [
      "{'max_depth': 3, 'min_samples_split': 10, 'n_estimators': 200}\n",
      "{'mean_fit_time': array([ 10.9674778 ,  21.62119484,  43.56412463,  55.09309883,\n",
      "        77.27504392,  11.25032158,  22.10350447,  44.01133313,\n",
      "        54.89304061,  76.87556701,  11.224191  ,  22.26667323,\n",
      "        43.94868784,  54.01150517,  75.50054936,  10.98872194,\n",
      "        21.73269587,  43.66676054,  54.19769783,  75.61842837,\n",
      "        10.9734622 ,  21.82305422,  43.4221725 ,  54.18395724,\n",
      "        75.4642406 ,  13.81346984,  27.58245611,  55.20944128,\n",
      "        67.86378689,  94.11370707,  13.60702114,  27.20275083,\n",
      "        53.95774016,  67.31283121,  93.96249423,  13.7393765 ,\n",
      "        27.01518555,  53.72935524,  67.48758297,  94.11018829,\n",
      "        13.67025228,  26.89668908,  53.55911813,  66.72141585,\n",
      "        94.29908395,  13.78853617,  26.85101271,  53.49278226,\n",
      "        66.86243777,  92.99042211,  15.59610281,  30.91055856,\n",
      "        61.48260713,  76.9498754 , 107.65178752,  15.54569969,\n",
      "        30.93800764,  61.35390983,  76.7373796 , 107.64918032,\n",
      "        15.51741576,  31.13929639,  61.43297095,  76.67322674,\n",
      "       107.18985376,  15.51103435,  30.62983098,  61.21673284,\n",
      "        76.39865069, 107.02261896,  15.64544482,  30.92732635,\n",
      "        61.55363121,  76.78810163, 106.76497126,  18.08903713,\n",
      "        35.71331878,  71.00925474,  88.79610839, 123.96736293,\n",
      "        17.81816292,  35.50687003,  70.89639368,  88.7012495 ,\n",
      "       124.2372417 ,  17.81337485,  35.47987108,  71.01001024,\n",
      "        88.70085335, 123.93223066,  17.86174846,  36.19874597,\n",
      "        70.74804978,  88.58825545, 124.06941857,  17.83342414,\n",
      "        35.47158489,  70.86723928,  88.58516045, 123.54962811,\n",
      "        18.92122002,  37.53065925,  74.96608057,  93.5797987 ,\n",
      "       132.26468954,  19.05086589,  39.99200711,  78.46008649,\n",
      "        95.93375258, 133.41190772,  18.95512242,  37.79235911,\n",
      "        75.99642639,  99.42598057, 136.17885675,  19.50568795,\n",
      "        40.61840367,  77.9713377 ,  96.68311095, 135.64272885,\n",
      "        19.45269451,  39.2634254 ,  77.0737371 ,  97.24742804,\n",
      "       129.12979751]), 'std_fit_time': array([ 0.35846049,  0.38515966,  0.95488548,  1.40444535,  2.37073103,\n",
      "        0.25212747,  0.50230096,  0.88831578,  1.06773934,  1.66997919,\n",
      "        0.2461505 ,  0.36626733,  1.07760596,  1.29399509,  2.00215272,\n",
      "        0.21579191,  0.51823992,  1.22867683,  1.13018406,  1.88072521,\n",
      "        0.25966686,  0.48201304,  1.31695742,  1.39397887,  1.92178959,\n",
      "        0.4666265 ,  0.88648728,  1.60654956,  1.95755429,  2.85133496,\n",
      "        0.3921012 ,  0.85764363,  1.68686064,  2.10082004,  2.66714422,\n",
      "        0.42515303,  0.90437772,  1.5736683 ,  2.1377336 ,  2.57043864,\n",
      "        0.36151658,  0.79762403,  1.64574198,  1.96466953,  2.74842711,\n",
      "        0.63917312,  0.74336442,  1.65606383,  2.08733833,  2.88592977,\n",
      "        0.53267639,  1.15311828,  2.09524325,  2.8205402 ,  3.93329086,\n",
      "        0.5344431 ,  1.11628901,  2.18104811,  2.80392499,  3.87036454,\n",
      "        0.56662049,  1.13562377,  2.14476138,  2.87568203,  3.68901528,\n",
      "        0.57177058,  1.08114587,  2.22889581,  2.78942563,  3.78720303,\n",
      "        0.58955911,  1.11737899,  2.30118561,  2.5984368 ,  3.81580726,\n",
      "        0.85889972,  1.62639328,  3.26134702,  4.14972962,  5.59353105,\n",
      "        0.83746853,  1.68575298,  3.46064853,  4.03230362,  5.72813956,\n",
      "        0.7465264 ,  1.6844984 ,  3.331665  ,  4.11616296,  5.431672  ,\n",
      "        0.86339255,  1.7837203 ,  3.20301649,  4.18677938,  5.68689051,\n",
      "        0.85539793,  1.67210017,  3.1331877 ,  4.21481178,  5.67611236,\n",
      "        1.01030683,  1.89261194,  4.28163275,  4.90698532,  6.06292473,\n",
      "        0.95623285,  2.54389296,  4.33203958,  4.87596947,  7.4087122 ,\n",
      "        1.04115643,  2.07634199,  3.27449475,  5.93346953,  6.88530684,\n",
      "        0.74226486,  2.27751746,  4.22839335,  5.14050844,  7.02320396,\n",
      "        1.15262155,  2.17854403,  4.11297496,  5.30022603, 17.6111418 ]), 'mean_score_time': array([0.57685652, 1.15112219, 2.30882673, 2.92996726, 4.13095593,\n",
      "       0.5898242 , 1.16508646, 2.32717814, 2.90323887, 4.09604897,\n",
      "       0.59241743, 1.20264521, 2.28509116, 2.870328  , 4.00309749,\n",
      "       0.58344097, 1.15052423, 2.39599533, 2.86234837, 3.98035927,\n",
      "       0.57705827, 1.14613729, 2.31680665, 2.86334414, 4.01267142,\n",
      "       0.61136479, 1.21794472, 2.42990432, 3.00556674, 4.17863083,\n",
      "       0.60877376, 1.19887309, 2.39898643, 3.01094913, 4.18202639,\n",
      "       0.6075758 , 1.20577674, 2.41205525, 2.99329982, 4.20436115,\n",
      "       0.61335993, 1.1952672 , 2.40297575, 2.96726699, 4.17204638,\n",
      "       0.61036892, 1.1975987 , 2.3828299 , 2.9688643 , 4.12437534,\n",
      "       0.63330717, 1.24746599, 2.47318854, 3.10270572, 4.32463884,\n",
      "       0.62712383, 1.2434751 , 2.47877264, 3.07896838, 4.33999839,\n",
      "       0.62852011, 1.25424666, 2.48056712, 3.09293075, 4.32723789,\n",
      "       0.62891865, 1.24457526, 2.49094114, 3.0847537 , 4.34438477,\n",
      "       0.62712955, 1.24586844, 2.49133935, 3.10629559, 4.31227012,\n",
      "       0.6696104 , 1.32705302, 2.62737627, 3.30496488, 4.66153798,\n",
      "       0.65843968, 1.31069674, 2.63316026, 3.32172027, 4.66064301,\n",
      "       0.66881175, 1.31688023, 2.63934464, 3.31593523, 4.63919697,\n",
      "       0.66043506, 1.31269083, 2.62837272, 3.29389801, 4.63500786,\n",
      "       0.66183128, 1.31708069, 2.63934455, 3.30376759, 4.63906331,\n",
      "       0.68716249, 1.34221239, 2.69798846, 3.41247621, 4.89451604,\n",
      "       0.69294748, 1.35976424, 2.82305174, 3.44698558, 4.86080551,\n",
      "       0.6807806 , 1.35298271, 2.78236165, 3.52827039, 5.31100245,\n",
      "       0.74820056, 1.47804885, 2.76520834, 3.49764876, 4.94039292,\n",
      "       0.71369214, 1.44034925, 2.72950277, 3.48268948, 4.36173959]), 'std_score_time': array([0.00951582, 0.02382967, 0.02743752, 0.02916888, 0.08176362,\n",
      "       0.01556123, 0.00711909, 0.02601223, 0.03782588, 0.07140474,\n",
      "       0.00467849, 0.07510283, 0.01463526, 0.02356756, 0.02923024,\n",
      "       0.00898594, 0.00651232, 0.12175899, 0.02282958, 0.01874372,\n",
      "       0.00214977, 0.01447249, 0.02900116, 0.01648552, 0.07500968,\n",
      "       0.014834  , 0.02320448, 0.02977734, 0.05124558, 0.06306523,\n",
      "       0.00663266, 0.01588616, 0.03568003, 0.043295  , 0.03468362,\n",
      "       0.01013959, 0.01237588, 0.04348048, 0.04457951, 0.03509549,\n",
      "       0.01515179, 0.01548485, 0.05980611, 0.02807698, 0.06793967,\n",
      "       0.01934984, 0.01515633, 0.02910042, 0.03432131, 0.05927015,\n",
      "       0.01674817, 0.03429022, 0.0351386 , 0.05331875, 0.11282314,\n",
      "       0.01178903, 0.02380592, 0.06673843, 0.06619589, 0.106214  ,\n",
      "       0.01316109, 0.03619379, 0.04916909, 0.07434304, 0.07253457,\n",
      "       0.01343518, 0.02613845, 0.06019983, 0.06039184, 0.07985451,\n",
      "       0.01578332, 0.02859701, 0.05395544, 0.06055979, 0.09081441,\n",
      "       0.02358992, 0.0437673 , 0.07842035, 0.09105348, 0.14607858,\n",
      "       0.02334141, 0.04453318, 0.08034165, 0.1149037 , 0.12113106,\n",
      "       0.01720118, 0.05087703, 0.06785902, 0.09744286, 0.12531638,\n",
      "       0.02096174, 0.04703249, 0.08097082, 0.08557398, 0.10862237,\n",
      "       0.02462191, 0.04730691, 0.08228285, 0.10387738, 0.11372885,\n",
      "       0.03175804, 0.05143957, 0.08486579, 0.07728798, 0.05896123,\n",
      "       0.03194827, 0.05442396, 0.10803413, 0.0886146 , 0.10721885,\n",
      "       0.02502039, 0.05220796, 0.08387336, 0.1175116 , 0.30709301,\n",
      "       0.10982172, 0.15699885, 0.08856527, 0.13012618, 0.15559122,\n",
      "       0.05792361, 0.08795115, 0.09578378, 0.131113  , 0.79547325]), 'param_max_depth': masked_array(data=[3, 3, 3, 3, 3, 3, 3, 3, 3, 3, 3, 3, 3, 3, 3, 3, 3, 3,\n",
      "                   3, 3, 3, 3, 3, 3, 3, 5, 5, 5, 5, 5, 5, 5, 5, 5, 5, 5,\n",
      "                   5, 5, 5, 5, 5, 5, 5, 5, 5, 5, 5, 5, 5, 5, 7, 7, 7, 7,\n",
      "                   7, 7, 7, 7, 7, 7, 7, 7, 7, 7, 7, 7, 7, 7, 7, 7, 7, 7,\n",
      "                   7, 7, 7, 11, 11, 11, 11, 11, 11, 11, 11, 11, 11, 11,\n",
      "                   11, 11, 11, 11, 11, 11, 11, 11, 11, 11, 11, 11, 11, 11,\n",
      "                   15, 15, 15, 15, 15, 15, 15, 15, 15, 15, 15, 15, 15, 15,\n",
      "                   15, 15, 15, 15, 15, 15, 15, 15, 15, 15, 15],\n",
      "             mask=[False, False, False, False, False, False, False, False,\n",
      "                   False, False, False, False, False, False, False, False,\n",
      "                   False, False, False, False, False, False, False, False,\n",
      "                   False, False, False, False, False, False, False, False,\n",
      "                   False, False, False, False, False, False, False, False,\n",
      "                   False, False, False, False, False, False, False, False,\n",
      "                   False, False, False, False, False, False, False, False,\n",
      "                   False, False, False, False, False, False, False, False,\n",
      "                   False, False, False, False, False, False, False, False,\n",
      "                   False, False, False, False, False, False, False, False,\n",
      "                   False, False, False, False, False, False, False, False,\n",
      "                   False, False, False, False, False, False, False, False,\n",
      "                   False, False, False, False, False, False, False, False,\n",
      "                   False, False, False, False, False, False, False, False,\n",
      "                   False, False, False, False, False, False, False, False,\n",
      "                   False, False, False, False, False],\n",
      "       fill_value='?',\n",
      "            dtype=object), 'param_min_samples_split': masked_array(data=[5, 5, 5, 5, 5, 10, 10, 10, 10, 10, 20, 20, 20, 20, 20,\n",
      "                   30, 30, 30, 30, 30, 40, 40, 40, 40, 40, 5, 5, 5, 5, 5,\n",
      "                   10, 10, 10, 10, 10, 20, 20, 20, 20, 20, 30, 30, 30, 30,\n",
      "                   30, 40, 40, 40, 40, 40, 5, 5, 5, 5, 5, 10, 10, 10, 10,\n",
      "                   10, 20, 20, 20, 20, 20, 30, 30, 30, 30, 30, 40, 40, 40,\n",
      "                   40, 40, 5, 5, 5, 5, 5, 10, 10, 10, 10, 10, 20, 20, 20,\n",
      "                   20, 20, 30, 30, 30, 30, 30, 40, 40, 40, 40, 40, 5, 5,\n",
      "                   5, 5, 5, 10, 10, 10, 10, 10, 20, 20, 20, 20, 20, 30,\n",
      "                   30, 30, 30, 30, 40, 40, 40, 40, 40],\n",
      "             mask=[False, False, False, False, False, False, False, False,\n",
      "                   False, False, False, False, False, False, False, False,\n",
      "                   False, False, False, False, False, False, False, False,\n",
      "                   False, False, False, False, False, False, False, False,\n",
      "                   False, False, False, False, False, False, False, False,\n",
      "                   False, False, False, False, False, False, False, False,\n",
      "                   False, False, False, False, False, False, False, False,\n",
      "                   False, False, False, False, False, False, False, False,\n",
      "                   False, False, False, False, False, False, False, False,\n",
      "                   False, False, False, False, False, False, False, False,\n",
      "                   False, False, False, False, False, False, False, False,\n",
      "                   False, False, False, False, False, False, False, False,\n",
      "                   False, False, False, False, False, False, False, False,\n",
      "                   False, False, False, False, False, False, False, False,\n",
      "                   False, False, False, False, False, False, False, False,\n",
      "                   False, False, False, False, False],\n",
      "       fill_value='?',\n",
      "            dtype=object), 'param_n_estimators': masked_array(data=[100, 200, 400, 500, 700, 100, 200, 400, 500, 700, 100,\n",
      "                   200, 400, 500, 700, 100, 200, 400, 500, 700, 100, 200,\n",
      "                   400, 500, 700, 100, 200, 400, 500, 700, 100, 200, 400,\n",
      "                   500, 700, 100, 200, 400, 500, 700, 100, 200, 400, 500,\n",
      "                   700, 100, 200, 400, 500, 700, 100, 200, 400, 500, 700,\n",
      "                   100, 200, 400, 500, 700, 100, 200, 400, 500, 700, 100,\n",
      "                   200, 400, 500, 700, 100, 200, 400, 500, 700, 100, 200,\n",
      "                   400, 500, 700, 100, 200, 400, 500, 700, 100, 200, 400,\n",
      "                   500, 700, 100, 200, 400, 500, 700, 100, 200, 400, 500,\n",
      "                   700, 100, 200, 400, 500, 700, 100, 200, 400, 500, 700,\n",
      "                   100, 200, 400, 500, 700, 100, 200, 400, 500, 700, 100,\n",
      "                   200, 400, 500, 700],\n",
      "             mask=[False, False, False, False, False, False, False, False,\n",
      "                   False, False, False, False, False, False, False, False,\n",
      "                   False, False, False, False, False, False, False, False,\n",
      "                   False, False, False, False, False, False, False, False,\n",
      "                   False, False, False, False, False, False, False, False,\n",
      "                   False, False, False, False, False, False, False, False,\n",
      "                   False, False, False, False, False, False, False, False,\n",
      "                   False, False, False, False, False, False, False, False,\n",
      "                   False, False, False, False, False, False, False, False,\n",
      "                   False, False, False, False, False, False, False, False,\n",
      "                   False, False, False, False, False, False, False, False,\n",
      "                   False, False, False, False, False, False, False, False,\n",
      "                   False, False, False, False, False, False, False, False,\n",
      "                   False, False, False, False, False, False, False, False,\n",
      "                   False, False, False, False, False, False, False, False,\n",
      "                   False, False, False, False, False],\n",
      "       fill_value='?',\n",
      "            dtype=object), 'params': [{'max_depth': 3, 'min_samples_split': 5, 'n_estimators': 100}, {'max_depth': 3, 'min_samples_split': 5, 'n_estimators': 200}, {'max_depth': 3, 'min_samples_split': 5, 'n_estimators': 400}, {'max_depth': 3, 'min_samples_split': 5, 'n_estimators': 500}, {'max_depth': 3, 'min_samples_split': 5, 'n_estimators': 700}, {'max_depth': 3, 'min_samples_split': 10, 'n_estimators': 100}, {'max_depth': 3, 'min_samples_split': 10, 'n_estimators': 200}, {'max_depth': 3, 'min_samples_split': 10, 'n_estimators': 400}, {'max_depth': 3, 'min_samples_split': 10, 'n_estimators': 500}, {'max_depth': 3, 'min_samples_split': 10, 'n_estimators': 700}, {'max_depth': 3, 'min_samples_split': 20, 'n_estimators': 100}, {'max_depth': 3, 'min_samples_split': 20, 'n_estimators': 200}, {'max_depth': 3, 'min_samples_split': 20, 'n_estimators': 400}, {'max_depth': 3, 'min_samples_split': 20, 'n_estimators': 500}, {'max_depth': 3, 'min_samples_split': 20, 'n_estimators': 700}, {'max_depth': 3, 'min_samples_split': 30, 'n_estimators': 100}, {'max_depth': 3, 'min_samples_split': 30, 'n_estimators': 200}, {'max_depth': 3, 'min_samples_split': 30, 'n_estimators': 400}, {'max_depth': 3, 'min_samples_split': 30, 'n_estimators': 500}, {'max_depth': 3, 'min_samples_split': 30, 'n_estimators': 700}, {'max_depth': 3, 'min_samples_split': 40, 'n_estimators': 100}, {'max_depth': 3, 'min_samples_split': 40, 'n_estimators': 200}, {'max_depth': 3, 'min_samples_split': 40, 'n_estimators': 400}, {'max_depth': 3, 'min_samples_split': 40, 'n_estimators': 500}, {'max_depth': 3, 'min_samples_split': 40, 'n_estimators': 700}, {'max_depth': 5, 'min_samples_split': 5, 'n_estimators': 100}, {'max_depth': 5, 'min_samples_split': 5, 'n_estimators': 200}, {'max_depth': 5, 'min_samples_split': 5, 'n_estimators': 400}, {'max_depth': 5, 'min_samples_split': 5, 'n_estimators': 500}, {'max_depth': 5, 'min_samples_split': 5, 'n_estimators': 700}, {'max_depth': 5, 'min_samples_split': 10, 'n_estimators': 100}, {'max_depth': 5, 'min_samples_split': 10, 'n_estimators': 200}, {'max_depth': 5, 'min_samples_split': 10, 'n_estimators': 400}, {'max_depth': 5, 'min_samples_split': 10, 'n_estimators': 500}, {'max_depth': 5, 'min_samples_split': 10, 'n_estimators': 700}, {'max_depth': 5, 'min_samples_split': 20, 'n_estimators': 100}, {'max_depth': 5, 'min_samples_split': 20, 'n_estimators': 200}, {'max_depth': 5, 'min_samples_split': 20, 'n_estimators': 400}, {'max_depth': 5, 'min_samples_split': 20, 'n_estimators': 500}, {'max_depth': 5, 'min_samples_split': 20, 'n_estimators': 700}, {'max_depth': 5, 'min_samples_split': 30, 'n_estimators': 100}, {'max_depth': 5, 'min_samples_split': 30, 'n_estimators': 200}, {'max_depth': 5, 'min_samples_split': 30, 'n_estimators': 400}, {'max_depth': 5, 'min_samples_split': 30, 'n_estimators': 500}, {'max_depth': 5, 'min_samples_split': 30, 'n_estimators': 700}, {'max_depth': 5, 'min_samples_split': 40, 'n_estimators': 100}, {'max_depth': 5, 'min_samples_split': 40, 'n_estimators': 200}, {'max_depth': 5, 'min_samples_split': 40, 'n_estimators': 400}, {'max_depth': 5, 'min_samples_split': 40, 'n_estimators': 500}, {'max_depth': 5, 'min_samples_split': 40, 'n_estimators': 700}, {'max_depth': 7, 'min_samples_split': 5, 'n_estimators': 100}, {'max_depth': 7, 'min_samples_split': 5, 'n_estimators': 200}, {'max_depth': 7, 'min_samples_split': 5, 'n_estimators': 400}, {'max_depth': 7, 'min_samples_split': 5, 'n_estimators': 500}, {'max_depth': 7, 'min_samples_split': 5, 'n_estimators': 700}, {'max_depth': 7, 'min_samples_split': 10, 'n_estimators': 100}, {'max_depth': 7, 'min_samples_split': 10, 'n_estimators': 200}, {'max_depth': 7, 'min_samples_split': 10, 'n_estimators': 400}, {'max_depth': 7, 'min_samples_split': 10, 'n_estimators': 500}, {'max_depth': 7, 'min_samples_split': 10, 'n_estimators': 700}, {'max_depth': 7, 'min_samples_split': 20, 'n_estimators': 100}, {'max_depth': 7, 'min_samples_split': 20, 'n_estimators': 200}, {'max_depth': 7, 'min_samples_split': 20, 'n_estimators': 400}, {'max_depth': 7, 'min_samples_split': 20, 'n_estimators': 500}, {'max_depth': 7, 'min_samples_split': 20, 'n_estimators': 700}, {'max_depth': 7, 'min_samples_split': 30, 'n_estimators': 100}, {'max_depth': 7, 'min_samples_split': 30, 'n_estimators': 200}, {'max_depth': 7, 'min_samples_split': 30, 'n_estimators': 400}, {'max_depth': 7, 'min_samples_split': 30, 'n_estimators': 500}, {'max_depth': 7, 'min_samples_split': 30, 'n_estimators': 700}, {'max_depth': 7, 'min_samples_split': 40, 'n_estimators': 100}, {'max_depth': 7, 'min_samples_split': 40, 'n_estimators': 200}, {'max_depth': 7, 'min_samples_split': 40, 'n_estimators': 400}, {'max_depth': 7, 'min_samples_split': 40, 'n_estimators': 500}, {'max_depth': 7, 'min_samples_split': 40, 'n_estimators': 700}, {'max_depth': 11, 'min_samples_split': 5, 'n_estimators': 100}, {'max_depth': 11, 'min_samples_split': 5, 'n_estimators': 200}, {'max_depth': 11, 'min_samples_split': 5, 'n_estimators': 400}, {'max_depth': 11, 'min_samples_split': 5, 'n_estimators': 500}, {'max_depth': 11, 'min_samples_split': 5, 'n_estimators': 700}, {'max_depth': 11, 'min_samples_split': 10, 'n_estimators': 100}, {'max_depth': 11, 'min_samples_split': 10, 'n_estimators': 200}, {'max_depth': 11, 'min_samples_split': 10, 'n_estimators': 400}, {'max_depth': 11, 'min_samples_split': 10, 'n_estimators': 500}, {'max_depth': 11, 'min_samples_split': 10, 'n_estimators': 700}, {'max_depth': 11, 'min_samples_split': 20, 'n_estimators': 100}, {'max_depth': 11, 'min_samples_split': 20, 'n_estimators': 200}, {'max_depth': 11, 'min_samples_split': 20, 'n_estimators': 400}, {'max_depth': 11, 'min_samples_split': 20, 'n_estimators': 500}, {'max_depth': 11, 'min_samples_split': 20, 'n_estimators': 700}, {'max_depth': 11, 'min_samples_split': 30, 'n_estimators': 100}, {'max_depth': 11, 'min_samples_split': 30, 'n_estimators': 200}, {'max_depth': 11, 'min_samples_split': 30, 'n_estimators': 400}, {'max_depth': 11, 'min_samples_split': 30, 'n_estimators': 500}, {'max_depth': 11, 'min_samples_split': 30, 'n_estimators': 700}, {'max_depth': 11, 'min_samples_split': 40, 'n_estimators': 100}, {'max_depth': 11, 'min_samples_split': 40, 'n_estimators': 200}, {'max_depth': 11, 'min_samples_split': 40, 'n_estimators': 400}, {'max_depth': 11, 'min_samples_split': 40, 'n_estimators': 500}, {'max_depth': 11, 'min_samples_split': 40, 'n_estimators': 700}, {'max_depth': 15, 'min_samples_split': 5, 'n_estimators': 100}, {'max_depth': 15, 'min_samples_split': 5, 'n_estimators': 200}, {'max_depth': 15, 'min_samples_split': 5, 'n_estimators': 400}, {'max_depth': 15, 'min_samples_split': 5, 'n_estimators': 500}, {'max_depth': 15, 'min_samples_split': 5, 'n_estimators': 700}, {'max_depth': 15, 'min_samples_split': 10, 'n_estimators': 100}, {'max_depth': 15, 'min_samples_split': 10, 'n_estimators': 200}, {'max_depth': 15, 'min_samples_split': 10, 'n_estimators': 400}, {'max_depth': 15, 'min_samples_split': 10, 'n_estimators': 500}, {'max_depth': 15, 'min_samples_split': 10, 'n_estimators': 700}, {'max_depth': 15, 'min_samples_split': 20, 'n_estimators': 100}, {'max_depth': 15, 'min_samples_split': 20, 'n_estimators': 200}, {'max_depth': 15, 'min_samples_split': 20, 'n_estimators': 400}, {'max_depth': 15, 'min_samples_split': 20, 'n_estimators': 500}, {'max_depth': 15, 'min_samples_split': 20, 'n_estimators': 700}, {'max_depth': 15, 'min_samples_split': 30, 'n_estimators': 100}, {'max_depth': 15, 'min_samples_split': 30, 'n_estimators': 200}, {'max_depth': 15, 'min_samples_split': 30, 'n_estimators': 400}, {'max_depth': 15, 'min_samples_split': 30, 'n_estimators': 500}, {'max_depth': 15, 'min_samples_split': 30, 'n_estimators': 700}, {'max_depth': 15, 'min_samples_split': 40, 'n_estimators': 100}, {'max_depth': 15, 'min_samples_split': 40, 'n_estimators': 200}, {'max_depth': 15, 'min_samples_split': 40, 'n_estimators': 400}, {'max_depth': 15, 'min_samples_split': 40, 'n_estimators': 500}, {'max_depth': 15, 'min_samples_split': 40, 'n_estimators': 700}], 'split0_test_score': array([0.66660507, 0.66660507, 0.66657148, 0.66660507, 0.66660507,\n",
      "       0.66660507, 0.66657148, 0.66657148, 0.66657148, 0.66657148,\n",
      "       0.66660507, 0.66657148, 0.66657148, 0.66657148, 0.66657148,\n",
      "       0.66657148, 0.66660507, 0.66660507, 0.66657148, 0.66657148,\n",
      "       0.66657148, 0.66660507, 0.66657148, 0.66660507, 0.66657148,\n",
      "       0.63450361, 0.66660507, 0.66660507, 0.66660507, 0.66660507,\n",
      "       0.63450361, 0.66660507, 0.66660507, 0.66660507, 0.66660507,\n",
      "       0.66660507, 0.66660507, 0.63450361, 0.66660507, 0.66660507,\n",
      "       0.66660507, 0.66660507, 0.66660507, 0.66660507, 0.63450361,\n",
      "       0.66660507, 0.66660507, 0.66660507, 0.66660507, 0.66660507,\n",
      "       0.62922896, 0.62922896, 0.62922896, 0.62922896, 0.62922896,\n",
      "       0.62922896, 0.62922896, 0.62922896, 0.62922896, 0.62922896,\n",
      "       0.62922896, 0.63211826, 0.62922896, 0.62922896, 0.62922896,\n",
      "       0.62922896, 0.6278683 , 0.62922896, 0.62922896, 0.62922896,\n",
      "       0.62922896, 0.62922896, 0.62922896, 0.62922896, 0.62922896,\n",
      "       0.61083487, 0.61083487, 0.61083487, 0.61083487, 0.61083487,\n",
      "       0.61083487, 0.61083487, 0.61083487, 0.61083487, 0.61083487,\n",
      "       0.61083487, 0.61083487, 0.61083487, 0.61083487, 0.61083487,\n",
      "       0.61083487, 0.61083487, 0.61083487, 0.61083487, 0.61083487,\n",
      "       0.61207794, 0.61083487, 0.61083487, 0.61083487, 0.61083487,\n",
      "       0.61197715, 0.61083487, 0.61083487, 0.61083487, 0.61083487,\n",
      "       0.61083487, 0.61083487, 0.61083487, 0.61083487, 0.61083487,\n",
      "       0.61083487, 0.61083487, 0.61083487, 0.61083487, 0.61083487,\n",
      "       0.61083487, 0.61083487, 0.61083487, 0.61083487, 0.61083487,\n",
      "       0.61083487, 0.61083487, 0.61197715, 0.61083487, 0.61083487]), 'split1_test_score': array([0.53710734, 0.53373089, 0.54112212, 0.54384344, 0.53490677,\n",
      "       0.54078616, 0.53578028, 0.5432219 , 0.54197883, 0.54416261,\n",
      "       0.53505795, 0.54051739, 0.54725349, 0.54073576, 0.53389887,\n",
      "       0.54070217, 0.54542248, 0.5470687 , 0.54055098, 0.54055098,\n",
      "       0.54239879, 0.53672098, 0.53386528, 0.54021502, 0.54021502,\n",
      "       0.37549135, 0.37167815, 0.37186293, 0.36769696, 0.36946078,\n",
      "       0.36022174, 0.37431547, 0.37807828, 0.37001512, 0.35781959,\n",
      "       0.37046867, 0.3779103 , 0.37186293, 0.37750714, 0.37006551,\n",
      "       0.38002688, 0.37008231, 0.36815051, 0.37184613, 0.36803292,\n",
      "       0.38014446, 0.37100622, 0.3682849 , 0.36964556, 0.369276  ,\n",
      "       0.32837225, 0.31679825, 0.34354107, 0.34533848, 0.34466655,\n",
      "       0.33932471, 0.34251638, 0.34102133, 0.33905594, 0.34342348,\n",
      "       0.34253318, 0.33616664, 0.33905594, 0.34102133, 0.32339997,\n",
      "       0.34572484, 0.34335629, 0.33697295, 0.34540568, 0.340383  ,\n",
      "       0.32551655, 0.34414581, 0.34103813, 0.3298001 , 0.34540568,\n",
      "       0.14656476, 0.15469511, 0.15232656, 0.15496388, 0.15115068,\n",
      "       0.14802621, 0.15704687, 0.15531665, 0.15649252, 0.15115068,\n",
      "       0.15373761, 0.15437594, 0.15472871, 0.15531665, 0.15708046,\n",
      "       0.15899546, 0.16033932, 0.15472871, 0.15708046, 0.15531665,\n",
      "       0.15571981, 0.16227112, 0.15734924, 0.15115068, 0.15734924,\n",
      "       0.11696624, 0.12583571, 0.11747018, 0.11750378, 0.11747018,\n",
      "       0.11750378, 0.12166975, 0.11750378, 0.11856207, 0.11856207,\n",
      "       0.12156896, 0.11861246, 0.11750378, 0.11859567, 0.11750378,\n",
      "       0.11333781, 0.11972115, 0.12004032, 0.11782295, 0.11891483,\n",
      "       0.12136738, 0.12059466, 0.11978834, 0.12059466, 0.12172014]), 'split2_test_score': array([0.47976616, 0.47859027, 0.41223605, 0.41148012, 0.48317627,\n",
      "       0.48082447, 0.48137882, 0.48006854, 0.48436896, 0.48082447,\n",
      "       0.48079088, 0.5229216 , 0.41106016, 0.48082447, 0.41240404,\n",
      "       0.41131213, 0.41668766, 0.52191369, 0.47949739, 0.41122814,\n",
      "       0.4151086 , 0.4128576 , 0.4793126 , 0.52191369, 0.41095936,\n",
      "       0.37986528, 0.37593442, 0.37699273, 0.38010046, 0.37904215,\n",
      "       0.36667843, 0.3795965 , 0.38047002, 0.3761696 , 0.38065481,\n",
      "       0.36834148, 0.37904215, 0.37398579, 0.37971409, 0.37879017,\n",
      "       0.37212115, 0.37069328, 0.37722791, 0.38085639, 0.378471  ,\n",
      "       0.37795024, 0.3807556 , 0.3853416 , 0.38327538, 0.38154513,\n",
      "       0.32395975, 0.32926809, 0.32300223, 0.32691629, 0.32753784,\n",
      "       0.32857935, 0.32367418, 0.32095281, 0.32557241, 0.32992323,\n",
      "       0.32864654, 0.32464849, 0.32357338, 0.32609316, 0.32239749,\n",
      "       0.3313679 , 0.32043206, 0.32493407, 0.32926809, 0.32501806,\n",
      "       0.33340053, 0.33197265, 0.32501806, 0.32674831, 0.33071276,\n",
      "       0.18224731, 0.18488468, 0.17766131, 0.1869005 , 0.1823145 ,\n",
      "       0.20430378, 0.17749332, 0.18711888, 0.1868837 , 0.1868837 ,\n",
      "       0.18671572, 0.1880428 , 0.18715248, 0.18664852, 0.18602698,\n",
      "       0.18604378, 0.1868837 , 0.18664852, 0.18794201, 0.18258328,\n",
      "       0.18522065, 0.1857918 , 0.18246569, 0.18886593, 0.1868837 ,\n",
      "       0.16153471, 0.15523526, 0.15988846, 0.16024123, 0.16224025,\n",
      "       0.15538645, 0.15918292, 0.16005644, 0.16000605, 0.16266022,\n",
      "       0.16185389, 0.16207227, 0.16264342, 0.16235784, 0.16309698,\n",
      "       0.1594013 , 0.16412169, 0.16390331, 0.16264342, 0.16376892,\n",
      "       0.16150112, 0.16410489, 0.16333216, 0.162845  , 0.16412169]), 'split3_test_score': array([0.35260718, 0.35584935, 0.35556377, 0.35584935, 0.35588295,\n",
      "       0.35588295, 0.35584935, 0.35322873, 0.35556377, 0.35584935,\n",
      "       0.35584935, 0.35584935, 0.35584935, 0.35588295, 0.35584935,\n",
      "       0.35201922, 0.35588295, 0.34998656, 0.35584935, 0.35584935,\n",
      "       0.35584935, 0.35435425, 0.35322873, 0.35584935, 0.35351431,\n",
      "       0.28220333, 0.28220333, 0.2798683 , 0.28017068, 0.28220333,\n",
      "       0.28017068, 0.24816893, 0.28017068, 0.28017068, 0.28017068,\n",
      "       0.28220333, 0.25149509, 0.28017068, 0.28220333, 0.28220333,\n",
      "       0.28017068, 0.2798683 , 0.28017068, 0.28017068, 0.28220333,\n",
      "       0.25352775, 0.2798683 , 0.25352775, 0.28220333, 0.28017068,\n",
      "       0.23383954, 0.23819043, 0.23819043, 0.2358554 , 0.2371993 ,\n",
      "       0.23819043, 0.23483067, 0.23486427, 0.2358554 , 0.23819043,\n",
      "       0.23098374, 0.23383954, 0.2358554 , 0.23249563, 0.23819043,\n",
      "       0.23819043, 0.2358554 , 0.23819043, 0.23819043, 0.2358554 ,\n",
      "       0.2371993 , 0.23819043, 0.2358554 , 0.2371993 , 0.2358554 ,\n",
      "       0.21561282, 0.21663755, 0.21710792, 0.21710792, 0.21710792,\n",
      "       0.21574721, 0.21132912, 0.21557922, 0.21621758, 0.21809905,\n",
      "       0.21746069, 0.21819984, 0.21366416, 0.21867021, 0.21366416,\n",
      "       0.21512566, 0.21867021, 0.21919097, 0.21867021, 0.21663755,\n",
      "       0.21366416, 0.21819984, 0.21919097, 0.21867021, 0.21867021,\n",
      "       0.21272342, 0.21272342, 0.21225306, 0.21225306, 0.21225306,\n",
      "       0.20991802, 0.20991802, 0.21225306, 0.21225306, 0.21225306,\n",
      "       0.21569681, 0.21225306, 0.21272342, 0.21272342, 0.21225306,\n",
      "       0.21038839, 0.21324419, 0.21225306, 0.21225306, 0.21225306,\n",
      "       0.21569681, 0.21569681, 0.21324419, 0.21225306, 0.21225306]), 'split4_test_score': array([0.57542669, 0.5767202 , 0.5752923 , 0.57685459, 0.57621623,\n",
      "       0.56412109, 0.64576334, 0.57628343, 0.57621623, 0.57596425,\n",
      "       0.5724029 , 0.57493952, 0.57834968, 0.57650181, 0.57744255,\n",
      "       0.5753091 , 0.57498992, 0.57453635, 0.57656901, 0.57621623,\n",
      "       0.57473794, 0.6462505 , 0.57596425, 0.57646822, 0.57613224,\n",
      "       0.55903104, 0.55714958, 0.56370112, 0.56354993, 0.55852708,\n",
      "       0.56198764, 0.55901425, 0.5624748 , 0.56272678, 0.56354993,\n",
      "       0.56215562, 0.55951821, 0.56353313, 0.56239081, 0.55871187,\n",
      "       0.55810711, 0.56260919, 0.55765354, 0.55879586, 0.55881266,\n",
      "       0.55610805, 0.56334834, 0.56270999, 0.55761994, 0.56259239,\n",
      "       0.55466335, 0.55772074, 0.55869507, 0.55792232, 0.55792232,\n",
      "       0.54769184, 0.55864467, 0.55864467, 0.55792232, 0.5582583 ,\n",
      "       0.55661201, 0.53013708, 0.55872867, 0.55807351, 0.55773754,\n",
      "       0.5554025 , 0.56319715, 0.55864467, 0.55864467, 0.55792232,\n",
      "       0.5582751 , 0.55874546, 0.5582415 , 0.55773754, 0.5582583 ,\n",
      "       0.52425749, 0.55956861, 0.55172356, 0.55227792, 0.55279868,\n",
      "       0.52533262, 0.55777113, 0.55244591, 0.55212673, 0.55919903,\n",
      "       0.54792703, 0.55780473, 0.55269789, 0.55929983, 0.55194194,\n",
      "       0.55187475, 0.53156498, 0.55859427, 0.55856068, 0.55928303,\n",
      "       0.5639027 , 0.55886306, 0.55955181, 0.55889665, 0.55278188,\n",
      "       0.55101801, 0.55031246, 0.55667921, 0.55666241, 0.55017807,\n",
      "       0.54671751, 0.55046365, 0.55740156, 0.55667921, 0.55721677,\n",
      "       0.55382341, 0.55068203, 0.55674641, 0.5567632 , 0.55709918,\n",
      "       0.55224432, 0.54885096, 0.55644403, 0.55016127, 0.55696479,\n",
      "       0.55600726, 0.55444497, 0.55751915, 0.55014447, 0.54955651]), 'mean_test_score': array([0.52230342, 0.52230006, 0.51015807, 0.51092745, 0.52335836,\n",
      "       0.52164491, 0.53706933, 0.52387576, 0.52494079, 0.52467537,\n",
      "       0.52214215, 0.5321608 , 0.51181777, 0.52410422, 0.50923415,\n",
      "       0.50918376, 0.51191856, 0.53202305, 0.52380856, 0.51008416,\n",
      "       0.51093417, 0.52335836, 0.52178938, 0.53221119, 0.50947941,\n",
      "       0.44621949, 0.45071478, 0.45180668, 0.45162526, 0.45116834,\n",
      "       0.44071293, 0.44554083, 0.45356045, 0.4511381 , 0.44976062,\n",
      "       0.44995548, 0.44691495, 0.44481177, 0.45368476, 0.45127585,\n",
      "       0.45140688, 0.44997228, 0.4499622 , 0.4516555 , 0.44440525,\n",
      "       0.44686791, 0.45231736, 0.4472946 , 0.45187052, 0.4520385 ,\n",
      "       0.41401334, 0.4142418 , 0.41853214, 0.4190529 , 0.4193116 ,\n",
      "       0.41660367, 0.41777957, 0.416943  , 0.41752759, 0.41980547,\n",
      "       0.41760151, 0.41138269, 0.41728905, 0.41738312, 0.4141914 ,\n",
      "       0.41998354, 0.41814242, 0.41759479, 0.42014816, 0.41768214,\n",
      "       0.41672462, 0.42045726, 0.417877  , 0.41614339, 0.41989283,\n",
      "       0.33590351, 0.34532413, 0.34193082, 0.34441701, 0.3428413 ,\n",
      "       0.340849  , 0.34289506, 0.3442591 , 0.34451108, 0.34523342,\n",
      "       0.34333518, 0.3458516 , 0.34381562, 0.34615398, 0.34390969,\n",
      "       0.34457491, 0.34165869, 0.34599943, 0.34661761, 0.34493104,\n",
      "       0.34611702, 0.34719212, 0.34587848, 0.34568362, 0.34530397,\n",
      "       0.33084379, 0.33098826, 0.33142502, 0.33149893, 0.33059517,\n",
      "       0.32807203, 0.33041375, 0.3316098 , 0.33166692, 0.33230526,\n",
      "       0.33275546, 0.33089083, 0.33209024, 0.33225487, 0.33215744,\n",
      "       0.32924121, 0.33135447, 0.33269499, 0.330743  , 0.33254716,\n",
      "       0.33308136, 0.33313511, 0.33317207, 0.33133431, 0.33169716]), 'std_test_score': array([0.10437458, 0.1034721 , 0.11238725, 0.1127868 , 0.10306249,\n",
      "       0.1023008 , 0.11360326, 0.10442433, 0.10326004, 0.10350822,\n",
      "       0.10288398, 0.10113053, 0.11323346, 0.10343152, 0.11217726,\n",
      "       0.1135045 , 0.11175366, 0.10332984, 0.10355562, 0.11256181,\n",
      "       0.11181924, 0.12375224, 0.10417235, 0.10128549, 0.11322231,\n",
      "       0.12998771, 0.14012295, 0.14156965, 0.14163338, 0.14026161,\n",
      "       0.13416124, 0.14840689, 0.14025283, 0.14163991, 0.14280005,\n",
      "       0.14187735, 0.14730958, 0.13230442, 0.13988052, 0.14024564,\n",
      "       0.14028439, 0.14228139, 0.140957  , 0.1403365 , 0.13093205,\n",
      "       0.14615058, 0.1412222 , 0.14767813, 0.13967625, 0.14115145,\n",
      "       0.15100123, 0.15133778, 0.14920557, 0.14895834, 0.14861856,\n",
      "       0.14693214, 0.15002963, 0.15051613, 0.14976412, 0.14827298,\n",
      "       0.14998965, 0.14664842, 0.15016316, 0.15034677, 0.15132233,\n",
      "       0.14733481, 0.15059521, 0.14963682, 0.14822298, 0.14969441,\n",
      "       0.15012382, 0.14804281, 0.14968678, 0.15028107, 0.14855151,\n",
      "       0.19235111, 0.19750335, 0.19740223, 0.19549781, 0.19709211,\n",
      "       0.18889324, 0.1985805 , 0.19563026, 0.19528953, 0.19760166,\n",
      "       0.19480042, 0.19647012, 0.19604513, 0.19677442, 0.19561352,\n",
      "       0.19503708, 0.18998911, 0.19666862, 0.19606335, 0.19769775,\n",
      "       0.1989216 , 0.1955493 , 0.19705617, 0.19714615, 0.19494338,\n",
      "       0.20778609, 0.20658241, 0.20890846, 0.20884006, 0.207134  ,\n",
      "       0.20778902, 0.20710975, 0.20902991, 0.20866579, 0.20834732,\n",
      "       0.20674139, 0.20703362, 0.20841208, 0.20823776, 0.2084685 ,\n",
      "       0.20909916, 0.20597114, 0.20767537, 0.20699234, 0.2080403 ,\n",
      "       0.20730927, 0.20670395, 0.20824302, 0.20638782, 0.20582534]), 'rank_test_score': array([ 12,  13,  21,  20,  10,  16,   1,   8,   5,   6,  14,   3,  18,\n",
      "         7,  24,  25,  17,   4,   9,  22,  19,  10,  15,   2,  23,  46,\n",
      "        38,  31,  33,  36,  50,  47,  27,  37,  42,  41,  44,  48,  26,\n",
      "        35,  34,  39,  40,  32,  49,  45,  28,  43,  30,  29,  74,  72,\n",
      "        58,  57,  56,  70,  61,  68,  65,  55,  63,  75,  67,  66,  73,\n",
      "        53,  59,  64,  52,  62,  69,  51,  60,  71,  54, 100,  84,  97,\n",
      "        90,  96,  99,  95,  91,  89,  86,  94,  82,  93,  78,  92,  88,\n",
      "        98,  80,  77,  87,  79,  76,  81,  83,  85, 120, 118, 115, 114,\n",
      "       122, 125, 123, 113, 112, 107, 104, 119, 110, 108, 109, 124, 116,\n",
      "       105, 121, 106, 103, 102, 101, 117, 111])}\n"
     ]
    }
   ],
   "source": [
    "#apply grid search for best set of hyper parameters\n",
    "%timeit\n",
    "\n",
    "rf = RandomForestClassifier(class_weight={0:1/42.01,1:1/45.37,2:1/12.62})\n",
    "rf_params = {'n_estimators': [100, 200,400,500,700], 'max_depth': [3,5,7,11,15],\n",
    "            'min_samples_split': [5, 10,20,30,40]}\n",
    "rf_grid = GridSearchCV(rf, rf_params, cv = 5, verbose=10, n_jobs = -1, scoring='accuracy')\n",
    "rf_grid.fit(train_data[selvars1], train_data['target'])\n",
    "print(rf_grid.best_params_)\n",
    "print(rf_grid.cv_results_)"
   ]
  },
  {
   "cell_type": "code",
   "execution_count": 62,
   "metadata": {},
   "outputs": [
    {
     "name": "stdout",
     "output_type": "stream",
     "text": [
      "Accuracy of Random Forest classifier on training set: 62.25\n",
      "Accuracy of Random Forest classifier on test set: 58.46\n"
     ]
    }
   ],
   "source": [
    "rf_model = RandomForestClassifier(n_estimators=300, max_depth = 8, min_samples_split=10, \n",
    "                                  class_weight={0:1/0.42,1:1/0.45,2:1/0.13}, n_jobs=-1, \n",
    "                                  random_state = 42).fit(train_data[selvars1], train_data['target'])\n",
    "\n",
    "print('Accuracy of Random Forest classifier on training set: {:.2f}'\n",
    "       .format(rf_model.score(train_data[selvars1], train_data['target'])*100))\n",
    "print('Accuracy of Random Forest classifier on test set: {:.2f}'\n",
    "       .format(rf_model.score(test_data[selvars1], test_data['target'])*100))"
   ]
  },
  {
   "cell_type": "code",
   "execution_count": 63,
   "metadata": {},
   "outputs": [],
   "source": [
    "y_true = np.array(test_data['target'])\n",
    "y_pred = rf_model.predict(test_data[selvars1])"
   ]
  },
  {
   "cell_type": "code",
   "execution_count": 64,
   "metadata": {},
   "outputs": [
    {
     "data": {
      "text/plain": [
       "array([[15023,  4575,  3010],\n",
       "       [ 5498, 11486,  5562],\n",
       "       [ 1204,  1331,  3295]], dtype=int64)"
      ]
     },
     "execution_count": 64,
     "metadata": {},
     "output_type": "execute_result"
    }
   ],
   "source": [
    "confusion_matrix(y_true, y_pred)"
   ]
  },
  {
   "cell_type": "code",
   "execution_count": 65,
   "metadata": {},
   "outputs": [
    {
     "name": "stdout",
     "output_type": "stream",
     "text": [
      "              precision    recall  f1-score   support\n",
      "\n",
      "           0       0.69      0.66      0.68     22608\n",
      "           1       0.66      0.51      0.58     22546\n",
      "           2       0.28      0.57      0.37      5830\n",
      "\n",
      "    accuracy                           0.58     50984\n",
      "   macro avg       0.54      0.58      0.54     50984\n",
      "weighted avg       0.63      0.58      0.60     50984\n",
      "\n"
     ]
    }
   ],
   "source": [
    "print(classification_report(y_true, y_pred))"
   ]
  },
  {
   "cell_type": "markdown",
   "metadata": {},
   "source": [
    "##### XGBoost"
   ]
  },
  {
   "cell_type": "code",
   "execution_count": 122,
   "metadata": {},
   "outputs": [
    {
     "name": "stdout",
     "output_type": "stream",
     "text": [
      "Accuracy of XGBoost classifier on training set: 68.74\n",
      "Accuracy of XGBoost classifier on test set: 64.45\n"
     ]
    }
   ],
   "source": [
    "xgb_model = xgb.XGBClassifier(max_depth=8, n_estimators=300, class_weight={0:1/0.42,1:1/0.45,2:1/0.13},\n",
    "                              learning_rate=0.001).fit(train_data[selvars1], train_data['target'])\n",
    "\n",
    "y_pred = xgb_model.predict(test_data[selvars1])\n",
    "\n",
    "print('Accuracy of XGBoost classifier on training set: {:.2f}'\n",
    "       .format(xgb_model.score(train_data[selvars1], train_data['target'])*100))\n",
    "print('Accuracy of XGBoost classifier on test set: {:.2f}'\n",
    "       .format(xgb_model.score(test_data[selvars1], test_data['target'])*100))"
   ]
  },
  {
   "cell_type": "code",
   "execution_count": 123,
   "metadata": {},
   "outputs": [
    {
     "data": {
      "text/plain": [
       "array([[14525,  7033,  1050],\n",
       "       [ 4646, 16746,  1154],\n",
       "       [ 1366,  2878,  1586]], dtype=int64)"
      ]
     },
     "execution_count": 123,
     "metadata": {},
     "output_type": "execute_result"
    }
   ],
   "source": [
    "confusion_matrix(y_true, y_pred)"
   ]
  },
  {
   "cell_type": "code",
   "execution_count": 124,
   "metadata": {},
   "outputs": [
    {
     "name": "stdout",
     "output_type": "stream",
     "text": [
      "              precision    recall  f1-score   support\n",
      "\n",
      "           0       0.71      0.64      0.67     22608\n",
      "           1       0.63      0.74      0.68     22546\n",
      "           2       0.42      0.27      0.33      5830\n",
      "\n",
      "    accuracy                           0.64     50984\n",
      "   macro avg       0.58      0.55      0.56     50984\n",
      "weighted avg       0.64      0.64      0.64     50984\n",
      "\n"
     ]
    }
   ],
   "source": [
    "print(classification_report(y_true, y_pred))"
   ]
  },
  {
   "cell_type": "markdown",
   "metadata": {},
   "source": [
    "##### ANN"
   ]
  },
  {
   "cell_type": "code",
   "execution_count": 80,
   "metadata": {},
   "outputs": [
    {
     "name": "stdout",
     "output_type": "stream",
     "text": [
      "MinMaxScaler(copy=True, feature_range=(0, 1))\n",
      "MinMaxScaler(copy=True, feature_range=(0, 1))\n"
     ]
    }
   ],
   "source": [
    "#creating arrays out of train/test dataframes\n",
    "X_train, y_train = train_data[selvars1].values, np.array(train_data['target']).reshape(-1,1)\n",
    "X_test, y_test = test_data[selvars1].values, np.array(test_data['target']).reshape(-1,1)\n",
    "y_train = np_utils.to_categorical(y_train)\n",
    "y_test = np_utils.to_categorical(y_test)\n",
    "\n",
    "#normalizing features\n",
    "#scaling data using MinMaxScalar\n",
    "scaler_X_train = MinMaxScaler()\n",
    "print(scaler_X_train.fit(X_train))\n",
    "X_train = scaler_X_train.transform(X_train)\n",
    "\n",
    "scaler_X_test = MinMaxScaler()\n",
    "print(scaler_X_test.fit(X_test))\n",
    "X_test = scaler_X_test.transform(X_test)"
   ]
  },
  {
   "cell_type": "code",
   "execution_count": 81,
   "metadata": {},
   "outputs": [
    {
     "data": {
      "text/plain": [
       "{0: 0.8436519019825497, 1: 0.7123535624732925, 2: 2.433802312528838}"
      ]
     },
     "execution_count": 81,
     "metadata": {},
     "output_type": "execute_result"
    }
   ],
   "source": [
    "y_integers = np.argmax(y_train, axis=1)\n",
    "class_weights = compute_class_weight('balanced', np.unique(y_integers), y_integers)\n",
    "d_class_weights = dict(enumerate(class_weights))\n",
    "d_class_weights"
   ]
  },
  {
   "cell_type": "code",
   "execution_count": 82,
   "metadata": {},
   "outputs": [
    {
     "name": "stderr",
     "output_type": "stream",
     "text": [
      "WARNING: Logging before flag parsing goes to stderr.\n",
      "W0304 11:57:21.660197 12952 deprecation.py:506] From C:\\Users\\Manoj\\Anaconda3\\lib\\site-packages\\tensorflow\\python\\keras\\initializers.py:143: calling RandomNormal.__init__ (from tensorflow.python.ops.init_ops) with dtype is deprecated and will be removed in a future version.\n",
      "Instructions for updating:\n",
      "Call initializer instance with the dtype argument instead of passing it to the constructor\n",
      "W0304 11:57:21.708071 12952 deprecation.py:506] From C:\\Users\\Manoj\\Anaconda3\\lib\\site-packages\\tensorflow\\python\\ops\\init_ops.py:1251: calling VarianceScaling.__init__ (from tensorflow.python.ops.init_ops) with dtype is deprecated and will be removed in a future version.\n",
      "Instructions for updating:\n",
      "Call initializer instance with the dtype argument instead of passing it to the constructor\n"
     ]
    },
    {
     "name": "stdout",
     "output_type": "stream",
     "text": [
      "Model: \"sequential\"\n",
      "_________________________________________________________________\n",
      "Layer (type)                 Output Shape              Param #   \n",
      "=================================================================\n",
      "dense (Dense)                (None, 50)                650       \n",
      "_________________________________________________________________\n",
      "dropout (Dropout)            (None, 50)                0         \n",
      "_________________________________________________________________\n",
      "dense_1 (Dense)              (None, 30)                1530      \n",
      "_________________________________________________________________\n",
      "dropout_1 (Dropout)          (None, 30)                0         \n",
      "_________________________________________________________________\n",
      "dense_2 (Dense)              (None, 15)                465       \n",
      "_________________________________________________________________\n",
      "dropout_2 (Dropout)          (None, 15)                0         \n",
      "_________________________________________________________________\n",
      "dense_3 (Dense)              (None, 3)                 48        \n",
      "=================================================================\n",
      "Total params: 2,693\n",
      "Trainable params: 2,693\n",
      "Non-trainable params: 0\n",
      "_________________________________________________________________\n",
      "Train on 282728 samples, validate on 70682 samples\n",
      "Epoch 1/150\n",
      "282728/282728 [==============================] - 7s 25us/sample - loss: 0.8578 - acc: 0.6081 - val_loss: 0.8605 - val_acc: 0.6189\n",
      "Epoch 2/150\n",
      "282728/282728 [==============================] - 7s 23us/sample - loss: 0.8319 - acc: 0.6108 - val_loss: 0.8546 - val_acc: 0.6261\n",
      "Epoch 3/150\n",
      "282728/282728 [==============================] - 7s 26us/sample - loss: 0.8275 - acc: 0.6089 - val_loss: 0.8559 - val_acc: 0.6254\n",
      "Epoch 4/150\n",
      "282728/282728 [==============================] - 6s 23us/sample - loss: 0.8251 - acc: 0.6085 - val_loss: 0.8524 - val_acc: 0.6264\n",
      "Epoch 5/150\n",
      "282728/282728 [==============================] - 6s 22us/sample - loss: 0.8238 - acc: 0.6091 - val_loss: 0.8541 - val_acc: 0.6313\n",
      "Epoch 6/150\n",
      "282728/282728 [==============================] - 6s 23us/sample - loss: 0.8236 - acc: 0.6079 - val_loss: 0.8584 - val_acc: 0.6334\n",
      "Epoch 7/150\n",
      "282728/282728 [==============================] - 6s 22us/sample - loss: 0.8223 - acc: 0.6088 - val_loss: 0.8615 - val_acc: 0.6379\n",
      "Epoch 8/150\n",
      "282728/282728 [==============================] - 7s 23us/sample - loss: 0.8218 - acc: 0.6084 - val_loss: 0.8637 - val_acc: 0.6413\n",
      "Epoch 9/150\n",
      "282728/282728 [==============================] - 7s 23us/sample - loss: 0.8211 - acc: 0.6088 - val_loss: 0.8597 - val_acc: 0.6373\n",
      "Epoch 10/150\n",
      "282728/282728 [==============================] - 6s 23us/sample - loss: 0.8206 - acc: 0.6119 - val_loss: 0.8534 - val_acc: 0.6293\n",
      "Epoch 11/150\n",
      "282728/282728 [==============================] - 6s 23us/sample - loss: 0.8199 - acc: 0.6103 - val_loss: 0.8562 - val_acc: 0.6250\n",
      "Epoch 12/150\n",
      "282728/282728 [==============================] - 6s 23us/sample - loss: 0.8191 - acc: 0.6098 - val_loss: 0.8572 - val_acc: 0.6335\n",
      "Epoch 13/150\n",
      "282728/282728 [==============================] - 7s 23us/sample - loss: 0.8192 - acc: 0.6125 - val_loss: 0.8545 - val_acc: 0.6272\n",
      "Epoch 14/150\n",
      "282728/282728 [==============================] - 6s 23us/sample - loss: 0.8194 - acc: 0.6117 - val_loss: 0.8536 - val_acc: 0.6220\n",
      "Epoch 15/150\n",
      "282728/282728 [==============================] - 6s 23us/sample - loss: 0.8193 - acc: 0.6118 - val_loss: 0.8598 - val_acc: 0.6283\n",
      "Epoch 16/150\n",
      "282728/282728 [==============================] - 7s 23us/sample - loss: 0.8194 - acc: 0.6104 - val_loss: 0.8520 - val_acc: 0.6243\n",
      "Epoch 17/150\n",
      "282728/282728 [==============================] - 7s 23us/sample - loss: 0.8189 - acc: 0.6117 - val_loss: 0.8527 - val_acc: 0.6274\n",
      "Epoch 18/150\n",
      "282728/282728 [==============================] - 7s 23us/sample - loss: 0.8192 - acc: 0.6104 - val_loss: 0.8561 - val_acc: 0.6216\n",
      "Epoch 19/150\n",
      "282728/282728 [==============================] - 7s 26us/sample - loss: 0.8185 - acc: 0.6122 - val_loss: 0.8530 - val_acc: 0.6311\n",
      "Epoch 20/150\n",
      "282728/282728 [==============================] - 7s 26us/sample - loss: 0.8188 - acc: 0.6092 - val_loss: 0.8635 - val_acc: 0.6247\n",
      "Epoch 21/150\n",
      "282728/282728 [==============================] - 6s 21us/sample - loss: 0.8186 - acc: 0.6087 - val_loss: 0.8577 - val_acc: 0.6301\n",
      "Epoch 22/150\n",
      "282728/282728 [==============================] - 6s 22us/sample - loss: 0.8177 - acc: 0.6104 - val_loss: 0.8487 - val_acc: 0.6269\n",
      "Epoch 23/150\n",
      "282728/282728 [==============================] - 7s 25us/sample - loss: 0.8180 - acc: 0.6122 - val_loss: 0.8661 - val_acc: 0.6294\n",
      "Epoch 24/150\n",
      "282728/282728 [==============================] - 7s 25us/sample - loss: 0.8180 - acc: 0.6109 - val_loss: 0.8526 - val_acc: 0.6328\n",
      "Epoch 25/150\n",
      "282728/282728 [==============================] - 7s 25us/sample - loss: 0.8175 - acc: 0.6076 - val_loss: 0.8583 - val_acc: 0.6297\n",
      "Epoch 26/150\n",
      "282728/282728 [==============================] - 7s 23us/sample - loss: 0.8180 - acc: 0.6074 - val_loss: 0.8578 - val_acc: 0.6256\n",
      "Epoch 27/150\n",
      "282728/282728 [==============================] - 7s 23us/sample - loss: 0.8170 - acc: 0.6108 - val_loss: 0.8536 - val_acc: 0.6244\n",
      "Epoch 28/150\n",
      "282728/282728 [==============================] - 6s 23us/sample - loss: 0.8173 - acc: 0.6086 - val_loss: 0.8579 - val_acc: 0.6285\n",
      "Epoch 29/150\n",
      "282728/282728 [==============================] - 7s 23us/sample - loss: 0.8176 - acc: 0.6097 - val_loss: 0.8552 - val_acc: 0.6261\n",
      "Epoch 30/150\n",
      "282728/282728 [==============================] - 7s 24us/sample - loss: 0.8176 - acc: 0.6091 - val_loss: 0.8539 - val_acc: 0.6248\n",
      "Epoch 31/150\n",
      "282728/282728 [==============================] - 7s 26us/sample - loss: 0.8177 - acc: 0.6108 - val_loss: 0.8547 - val_acc: 0.6261\n",
      "Epoch 32/150\n",
      "282728/282728 [==============================] - 6s 23us/sample - loss: 0.8177 - acc: 0.6097 - val_loss: 0.8581 - val_acc: 0.6293\n",
      "Epoch 33/150\n",
      "282728/282728 [==============================] - 7s 25us/sample - loss: 0.8172 - acc: 0.6108 - val_loss: 0.8632 - val_acc: 0.6234\n",
      "Epoch 34/150\n",
      "282728/282728 [==============================] - 7s 23us/sample - loss: 0.8176 - acc: 0.6107 - val_loss: 0.8578 - val_acc: 0.6295\n",
      "Epoch 35/150\n",
      "282728/282728 [==============================] - 7s 24us/sample - loss: 0.8180 - acc: 0.6078 - val_loss: 0.8563 - val_acc: 0.6247\n",
      "Epoch 36/150\n",
      "282728/282728 [==============================] - 7s 24us/sample - loss: 0.8173 - acc: 0.6074 - val_loss: 0.8502 - val_acc: 0.6246\n",
      "Epoch 37/150\n",
      "282728/282728 [==============================] - 7s 23us/sample - loss: 0.8174 - acc: 0.6109 - val_loss: 0.8586 - val_acc: 0.6241\n",
      "Epoch 38/150\n",
      "282728/282728 [==============================] - 7s 24us/sample - loss: 0.8173 - acc: 0.6100 - val_loss: 0.8590 - val_acc: 0.6271\n",
      "Epoch 39/150\n",
      "282728/282728 [==============================] - 7s 23us/sample - loss: 0.8167 - acc: 0.6120 - val_loss: 0.8558 - val_acc: 0.6258\n",
      "Epoch 40/150\n",
      "282728/282728 [==============================] - 7s 23us/sample - loss: 0.8173 - acc: 0.6096 - val_loss: 0.8589 - val_acc: 0.6365\n",
      "Epoch 41/150\n",
      "282728/282728 [==============================] - 7s 23us/sample - loss: 0.8173 - acc: 0.6089 - val_loss: 0.8576 - val_acc: 0.6313\n",
      "Epoch 42/150\n",
      "282728/282728 [==============================] - 7s 23us/sample - loss: 0.8175 - acc: 0.6085 - val_loss: 0.8564 - val_acc: 0.6237\n",
      "Epoch 43/150\n",
      "282728/282728 [==============================] - 6s 23us/sample - loss: 0.8167 - acc: 0.6111 - val_loss: 0.8615 - val_acc: 0.6311\n",
      "Epoch 44/150\n",
      "282728/282728 [==============================] - 7s 23us/sample - loss: 0.8166 - acc: 0.6084 - val_loss: 0.8675 - val_acc: 0.6291\n",
      "Epoch 45/150\n",
      "282728/282728 [==============================] - 7s 23us/sample - loss: 0.8164 - acc: 0.6093 - val_loss: 0.8584 - val_acc: 0.6267\n",
      "Epoch 46/150\n",
      "282728/282728 [==============================] - 7s 23us/sample - loss: 0.8170 - acc: 0.6102 - val_loss: 0.8503 - val_acc: 0.6260\n",
      "Epoch 47/150\n",
      "282728/282728 [==============================] - 7s 23us/sample - loss: 0.8165 - acc: 0.6121 - val_loss: 0.8526 - val_acc: 0.6268\n",
      "Epoch 48/150\n",
      "282728/282728 [==============================] - 6s 23us/sample - loss: 0.8166 - acc: 0.6079 - val_loss: 0.8524 - val_acc: 0.6269\n",
      "Epoch 49/150\n"
     ]
    },
    {
     "name": "stdout",
     "output_type": "stream",
     "text": [
      "282728/282728 [==============================] - 6s 22us/sample - loss: 0.8167 - acc: 0.6084 - val_loss: 0.8540 - val_acc: 0.6237\n",
      "Epoch 50/150\n",
      "282728/282728 [==============================] - 6s 22us/sample - loss: 0.8164 - acc: 0.6089 - val_loss: 0.8531 - val_acc: 0.6264\n",
      "Epoch 51/150\n",
      "282728/282728 [==============================] - 6s 22us/sample - loss: 0.8168 - acc: 0.6093 - val_loss: 0.8555 - val_acc: 0.6355\n",
      "Epoch 52/150\n",
      "282728/282728 [==============================] - 6s 22us/sample - loss: 0.8169 - acc: 0.6090 - val_loss: 0.8486 - val_acc: 0.6231\n",
      "Epoch 53/150\n",
      "282728/282728 [==============================] - 6s 23us/sample - loss: 0.8162 - acc: 0.6075 - val_loss: 0.8556 - val_acc: 0.6331\n",
      "Epoch 54/150\n",
      "282728/282728 [==============================] - 6s 22us/sample - loss: 0.8173 - acc: 0.6092 - val_loss: 0.8527 - val_acc: 0.6298\n",
      "Epoch 55/150\n",
      "282728/282728 [==============================] - 6s 22us/sample - loss: 0.8176 - acc: 0.6084 - val_loss: 0.8503 - val_acc: 0.6222\n",
      "Epoch 56/150\n",
      "282728/282728 [==============================] - 6s 23us/sample - loss: 0.8162 - acc: 0.6085 - val_loss: 0.8529 - val_acc: 0.6278\n",
      "Epoch 57/150\n",
      "282728/282728 [==============================] - 6s 22us/sample - loss: 0.8162 - acc: 0.6085 - val_loss: 0.8507 - val_acc: 0.6291\n",
      "Epoch 58/150\n",
      "282728/282728 [==============================] - 6s 22us/sample - loss: 0.8163 - acc: 0.6081 - val_loss: 0.8484 - val_acc: 0.6267\n",
      "Epoch 59/150\n",
      "282728/282728 [==============================] - 6s 22us/sample - loss: 0.8167 - acc: 0.6101 - val_loss: 0.8558 - val_acc: 0.6272\n",
      "Epoch 60/150\n",
      "282728/282728 [==============================] - 6s 22us/sample - loss: 0.8168 - acc: 0.6078 - val_loss: 0.8530 - val_acc: 0.6349\n",
      "Epoch 61/150\n",
      "282728/282728 [==============================] - 6s 22us/sample - loss: 0.8170 - acc: 0.6099 - val_loss: 0.8582 - val_acc: 0.6257\n",
      "Epoch 62/150\n",
      "282728/282728 [==============================] - 6s 22us/sample - loss: 0.8164 - acc: 0.6079 - val_loss: 0.8566 - val_acc: 0.6261\n",
      "Epoch 63/150\n",
      "282728/282728 [==============================] - 6s 23us/sample - loss: 0.8159 - acc: 0.6077 - val_loss: 0.8550 - val_acc: 0.6275\n",
      "Epoch 64/150\n",
      "282728/282728 [==============================] - 6s 22us/sample - loss: 0.8169 - acc: 0.6088 - val_loss: 0.8523 - val_acc: 0.6335\n",
      "Epoch 65/150\n",
      "282728/282728 [==============================] - 6s 22us/sample - loss: 0.8160 - acc: 0.6069 - val_loss: 0.8534 - val_acc: 0.6272\n",
      "Epoch 66/150\n",
      "282728/282728 [==============================] - 6s 23us/sample - loss: 0.8170 - acc: 0.6090 - val_loss: 0.8514 - val_acc: 0.6329\n",
      "Epoch 67/150\n",
      "282728/282728 [==============================] - 6s 22us/sample - loss: 0.8168 - acc: 0.6084 - val_loss: 0.8542 - val_acc: 0.6347\n",
      "Epoch 68/150\n",
      "282728/282728 [==============================] - 6s 22us/sample - loss: 0.8162 - acc: 0.6089 - val_loss: 0.8540 - val_acc: 0.6337\n",
      "Epoch 69/150\n",
      "282728/282728 [==============================] - 6s 22us/sample - loss: 0.8156 - acc: 0.6081 - val_loss: 0.8567 - val_acc: 0.6241\n",
      "Epoch 70/150\n",
      "282728/282728 [==============================] - 6s 22us/sample - loss: 0.8163 - acc: 0.6091 - val_loss: 0.8555 - val_acc: 0.6332\n",
      "Epoch 71/150\n",
      "282728/282728 [==============================] - 6s 22us/sample - loss: 0.8163 - acc: 0.6096 - val_loss: 0.8505 - val_acc: 0.6269\n",
      "Epoch 72/150\n",
      "282728/282728 [==============================] - 6s 23us/sample - loss: 0.8162 - acc: 0.6074 - val_loss: 0.8526 - val_acc: 0.6277\n",
      "Epoch 73/150\n",
      "282728/282728 [==============================] - 7s 24us/sample - loss: 0.8159 - acc: 0.6071 - val_loss: 0.8520 - val_acc: 0.6282\n",
      "Epoch 74/150\n",
      "282728/282728 [==============================] - 7s 23us/sample - loss: 0.8160 - acc: 0.6094 - val_loss: 0.8614 - val_acc: 0.6239\n",
      "Epoch 75/150\n",
      "282728/282728 [==============================] - 7s 24us/sample - loss: 0.8161 - acc: 0.6094 - val_loss: 0.8562 - val_acc: 0.6301\n",
      "Epoch 76/150\n",
      "282728/282728 [==============================] - 7s 23us/sample - loss: 0.8161 - acc: 0.6107 - val_loss: 0.8526 - val_acc: 0.6306\n",
      "Epoch 77/150\n",
      "282728/282728 [==============================] - 6s 23us/sample - loss: 0.8168 - acc: 0.6088 - val_loss: 0.8608 - val_acc: 0.6228\n",
      "Epoch 78/150\n",
      "282728/282728 [==============================] - 6s 23us/sample - loss: 0.8168 - acc: 0.6090 - val_loss: 0.8527 - val_acc: 0.6294\n",
      "Epoch 79/150\n",
      "282728/282728 [==============================] - 6s 23us/sample - loss: 0.8163 - acc: 0.6067 - val_loss: 0.8524 - val_acc: 0.6355\n",
      "Epoch 80/150\n",
      "282728/282728 [==============================] - 6s 23us/sample - loss: 0.8155 - acc: 0.6117 - val_loss: 0.8515 - val_acc: 0.6332\n",
      "Epoch 81/150\n",
      "282728/282728 [==============================] - 6s 23us/sample - loss: 0.8158 - acc: 0.6118 - val_loss: 0.8522 - val_acc: 0.6340\n",
      "Epoch 82/150\n",
      "282728/282728 [==============================] - 6s 23us/sample - loss: 0.8165 - acc: 0.6104 - val_loss: 0.8527 - val_acc: 0.6339\n",
      "Epoch 83/150\n",
      "282728/282728 [==============================] - 7s 23us/sample - loss: 0.8165 - acc: 0.6076 - val_loss: 0.8515 - val_acc: 0.6291\n",
      "Epoch 84/150\n",
      "282728/282728 [==============================] - 6s 23us/sample - loss: 0.8156 - acc: 0.6079 - val_loss: 0.8496 - val_acc: 0.6351\n",
      "Epoch 85/150\n",
      "282728/282728 [==============================] - 6s 23us/sample - loss: 0.8166 - acc: 0.6077 - val_loss: 0.8547 - val_acc: 0.6242\n",
      "Epoch 86/150\n",
      "282728/282728 [==============================] - 6s 23us/sample - loss: 0.8159 - acc: 0.6071 - val_loss: 0.8549 - val_acc: 0.6269\n",
      "Epoch 87/150\n",
      "282728/282728 [==============================] - 6s 23us/sample - loss: 0.8158 - acc: 0.6100 - val_loss: 0.8594 - val_acc: 0.6347\n",
      "Epoch 88/150\n",
      "282728/282728 [==============================] - 7s 23us/sample - loss: 0.8164 - acc: 0.6115 - val_loss: 0.8501 - val_acc: 0.6329\n",
      "Epoch 89/150\n",
      "282728/282728 [==============================] - 6s 23us/sample - loss: 0.8163 - acc: 0.6109 - val_loss: 0.8531 - val_acc: 0.6295\n",
      "Epoch 90/150\n",
      "282728/282728 [==============================] - 6s 23us/sample - loss: 0.8163 - acc: 0.6086 - val_loss: 0.8557 - val_acc: 0.6298\n",
      "Epoch 91/150\n",
      "282728/282728 [==============================] - 6s 23us/sample - loss: 0.8160 - acc: 0.6096 - val_loss: 0.8528 - val_acc: 0.6282\n",
      "Epoch 92/150\n",
      "282728/282728 [==============================] - 6s 23us/sample - loss: 0.8162 - acc: 0.6094 - val_loss: 0.8619 - val_acc: 0.6355\n",
      "Epoch 93/150\n",
      "282728/282728 [==============================] - 6s 23us/sample - loss: 0.8161 - acc: 0.6110 - val_loss: 0.8558 - val_acc: 0.6268\n",
      "Epoch 94/150\n",
      "282728/282728 [==============================] - 7s 24us/sample - loss: 0.8158 - acc: 0.6090 - val_loss: 0.8604 - val_acc: 0.6304\n",
      "Epoch 95/150\n",
      "282728/282728 [==============================] - 7s 23us/sample - loss: 0.8158 - acc: 0.6125 - val_loss: 0.8513 - val_acc: 0.6328\n",
      "Epoch 96/150\n",
      "282728/282728 [==============================] - 6s 23us/sample - loss: 0.8166 - acc: 0.6108 - val_loss: 0.8561 - val_acc: 0.6309\n",
      "Epoch 97/150\n",
      "282728/282728 [==============================] - 7s 24us/sample - loss: 0.8160 - acc: 0.6113 - val_loss: 0.8498 - val_acc: 0.6259\n",
      "Epoch 98/150\n",
      "282728/282728 [==============================] - 7s 24us/sample - loss: 0.8153 - acc: 0.6129 - val_loss: 0.8599 - val_acc: 0.6307\n",
      "Epoch 99/150\n",
      "282728/282728 [==============================] - 7s 24us/sample - loss: 0.8164 - acc: 0.6109 - val_loss: 0.8544 - val_acc: 0.6287\n",
      "Epoch 100/150\n",
      "282728/282728 [==============================] - 7s 24us/sample - loss: 0.8164 - acc: 0.6121 - val_loss: 0.8564 - val_acc: 0.6389\n",
      "Epoch 101/150\n",
      "282728/282728 [==============================] - 7s 24us/sample - loss: 0.8159 - acc: 0.6127 - val_loss: 0.8519 - val_acc: 0.6289\n",
      "Epoch 102/150\n",
      "282728/282728 [==============================] - 7s 24us/sample - loss: 0.8164 - acc: 0.6109 - val_loss: 0.8497 - val_acc: 0.6313\n",
      "Epoch 103/150\n",
      "282728/282728 [==============================] - 7s 24us/sample - loss: 0.8153 - acc: 0.6111 - val_loss: 0.8530 - val_acc: 0.6278\n",
      "Epoch 104/150\n",
      "282728/282728 [==============================] - 7s 25us/sample - loss: 0.8164 - acc: 0.6095 - val_loss: 0.8498 - val_acc: 0.6295\n",
      "Epoch 105/150\n",
      "282728/282728 [==============================] - 7s 24us/sample - loss: 0.8158 - acc: 0.6085 - val_loss: 0.8585 - val_acc: 0.6170\n",
      "Epoch 106/150\n"
     ]
    },
    {
     "name": "stdout",
     "output_type": "stream",
     "text": [
      "282728/282728 [==============================] - 6s 22us/sample - loss: 0.8158 - acc: 0.6114 - val_loss: 0.8572 - val_acc: 0.6239\n",
      "Epoch 107/150\n",
      "282728/282728 [==============================] - 6s 22us/sample - loss: 0.8158 - acc: 0.6118 - val_loss: 0.8525 - val_acc: 0.6274\n",
      "Epoch 108/150\n",
      "282728/282728 [==============================] - 7s 23us/sample - loss: 0.8152 - acc: 0.6099 - val_loss: 0.8497 - val_acc: 0.6267\n",
      "Epoch 109/150\n",
      "282728/282728 [==============================] - 7s 23us/sample - loss: 0.8161 - acc: 0.6102 - val_loss: 0.8504 - val_acc: 0.6297\n",
      "Epoch 110/150\n",
      "282728/282728 [==============================] - 6s 23us/sample - loss: 0.8158 - acc: 0.6110 - val_loss: 0.8515 - val_acc: 0.6289\n",
      "Epoch 111/150\n",
      "282728/282728 [==============================] - 6s 22us/sample - loss: 0.8158 - acc: 0.6115 - val_loss: 0.8509 - val_acc: 0.6273\n",
      "Epoch 112/150\n",
      "282728/282728 [==============================] - 6s 22us/sample - loss: 0.8155 - acc: 0.6128 - val_loss: 0.8503 - val_acc: 0.6270\n",
      "Epoch 113/150\n",
      "282728/282728 [==============================] - 6s 22us/sample - loss: 0.8157 - acc: 0.6115 - val_loss: 0.8537 - val_acc: 0.6316\n",
      "Epoch 114/150\n",
      "282728/282728 [==============================] - 7s 23us/sample - loss: 0.8163 - acc: 0.6096 - val_loss: 0.8529 - val_acc: 0.6325\n",
      "Epoch 115/150\n",
      "282728/282728 [==============================] - 6s 23us/sample - loss: 0.8157 - acc: 0.6084 - val_loss: 0.8519 - val_acc: 0.6275\n",
      "Epoch 116/150\n",
      "282728/282728 [==============================] - 6s 22us/sample - loss: 0.8156 - acc: 0.6117 - val_loss: 0.8514 - val_acc: 0.6358\n",
      "Epoch 117/150\n",
      "282728/282728 [==============================] - 7s 26us/sample - loss: 0.8160 - acc: 0.6124 - val_loss: 0.8496 - val_acc: 0.6280\n",
      "Epoch 118/150\n",
      "282728/282728 [==============================] - 6s 23us/sample - loss: 0.8155 - acc: 0.6115 - val_loss: 0.8519 - val_acc: 0.6291\n",
      "Epoch 119/150\n",
      "282728/282728 [==============================] - 6s 23us/sample - loss: 0.8159 - acc: 0.6095 - val_loss: 0.8568 - val_acc: 0.6283\n",
      "Epoch 120/150\n",
      "282728/282728 [==============================] - 6s 23us/sample - loss: 0.8153 - acc: 0.6125 - val_loss: 0.8526 - val_acc: 0.6339\n",
      "Epoch 121/150\n",
      "282728/282728 [==============================] - 7s 23us/sample - loss: 0.8159 - acc: 0.6079 - val_loss: 0.8576 - val_acc: 0.6271\n",
      "Epoch 122/150\n",
      "282728/282728 [==============================] - 6s 23us/sample - loss: 0.8151 - acc: 0.6124 - val_loss: 0.8540 - val_acc: 0.6294\n",
      "Epoch 123/150\n",
      "282728/282728 [==============================] - 6s 23us/sample - loss: 0.8164 - acc: 0.6128 - val_loss: 0.8475 - val_acc: 0.6294\n",
      "Epoch 124/150\n",
      "282728/282728 [==============================] - 6s 23us/sample - loss: 0.8159 - acc: 0.6106 - val_loss: 0.8553 - val_acc: 0.6263\n",
      "Epoch 125/150\n",
      "282728/282728 [==============================] - 6s 23us/sample - loss: 0.8155 - acc: 0.6114 - val_loss: 0.8581 - val_acc: 0.6301\n",
      "Epoch 126/150\n",
      "282728/282728 [==============================] - 6s 23us/sample - loss: 0.8163 - acc: 0.6131 - val_loss: 0.8529 - val_acc: 0.6188\n",
      "Epoch 127/150\n",
      "282728/282728 [==============================] - 6s 23us/sample - loss: 0.8155 - acc: 0.6100 - val_loss: 0.8556 - val_acc: 0.6275\n",
      "Epoch 128/150\n",
      "282728/282728 [==============================] - 6s 23us/sample - loss: 0.8158 - acc: 0.6113 - val_loss: 0.8569 - val_acc: 0.6289\n",
      "Epoch 129/150\n",
      "282728/282728 [==============================] - 7s 25us/sample - loss: 0.8167 - acc: 0.6106 - val_loss: 0.8648 - val_acc: 0.6377\n",
      "Epoch 130/150\n",
      "282728/282728 [==============================] - 6s 23us/sample - loss: 0.8146 - acc: 0.6121 - val_loss: 0.8485 - val_acc: 0.6325\n",
      "Epoch 131/150\n",
      "282728/282728 [==============================] - 7s 23us/sample - loss: 0.8159 - acc: 0.6106 - val_loss: 0.8541 - val_acc: 0.6296\n",
      "Epoch 132/150\n",
      "282728/282728 [==============================] - 7s 24us/sample - loss: 0.8156 - acc: 0.6113 - val_loss: 0.8560 - val_acc: 0.6295\n",
      "Epoch 133/150\n",
      "282728/282728 [==============================] - 7s 23us/sample - loss: 0.8168 - acc: 0.6115 - val_loss: 0.8503 - val_acc: 0.6259\n",
      "Epoch 134/150\n",
      "282728/282728 [==============================] - 7s 23us/sample - loss: 0.8154 - acc: 0.6112 - val_loss: 0.8567 - val_acc: 0.6379\n",
      "Epoch 135/150\n",
      "282728/282728 [==============================] - 7s 24us/sample - loss: 0.8166 - acc: 0.6092 - val_loss: 0.8580 - val_acc: 0.6276\n",
      "Epoch 136/150\n",
      "282728/282728 [==============================] - 7s 24us/sample - loss: 0.8156 - acc: 0.6102 - val_loss: 0.8499 - val_acc: 0.6290\n",
      "Epoch 137/150\n",
      "282728/282728 [==============================] - 7s 24us/sample - loss: 0.8159 - acc: 0.6088 - val_loss: 0.8574 - val_acc: 0.6262\n",
      "Epoch 138/150\n",
      "282728/282728 [==============================] - 7s 24us/sample - loss: 0.8162 - acc: 0.6086 - val_loss: 0.8514 - val_acc: 0.6251\n",
      "Epoch 139/150\n",
      "282728/282728 [==============================] - 7s 24us/sample - loss: 0.8165 - acc: 0.6080 - val_loss: 0.8547 - val_acc: 0.6337\n",
      "Epoch 140/150\n",
      "282728/282728 [==============================] - 7s 23us/sample - loss: 0.8156 - acc: 0.6105 - val_loss: 0.8544 - val_acc: 0.6282\n",
      "Epoch 141/150\n",
      "282728/282728 [==============================] - 7s 23us/sample - loss: 0.8151 - acc: 0.6111 - val_loss: 0.8504 - val_acc: 0.6315\n",
      "Epoch 142/150\n",
      "282728/282728 [==============================] - 7s 24us/sample - loss: 0.8150 - acc: 0.6102 - val_loss: 0.8524 - val_acc: 0.6282\n",
      "Epoch 143/150\n",
      "282728/282728 [==============================] - 7s 23us/sample - loss: 0.8152 - acc: 0.6112 - val_loss: 0.8549 - val_acc: 0.6302\n",
      "Epoch 144/150\n",
      "282728/282728 [==============================] - 7s 24us/sample - loss: 0.8161 - acc: 0.6107 - val_loss: 0.8542 - val_acc: 0.6287\n",
      "Epoch 145/150\n",
      "282728/282728 [==============================] - 7s 23us/sample - loss: 0.8160 - acc: 0.6104 - val_loss: 0.8560 - val_acc: 0.6308\n",
      "Epoch 146/150\n",
      "282728/282728 [==============================] - 7s 23us/sample - loss: 0.8156 - acc: 0.6125 - val_loss: 0.8537 - val_acc: 0.6300\n",
      "Epoch 147/150\n",
      "282728/282728 [==============================] - 7s 25us/sample - loss: 0.8155 - acc: 0.6117 - val_loss: 0.8576 - val_acc: 0.6301\n",
      "Epoch 148/150\n",
      "282728/282728 [==============================] - 7s 24us/sample - loss: 0.8160 - acc: 0.6126 - val_loss: 0.8573 - val_acc: 0.6272\n",
      "Epoch 149/150\n",
      "282728/282728 [==============================] - 7s 24us/sample - loss: 0.8156 - acc: 0.6111 - val_loss: 0.8520 - val_acc: 0.6338\n",
      "Epoch 150/150\n",
      "282728/282728 [==============================] - 7s 23us/sample - loss: 0.8145 - acc: 0.6108 - val_loss: 0.8548 - val_acc: 0.6280\n",
      "dict_keys(['loss', 'acc', 'val_loss', 'val_acc'])\n"
     ]
    },
    {
     "data": {
      "image/png": "[encoded data removed]",
      "text/plain": [
       "<matplotlib.figure.Figure at 0x2182eb966d8>"
      ]
     },
     "metadata": {},
     "output_type": "display_data"
    }
   ],
   "source": [
    "#building model architecture using Kera Sequential API\n",
    "model = Sequential()\n",
    "\n",
    "model.add(Dense(50, input_dim=X_train.shape[1], kernel_initializer='normal', activation='relu'))\n",
    "model.add(Dropout(0.4))\n",
    "model.add(Dense(30, activation='relu'))\n",
    "model.add(Dropout(0.3))\n",
    "model.add(Dense(15, activation='relu'))\n",
    "model.add(Dropout(0.2))\n",
    "model.add(Dense(3, activation='softmax'))\n",
    "model.summary()\n",
    "model.compile(loss = 'categorical_crossentropy', optimizer = 'adam', metrics=['accuracy'])\n",
    "history = model.fit(X_train, y_train, epochs=150, batch_size=100,  verbose=1, validation_split=0.2, \n",
    "                    class_weight = d_class_weights)\n",
    "\n",
    "#plotting training and validation loss during traing against number of epochs\n",
    "print(history.history.keys())\n",
    "# \"Loss\"\n",
    "plt.plot(history.history['loss'])\n",
    "plt.plot(history.history['val_loss'])\n",
    "plt.title('model loss')\n",
    "plt.ylabel('loss')\n",
    "plt.xlabel('epoch')\n",
    "plt.legend(['train', 'validation'], loc='upper left')\n",
    "plt.show()"
   ]
  },
  {
   "cell_type": "code",
   "execution_count": 83,
   "metadata": {},
   "outputs": [
    {
     "name": "stdout",
     "output_type": "stream",
     "text": [
      "Accuracy of ANN classifier on training set: 61.95\n",
      "Accuracy of ANN classifier on test set: 54.83\n"
     ]
    }
   ],
   "source": [
    "#accuracy score for training/test set\n",
    "print('Accuracy of ANN classifier on training set: {:.2f}'\n",
    "       .format(model.evaluate(X_train, y_train, verbose = 0)[1]*100))\n",
    "print('Accuracy of ANN classifier on test set: {:.2f}'\n",
    "       .format(model.evaluate(X_test, y_test, verbose = 0)[1]*100))"
   ]
  },
  {
   "cell_type": "code",
   "execution_count": 84,
   "metadata": {},
   "outputs": [],
   "source": [
    "#prediction on test data\n",
    "y_pred = (model.predict(X_test) >= 0.5).astype(int)\n",
    "\n",
    "#confusion matrix\n",
    "#from sklearn.metrics import confusion_matrix\n",
    "#print(confusion_matrix(y_test, y_pred))"
   ]
  },
  {
   "cell_type": "code",
   "execution_count": 85,
   "metadata": {},
   "outputs": [
    {
     "name": "stdout",
     "output_type": "stream",
     "text": [
      "              precision    recall  f1-score   support\n",
      "\n",
      "           0       0.73      0.57      0.64     22608\n",
      "           1       0.67      0.31      0.42     22546\n",
      "           2       0.26      0.57      0.36      5830\n",
      "\n",
      "   micro avg       0.57      0.46      0.51     50984\n",
      "   macro avg       0.55      0.48      0.47     50984\n",
      "weighted avg       0.65      0.46      0.51     50984\n",
      " samples avg       0.46      0.46      0.46     50984\n",
      "\n"
     ]
    }
   ],
   "source": [
    "print(classification_report(y_test, y_pred))"
   ]
  },
  {
   "cell_type": "markdown",
   "metadata": {},
   "source": [
    "#### Data Preparation For Validation Set"
   ]
  },
  {
   "cell_type": "code",
   "execution_count": 66,
   "metadata": {},
   "outputs": [
    {
     "name": "stdout",
     "output_type": "stream",
     "text": [
      "(16160, 15)\n"
     ]
    }
   ],
   "source": [
    "val_data = inv_data[~(inv_data['Invoice_Due_Date'].isin(model_data['Invoice_Due_Date']))]\n",
    "print(val_data.shape)"
   ]
  },
  {
   "cell_type": "code",
   "execution_count": 67,
   "metadata": {},
   "outputs": [
    {
     "name": "stdout",
     "output_type": "stream",
     "text": [
      "(2812, 15)\n"
     ]
    },
    {
     "data": {
      "text/html": [
       "<div>\n",
       "<style scoped>\n",
       "    .dataframe tbody tr th:only-of-type {\n",
       "        vertical-align: middle;\n",
       "    }\n",
       "\n",
       "    .dataframe tbody tr th {\n",
       "        vertical-align: top;\n",
       "    }\n",
       "\n",
       "    .dataframe thead th {\n",
       "        text-align: right;\n",
       "    }\n",
       "</style>\n",
       "<table border=\"1\" class=\"dataframe\">\n",
       "  <thead>\n",
       "    <tr style=\"text-align: right;\">\n",
       "      <th></th>\n",
       "      <th>Customer_ID</th>\n",
       "      <th>rec_pct_of_paid_invoices_in_time</th>\n",
       "      <th>rec_average_invoice_amount</th>\n",
       "      <th>rec_average_invoice_paid_in_days</th>\n",
       "      <th>rec_average_delay_in_days</th>\n",
       "    </tr>\n",
       "  </thead>\n",
       "  <tbody>\n",
       "    <tr>\n",
       "      <th>0</th>\n",
       "      <td>10114</td>\n",
       "      <td>1.000000</td>\n",
       "      <td>1648.848</td>\n",
       "      <td>44.4</td>\n",
       "      <td>0.0</td>\n",
       "    </tr>\n",
       "    <tr>\n",
       "      <th>1</th>\n",
       "      <td>10117</td>\n",
       "      <td>0.200000</td>\n",
       "      <td>66608.774</td>\n",
       "      <td>47.4</td>\n",
       "      <td>8.5</td>\n",
       "    </tr>\n",
       "    <tr>\n",
       "      <th>2</th>\n",
       "      <td>10118</td>\n",
       "      <td>0.619095</td>\n",
       "      <td>54195.510</td>\n",
       "      <td>46.4</td>\n",
       "      <td>1.0</td>\n",
       "    </tr>\n",
       "    <tr>\n",
       "      <th>3</th>\n",
       "      <td>10121</td>\n",
       "      <td>1.000000</td>\n",
       "      <td>23229.128</td>\n",
       "      <td>56.4</td>\n",
       "      <td>0.0</td>\n",
       "    </tr>\n",
       "    <tr>\n",
       "      <th>4</th>\n",
       "      <td>10128</td>\n",
       "      <td>0.600000</td>\n",
       "      <td>22251.956</td>\n",
       "      <td>33.4</td>\n",
       "      <td>0.0</td>\n",
       "    </tr>\n",
       "  </tbody>\n",
       "</table>\n",
       "</div>"
      ],
      "text/plain": [
       "   Customer_ID  rec_pct_of_paid_invoices_in_time  rec_average_invoice_amount  \\\n",
       "0        10114                          1.000000                    1648.848   \n",
       "1        10117                          0.200000                   66608.774   \n",
       "2        10118                          0.619095                   54195.510   \n",
       "3        10121                          1.000000                   23229.128   \n",
       "4        10128                          0.600000                   22251.956   \n",
       "\n",
       "   rec_average_invoice_paid_in_days  rec_average_delay_in_days  \n",
       "0                              44.4                        0.0  \n",
       "1                              47.4                        8.5  \n",
       "2                              46.4                        1.0  \n",
       "3                              56.4                        0.0  \n",
       "4                              33.4                        0.0  "
      ]
     },
     "execution_count": 67,
     "metadata": {},
     "output_type": "execute_result"
    }
   ],
   "source": [
    "#extracting up to last 5 invoices  for each customer to create features related to recent payment behavior for test data\n",
    "other_df = val_data.sort_values(by = ['Customer_ID', 'Fiscal_Period'], ascending = False).groupby('Customer_ID').head(5)\n",
    "print(other_df.shape)\n",
    "other_df2 = other_df[other_df['paid_status'] == 'invoice_paid_in_time'].groupby('Customer_ID')['paid_status'].count()/other_df.groupby('Customer_ID')['paid_status'].count()\n",
    "other_df2 = other_df2.reset_index()\n",
    "other_df2 = other_df2.rename(columns = {'paid_status': 'rec_pct_of_paid_invoices_in_time'})\n",
    "other_df2['rec_pct_of_paid_invoices_in_time'].fillna(np.mean(other_df2['rec_pct_of_paid_invoices_in_time']),inplace = True)\n",
    "other_df3 = other_df.groupby('Customer_ID')['Invoice_amount'].mean().reset_index()\n",
    "other_df3 = other_df3.rename(columns = {'Invoice_amount': 'rec_average_invoice_amount'})\n",
    "other_df4 = other_df.groupby('Customer_ID')['invoice_paid_in_days'].mean().reset_index()\n",
    "other_df4 = other_df4.rename(columns = {'invoice_paid_in_days': 'rec_average_invoice_paid_in_days'})\n",
    "other_df5 = other_df[other_df['paid_status'] != 'invoice_paid_in_time'].groupby('Customer_ID')['delay_in_days'].mean().reset_index()\n",
    "other_df5 = other_df5.rename(columns = {'delay_in_days': 'rec_average_delay_in_days'})\n",
    "\n",
    "#merging all\n",
    "df_list1 = [other_df2,other_df3,other_df4,other_df5]\n",
    "final_df_rec_val = reduce(lambda left,right: pd.merge(left,right,how = 'outer',on='Customer_ID'), df_list1)\n",
    "final_df_rec_val.fillna(0, inplace=True)\n",
    "final_df_rec_val.head()"
   ]
  },
  {
   "cell_type": "code",
   "execution_count": 68,
   "metadata": {},
   "outputs": [
    {
     "data": {
      "text/html": [
       "<div>\n",
       "<style scoped>\n",
       "    .dataframe tbody tr th:only-of-type {\n",
       "        vertical-align: middle;\n",
       "    }\n",
       "\n",
       "    .dataframe tbody tr th {\n",
       "        vertical-align: top;\n",
       "    }\n",
       "\n",
       "    .dataframe thead th {\n",
       "        text-align: right;\n",
       "    }\n",
       "</style>\n",
       "<table border=\"1\" class=\"dataframe\">\n",
       "  <thead>\n",
       "    <tr style=\"text-align: right;\">\n",
       "      <th></th>\n",
       "      <th>Customer_ID</th>\n",
       "      <th>Country_ID</th>\n",
       "      <th>Invoice_amount</th>\n",
       "      <th>invoice_due_in_days</th>\n",
       "      <th>invoice_paid_in_days</th>\n",
       "      <th>delay_in_days</th>\n",
       "      <th>cnt_dispute_PO</th>\n",
       "      <th>dispute_PO_amt</th>\n",
       "    </tr>\n",
       "  </thead>\n",
       "  <tbody>\n",
       "    <tr>\n",
       "      <th>0</th>\n",
       "      <td>10114</td>\n",
       "      <td>77</td>\n",
       "      <td>1898.780000</td>\n",
       "      <td>33.294118</td>\n",
       "      <td>32.823529</td>\n",
       "      <td>0.000000</td>\n",
       "      <td>27.0</td>\n",
       "      <td>977.556296</td>\n",
       "    </tr>\n",
       "    <tr>\n",
       "      <th>1</th>\n",
       "      <td>10117</td>\n",
       "      <td>77</td>\n",
       "      <td>47056.892308</td>\n",
       "      <td>43.000000</td>\n",
       "      <td>43.846154</td>\n",
       "      <td>2.615385</td>\n",
       "      <td>88.0</td>\n",
       "      <td>414.632841</td>\n",
       "    </tr>\n",
       "    <tr>\n",
       "      <th>2</th>\n",
       "      <td>10118</td>\n",
       "      <td>77</td>\n",
       "      <td>56821.320435</td>\n",
       "      <td>36.782609</td>\n",
       "      <td>37.217391</td>\n",
       "      <td>0.434783</td>\n",
       "      <td>7.0</td>\n",
       "      <td>8996.235714</td>\n",
       "    </tr>\n",
       "    <tr>\n",
       "      <th>3</th>\n",
       "      <td>10121</td>\n",
       "      <td>77</td>\n",
       "      <td>41316.575665</td>\n",
       "      <td>40.515021</td>\n",
       "      <td>39.836910</td>\n",
       "      <td>0.000000</td>\n",
       "      <td>158.0</td>\n",
       "      <td>5537.083671</td>\n",
       "    </tr>\n",
       "    <tr>\n",
       "      <th>4</th>\n",
       "      <td>10128</td>\n",
       "      <td>77</td>\n",
       "      <td>20286.776667</td>\n",
       "      <td>36.000000</td>\n",
       "      <td>33.833333</td>\n",
       "      <td>0.000000</td>\n",
       "      <td>3.0</td>\n",
       "      <td>228.580000</td>\n",
       "    </tr>\n",
       "  </tbody>\n",
       "</table>\n",
       "</div>"
      ],
      "text/plain": [
       "   Customer_ID  Country_ID  Invoice_amount  invoice_due_in_days  \\\n",
       "0        10114          77     1898.780000            33.294118   \n",
       "1        10117          77    47056.892308            43.000000   \n",
       "2        10118          77    56821.320435            36.782609   \n",
       "3        10121          77    41316.575665            40.515021   \n",
       "4        10128          77    20286.776667            36.000000   \n",
       "\n",
       "   invoice_paid_in_days  delay_in_days  cnt_dispute_PO  dispute_PO_amt  \n",
       "0             32.823529       0.000000            27.0      977.556296  \n",
       "1             43.846154       2.615385            88.0      414.632841  \n",
       "2             37.217391       0.434783             7.0     8996.235714  \n",
       "3             39.836910       0.000000           158.0     5537.083671  \n",
       "4             33.833333       0.000000             3.0      228.580000  "
      ]
     },
     "execution_count": 68,
     "metadata": {},
     "output_type": "execute_result"
    }
   ],
   "source": [
    "#calculate historical variables - training data\n",
    "final_df_hist_val = val_data.groupby(['Customer_ID','Country_ID'])[['Invoice_amount','invoice_due_in_days',\n",
    "                                                                  'invoice_paid_in_days','delay_in_days',\n",
    "                                                                     'cnt_dispute_PO','dispute_PO_amt']].mean().reset_index()\n",
    "final_df_hist_val.head()"
   ]
  },
  {
   "cell_type": "code",
   "execution_count": 70,
   "metadata": {},
   "outputs": [],
   "source": [
    "df_list4 = [final_df_hist_val, final_df_rec_val,final_df]\n",
    "val_feats = reduce(lambda left,right: pd.merge(left, right, how = 'inner',on='Customer_ID'), df_list4)"
   ]
  },
  {
   "cell_type": "code",
   "execution_count": 71,
   "metadata": {},
   "outputs": [
    {
     "name": "stdout",
     "output_type": "stream",
     "text": [
      "(16160, 32)\n"
     ]
    }
   ],
   "source": [
    "val_data = pd.merge(val_data, val_feats, how = 'outer',on = ['Customer_ID','Country_ID'])\n",
    "print(val_data.shape)"
   ]
  },
  {
   "cell_type": "code",
   "execution_count": 72,
   "metadata": {},
   "outputs": [
    {
     "name": "stdout",
     "output_type": "stream",
     "text": [
      "(16160, 26)\n"
     ]
    }
   ],
   "source": [
    "#remove vars calculated over entire dataset\n",
    "val_data.drop(['Invoice_amount_x','invoice_due_in_days_x','invoice_paid_in_days_x','delay_in_days_x',\n",
    "               'cnt_dispute_PO_x','dispute_PO_amt_x'],1,inplace = True)\n",
    "val_data = val_data.rename(columns = {'Invoice_amount_y':'avg_invoice_amount','invoice_due_in_days_y':'avg_due_in_days',\n",
    "                  'invoice_paid_in_days_y':'avg_invoice_paid_in_days','delay_in_days_y':'avg_delay_in_days',\n",
    "                                       'cnt_dispute_PO_y':'cnt_dispute_PO','dispute_PO_amt_y':'dispute_PO_amt'})\n",
    "print(val_data.shape)"
   ]
  },
  {
   "cell_type": "code",
   "execution_count": 73,
   "metadata": {},
   "outputs": [],
   "source": [
    "#converting target variable to numeric code\n",
    "val_data['target'] = np.where(val_data['paid_status'] == 'invoice_paid_in_time',0,\n",
    "                               np.where(val_data['paid_status'] == 'invoice_paid_in_same_month',1,2))"
   ]
  },
  {
   "cell_type": "code",
   "execution_count": 74,
   "metadata": {},
   "outputs": [],
   "source": [
    "#Handling Categorical Feature - convert catgoeical features to dummy vars using 1 hot encoding\n",
    "cat_vars = ['Country_ID','cnt_invoice']\n",
    "\n",
    "for var in cat_vars:\n",
    "    cat_list='var'+'_'+var\n",
    "    cat_list = pd.get_dummies(val_data[var], prefix=var)\n",
    "    df1=val_data.join(cat_list)\n",
    "    val_data=df1\n",
    "    \n",
    "data_vars=df1.columns.values.tolist()\n",
    "to_keep=[i for i in data_vars if i not in cat_vars]"
   ]
  },
  {
   "cell_type": "code",
   "execution_count": 75,
   "metadata": {},
   "outputs": [
    {
     "name": "stdout",
     "output_type": "stream",
     "text": [
      "(16160, 36)\n"
     ]
    }
   ],
   "source": [
    "val_data['cnt_dispute_PO'].fillna(0, inplace = True)\n",
    "val_data['dispute_PO_amt'].fillna(0, inplace = True)\n",
    "print(val_data.shape)"
   ]
  },
  {
   "cell_type": "code",
   "execution_count": 112,
   "metadata": {},
   "outputs": [
    {
     "data": {
      "text/plain": [
       "2    9167\n",
       "0    4108\n",
       "1    2885\n",
       "Name: target, dtype: int64"
      ]
     },
     "execution_count": 112,
     "metadata": {},
     "output_type": "execute_result"
    }
   ],
   "source": [
    "val_data['target'].value_counts()"
   ]
  },
  {
   "cell_type": "code",
   "execution_count": 110,
   "metadata": {},
   "outputs": [
    {
     "name": "stdout",
     "output_type": "stream",
     "text": [
      "[[3082  535  491]\n",
      " [ 724 1940  221]\n",
      " [3769 3386 2012]]\n",
      "              precision    recall  f1-score   support\n",
      "\n",
      "           0       0.41      0.75      0.53      4108\n",
      "           1       0.33      0.67      0.44      2885\n",
      "           2       0.74      0.22      0.34      9167\n",
      "\n",
      "    accuracy                           0.44     16160\n",
      "   macro avg       0.49      0.55      0.44     16160\n",
      "weighted avg       0.58      0.44      0.41     16160\n",
      "\n"
     ]
    }
   ],
   "source": [
    "#scoring using RF model\n",
    "val_pred = rf_model.predict(val_data[selvars1])\n",
    "print(confusion_matrix(val_data['target'],val_pred))\n",
    "print(classification_report(val_data['target'],val_pred))"
   ]
  },
  {
   "cell_type": "code",
   "execution_count": 111,
   "metadata": {},
   "outputs": [
    {
     "name": "stdout",
     "output_type": "stream",
     "text": [
      "[[ 332 3774    2]\n",
      " [  26 2847   12]\n",
      " [ 215 8947    5]]\n",
      "              precision    recall  f1-score   support\n",
      "\n",
      "           0       0.58      0.08      0.14      4108\n",
      "           1       0.18      0.99      0.31      2885\n",
      "           2       0.26      0.00      0.00      9167\n",
      "\n",
      "    accuracy                           0.20     16160\n",
      "   macro avg       0.34      0.36      0.15     16160\n",
      "weighted avg       0.33      0.20      0.09     16160\n",
      "\n"
     ]
    }
   ],
   "source": [
    "#scoring using ANN model\n",
    "val_pred1 = model.predict_classes(val_data[selvars1])\n",
    "print(confusion_matrix(val_data['target'],val_pred1))\n",
    "print(classification_report(val_data['target'],val_pred1))"
   ]
  },
  {
   "cell_type": "code",
   "execution_count": null,
   "metadata": {},
   "outputs": [],
   "source": []
  }
 ],
 "metadata": {
  "kernelspec": {
   "display_name": "Python 3",
   "language": "python",
   "name": "python3"
  },
  "language_info": {
   "codemirror_mode": {
    "name": "ipython",
    "version": 3
   },
   "file_extension": ".py",
   "mimetype": "text/x-python",
   "name": "python",
   "nbconvert_exporter": "python",
   "pygments_lexer": "ipython3",
   "version": "3.6.4"
  }
 },
 "nbformat": 4,
 "nbformat_minor": 2
}
